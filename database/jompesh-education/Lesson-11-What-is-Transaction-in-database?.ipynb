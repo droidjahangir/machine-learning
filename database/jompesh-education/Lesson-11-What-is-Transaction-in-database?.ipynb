{
 "cells": [
  {
   "cell_type": "markdown",
   "metadata": {},
   "source": [
    "# Lesson 11: What is Transaction in database?"
   ]
  },
  {
   "cell_type": "markdown",
   "metadata": {},
   "source": [
    "ডাটাগুলো insert অথবা update করার সময় যদি দেখা যায় যে হঠাৎ করে কোন সমস্যা হয়ে গেছে তখন কিছু ডাটা বাকি থাকতেই সমস্যাটি হয়ে গেলো এই সমস্যা সমাধান করার জন্য transaction use করা হয় । transaction এর কাজ হচ্ছে হয় সব ডাটা আপডেট হবে নাহয় কোন ডাটাই আপডেট হবে না । আর কাজ শেষে commit করতে হয় । অনেক ডাটাবেজ সফটওয়্যারেই লাগে না ।\n",
    "![Transaction in database](./images/11.1.png)"
   ]
  },
  {
   "cell_type": "code",
   "execution_count": null,
   "metadata": {},
   "outputs": [],
   "source": []
  }
 ],
 "metadata": {
  "kernelspec": {
   "display_name": "Python 3",
   "language": "python",
   "name": "python3"
  },
  "language_info": {
   "codemirror_mode": {
    "name": "ipython",
    "version": 3
   },
   "file_extension": ".py",
   "mimetype": "text/x-python",
   "name": "python",
   "nbconvert_exporter": "python",
   "pygments_lexer": "ipython3",
   "version": "3.7.0"
  }
 },
 "nbformat": 4,
 "nbformat_minor": 2
}
