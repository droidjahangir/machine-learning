{
 "cells": [
  {
   "cell_type": "markdown",
   "metadata": {},
   "source": [
    "# RDBMS Lesson4 : Introduction to SQL Part 1\n",
    "\n",
    "\n",
    "![SQL part 1](./images/4.1.png)\n",
    "\n",
    "__History__\n",
    "![SQL part 1](./images/4.2.png)\n",
    "\n",
    "__Data definition language__\n",
    "![SQL part 1](./images/4.3.png)\n",
    "\n",
    "**Domain types in SQL**\n",
    "![SQL part 1](./images/4.4.png)\n",
    "char(n) - n এর মান যত সেই ভেরিয়েবল তত পরিমাণ জায়গাই দখল করবে   \n",
    "varchar(n) - n এর মান যাই হোক না ক্যান ঐ ভেরিয়েবলের সাইজ অনুযায়ী সে জায়গা দখল করবে অর্থাৎ সাইজ vary করতে পারে  \n",
    "int - 32 bit  \n",
    "smallint - 8 bit\n",
    "\n",
    "**Create table construct**\n",
    "![SQL part 1](./images/4.5.png)\n",
    "\n",
    "__Integrity constraints in create table__\n",
    "![SQL part 1](./images/4.6.png)\n",
    "![SQL part 1](./images/4.7.png)\n",
    "একাধিক key কে প্রাইমারি key হিসেবে declare করা যাবে , এক্ষেত্রে candidade key গুলোকে কমা দিয়ে দিয়ে declare করতে হবে  \n",
    "![SQL part 1](./images/4.8.png)\n",
    "প্রাইমারি key টা প্রথমেও declare করা যাবে  \n",
    "\n",
    "__drope and alter table construct__\n",
    "![SQL part 1](./images/4.9.png)\n",
    "\n",
    "__basic query structure__  \n",
    "Data manipulation language\n",
    "![SQL part 1](./images/4.10.png)\n",
    "\n",
    "__The select clause__\n",
    "![SQL part 1](./images/3.7.png)\n",
    "![SQL part 1](./images/4.11.png)\n",
    "![SQL part 1](./images/4.12.png)\n",
    "![SQL part 1](./images/4.13.png)\n",
    "\n",
    "__The where clause__\n",
    "![SQL part 1](./images/4.14.png)\n",
    "\n",
    "__The from clause__\n",
    "![SQL part 1](./images/4.15.png)\n",
    "\n",
    "\n",
    "\n",
    "![SQL part 1](./images/4.16.png)"
   ]
  },
  {
   "cell_type": "code",
   "execution_count": null,
   "metadata": {},
   "outputs": [],
   "source": []
  }
 ],
 "metadata": {
  "kernelspec": {
   "display_name": "Python 3",
   "language": "python",
   "name": "python3"
  },
  "language_info": {
   "codemirror_mode": {
    "name": "ipython",
    "version": 3
   },
   "file_extension": ".py",
   "mimetype": "text/x-python",
   "name": "python",
   "nbconvert_exporter": "python",
   "pygments_lexer": "ipython3",
   "version": "3.7.0"
  }
 },
 "nbformat": 4,
 "nbformat_minor": 2
}
