{
 "cells": [
  {
   "cell_type": "markdown",
   "metadata": {},
   "source": [
    "# Lesson 7: Introduction to SQL Part 4"
   ]
  },
  {
   "cell_type": "markdown",
   "metadata": {},
   "source": [
    "### Aggregation\n",
    "![SQL part 4](./images/3.7.png)\n",
    "![SQL part 4](./images/7.1.png)\n",
    "![SQL part 4](./images/7.2.png)\n",
    "astrics (*) চিহ্ন মানে হচ্ছে সব রো এর সংখ্যা নিয়ে আসবে \n",
    "\n",
    "\n",
    "### Aggregate functions `group by`\n",
    "![SQL part 4](./images/7.3.png)\n",
    "যদি আমরা কোন গ্রুপ এর উপড়ে কোন অপারেশন চালিয়ে কোন কিছু বের করে আনতে চাই তাহলে `group by` ব্যাবহার করতে হয় । \n",
    "![SQL part 4](./images/7.4.png)\n",
    "select clause এর মদ্ধে aggregate ছাড়া যা থাকবে সেগুলোর সব কয়টা `group by` এর মদ্ধে থাকতে হবে না হয় এরর দিবে । \n",
    "\n",
    "### Aggregate functions `having` \n",
    "![SQL part 4](./images/7.5.png)\n",
    "having টা সব সময় `group by` এর পর ব্যাবহার করা হয় কারণ group by অপারেশন ফিল্টার করে যে রেজাল্টটা রিটার্ন করে তার উপড়ে `having` ক্লোজটা কাজ করে কিন্তু having এর জায়গায় যদি where ব্যাবহার করা হতো তখন group by অপারেশনের আগেই where ক্লোজের ফিল্টারটা আগে কাজ করতো এর পর group by কাজ করতো । \n",
    "\n",
    "### null values and aggregate\n",
    "![SQL part 4](./images/7.6.png)\n",
    "শুধুমাত্র `count(*)` aggregate function null count করে কিন্তু অন্য বাকি সবগুলো ফাংশন null count করে না \n",
    "\n",
    "\n",
    "### Nested Subquery\n",
    "![SQL part 4](./images/7.7.png)\n",
    "![SQL part 4](./images/7.8.png)\n",
    "`from` এবং `where` এর মদ্ধে আমরা সাব কুয়েরি দিতে পারি কিন্তু `select` এর মদ্ধে সাব কুয়েরি দিতে পারবো না । from এর মাঝে সাব কুয়েরি দিলে আলাদা টেবিল হিসেবে ট্রিট করবে । \n",
    "![SQL part 4](./images/7.9.png)\n",
    "where এ যা থাকবে sub query র select এর মদ্ধেও সেগুলো থাকতে হবে । কারণ where এবং select এর মধ্যে tuple গুলো ম্যাচ করে । \n",
    "\n",
    "### Set comparison\n",
    "![SQL part 4](./images/7.10.png)\n",
    "\n",
    "\n",
    "### Definition of `some` clause\n",
    "![SQL part 4](./images/7.11.png)\n",
    "যদি এমন দরকার হয় যে কোন একটা element কোন কন্ডিশন ফিলাপ করলেই সেই element টা নিয়ে আসবো তখন `some` ব্যাবহার করতে হয় । \n",
    "\n",
    "\n",
    "### `all` clause\n",
    "![SQL part 4](./images/7.12.png)\n",
    "![SQL part 4](./images/7.13.png)\n",
    "\n",
    "### `exists` clause\n",
    "![SQL part 4](./images/7.14.png)\n",
    "কোন particular item কোন টেবিলে আছে কিনা এইটা দেখার জন্য `exists` clause ব্যাবহার করা হয় । \n",
    "\n",
    "### correlation variables\n",
    "![SQL part 4](./images/7.15.png)\n",
    "\n",
    "### `not exitsts`\n",
    "![SQL part 4](./images/7.16.png)\n",
    "\n",
    "### `unique`\n",
    "![SQL part 4](./images/7.17.png)\n",
    "\n",
    "### Subqueris in the `From` clause\n",
    "![SQL part 4](./images/7.18.png)\n",
    "\n",
    "\n",
    "### `lateral`\n",
    "![SQL part 4](./images/7.19.png)\n",
    "\n",
    "### `with` \n",
    "![SQL part 4](./images/7.20.png)\n",
    "![SQL part 4](./images/7.21.png)\n",
    "\n",
    "\n",
    "### Scalar subsequence\n",
    "![SQL part 4](./images/7.22.png)"
   ]
  },
  {
   "cell_type": "markdown",
   "metadata": {},
   "source": []
  }
 ],
 "metadata": {
  "kernelspec": {
   "display_name": "Python 3",
   "language": "python",
   "name": "python3"
  },
  "language_info": {
   "codemirror_mode": {
    "name": "ipython",
    "version": 3
   },
   "file_extension": ".py",
   "mimetype": "text/x-python",
   "name": "python",
   "nbconvert_exporter": "python",
   "pygments_lexer": "ipython3",
   "version": "3.7.0"
  }
 },
 "nbformat": 4,
 "nbformat_minor": 2
}
