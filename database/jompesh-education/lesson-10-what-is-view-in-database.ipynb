{
 "cells": [
  {
   "cell_type": "markdown",
   "metadata": {},
   "source": [
    "# Lesson 10 what is view in database"
   ]
  },
  {
   "cell_type": "markdown",
   "metadata": {},
   "source": [
    "__view হচ্ছে একটি ভার্চুয়াল লেয়ার যেটা কিনা ফিজিক্যাল টেবিলের উপড়ে কাজ করে__\n",
    "![view](./images/10.1.png)\n",
    "কোন ইনফরমেশন হাইড করার জন্য ভিউ ব্যাবহার করতে হয় \n",
    "\n",
    "### view definition\n",
    "![view](./images/10.2.png)\n",
    "\n",
    "### example views\n",
    "![view](./images/10.3.png)\n",
    "\n",
    "### views define using other view\n",
    "![view](./images/10.4.png)\n",
    "\n",
    "### view expansion\n",
    "![view](./images/10.5.png)\n",
    "nested, complex query র মাদ্ধমে ইনফরমেশন বের করা যাবে ।\n",
    "![view](./images/10.6.png)\n",
    "![view](./images/10.7.png)\n",
    "\n",
    "### Update of a view\n",
    "![view](./images/10.8.png)\n",
    "\n",
    "### some update can't be translated uniquely\n",
    "![view](./images/10.9.png)\n",
    "\n",
    "\n",
    "### Materialized view\n",
    "![view](./images/10.10.png)\n",
    "নরমালি view তে লজিকালি টেবিলগুলো ক্রিয়েট হয় কিন্তু ফিজাকালি ষ্টোর হয় না । এখানে ডাটা গুলো অফলাইনে ষ্টোর হয় ফিজিক্যালি তাই আপডেট রাখতে হয় নাহয় certain time পর সেটা out of date হয়ে যাবে "
   ]
  },
  {
   "cell_type": "code",
   "execution_count": null,
   "metadata": {},
   "outputs": [],
   "source": []
  }
 ],
 "metadata": {
  "kernelspec": {
   "display_name": "Python 3",
   "language": "python",
   "name": "python3"
  },
  "language_info": {
   "codemirror_mode": {
    "name": "ipython",
    "version": 3
   },
   "file_extension": ".py",
   "mimetype": "text/x-python",
   "name": "python",
   "nbconvert_exporter": "python",
   "pygments_lexer": "ipython3",
   "version": "3.7.0"
  }
 },
 "nbformat": 4,
 "nbformat_minor": 2
}
