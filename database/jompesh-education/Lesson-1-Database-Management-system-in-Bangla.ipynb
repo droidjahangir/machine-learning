{
 "cells": [
  {
   "cell_type": "markdown",
   "metadata": {},
   "source": [
    "# Database Management system by Polas [Jompesh Education](https://www.youtube.com/playlist?list=PLgzGtvkMZr9l4HeUwpGH6MWnCH3PGn-ic)\n",
    "\n",
    "### Lesson1 Database Management system"
   ]
  },
  {
   "cell_type": "markdown",
   "metadata": {},
   "source": [
    "Database management system :\n",
    "1. Oracle\n",
    "2. mysql\n",
    "3. microsoft sql\n",
    "4. postgre\n",
    "\n",
    "__What is database ?__\n",
    "![database management system](./images/1.1.png)\n",
    "\n",
    "__What is database management system ?__\n",
    "![database management system](./images/1.2.png)\n",
    "\n",
    "__What is the task of database management system ?__\n",
    "![database management system](./images/1.3.png)\n",
    "\n",
    "![database management system](./images/1.4.png)\n",
    "\n",
    "__Architecture of Distributed computer system__\n",
    "![database management system](./images/1.5.png)\n",
    "\n",
    "![database management system](./images/1.6.png)\n",
    "\n",
    "![database management system](./images/1.7.png)\n",
    "\n",
    "![database management system](./images/1.8.png)\n",
    "\n",
    "![database management system](./images/1.9.png)\n",
    "\n",
    "![database management system](./images/1.10.png)\n",
    "\n",
    "![database management system](./images/1.11.png)\n",
    "\n",
    "![database management system](./images/1.12.png)"
   ]
  },
  {
   "cell_type": "code",
   "execution_count": null,
   "metadata": {},
   "outputs": [],
   "source": []
  }
 ],
 "metadata": {
  "kernelspec": {
   "display_name": "Python 3",
   "language": "python",
   "name": "python3"
  },
  "language_info": {
   "codemirror_mode": {
    "name": "ipython",
    "version": 3
   },
   "file_extension": ".py",
   "mimetype": "text/x-python",
   "name": "python",
   "nbconvert_exporter": "python",
   "pygments_lexer": "ipython3",
   "version": "3.7.0"
  }
 },
 "nbformat": 4,
 "nbformat_minor": 2
}
