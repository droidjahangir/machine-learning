{
 "cells": [
  {
   "cell_type": "markdown",
   "metadata": {},
   "source": [
    "#  Intermediate SQL\n",
    "# Lesson 9 : What are Join expressions in database?"
   ]
  },
  {
   "cell_type": "markdown",
   "metadata": {},
   "source": [
    "![Intermediate SQL](./images/9.1.png)\n",
    "\n",
    "### join relation\n",
    "![Intermediate SQL](./images/9.2.png)\n",
    "\n",
    "### join operation\n",
    "![Intermediate SQL](./images/9.3.png)\n",
    "\n",
    "### outer join\n",
    "![Intermediate SQL](./images/9.4.png)\n",
    "outer join - যে গুলো কমন পরবে সেগুলো নিবে আবার যেগুলো কমন পরবে না সেগুলোও নিবে  \n",
    "\n",
    "### left outer join\n",
    "![Intermediate SQL](./images/9.5.png)\n",
    "left outer join - left সাইডের টেবিলের সব ই নিবে আর right সাইডের টেবিলের শুধু কমন গুলো নিবে আর যেগুলোতে কমন নাই সেই জায়গা গুলোতে `nulll` বসিয়ে দিবে \n",
    "\n",
    "### right outer join\n",
    "![Intermediate SQL](./images/9.6.png)\n",
    "\n",
    "### joined relations\n",
    "![Intermediate SQL](./images/9.7.png)\n",
    "\n",
    "### full outer join\n",
    "![Intermediate SQL](./images/9.8.png)\n",
    "full outer join এ common uncommon সব ই নেয় \n",
    "\n",
    "### inner join\n",
    "![Intermediate SQL](./images/9.9.png)\n",
    "inner join এ শুধু মাত্র কমন অংশটুকুই নিয়ে আশে ।\n",
    "\n",
    "### `on` vs `using`\n",
    "![Intermediate SQL](./images/9.10.png)"
   ]
  },
  {
   "cell_type": "code",
   "execution_count": null,
   "metadata": {},
   "outputs": [],
   "source": []
  }
 ],
 "metadata": {
  "kernelspec": {
   "display_name": "Python 3",
   "language": "python",
   "name": "python3"
  },
  "language_info": {
   "codemirror_mode": {
    "name": "ipython",
    "version": 3
   },
   "file_extension": ".py",
   "mimetype": "text/x-python",
   "name": "python",
   "nbconvert_exporter": "python",
   "pygments_lexer": "ipython3",
   "version": "3.7.0"
  }
 },
 "nbformat": 4,
 "nbformat_minor": 2
}
