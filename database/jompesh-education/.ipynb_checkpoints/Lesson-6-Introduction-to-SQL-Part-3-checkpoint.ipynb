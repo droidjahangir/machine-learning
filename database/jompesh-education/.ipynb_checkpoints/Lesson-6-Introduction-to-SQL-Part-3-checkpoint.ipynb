{
 "cells": [
  {
   "cell_type": "markdown",
   "metadata": {},
   "source": [
    "# Lesson 6 : Introduction to SQL Part 3"
   ]
  },
  {
   "cell_type": "markdown",
   "metadata": {},
   "source": [
    "### String operation\n",
    "![sql part 3](./images/3.7.png)\n",
    "![sql part 3](./images/6.1.png)\n",
    "![sql part 3](./images/6.2.png)\n",
    "\n",
    "### Ordering\n",
    "![sql part 3](./images/6.3.png)\n",
    "\n",
    "### Where clause predicates (between)\n",
    "![sql part 3](./images/6.4.png)\n",
    "\n",
    "### Duplicates\n",
    "![sql part 3](./images/6.5.png)\n",
    "![sql part 3](./images/6.6.png)\n",
    "\n",
    "### Set operation\n",
    "![sql part 3](./images/6.7.png)\n",
    "![sql part 3](./images/6.8.png)\n",
    "\n",
    "### Null values\n",
    "![sql part 3](./images/6.9.png)\n",
    "![sql part 3](./images/6.10.png)\n",
    "\n"
   ]
  },
  {
   "cell_type": "code",
   "execution_count": null,
   "metadata": {},
   "outputs": [],
   "source": []
  }
 ],
 "metadata": {
  "kernelspec": {
   "display_name": "Python 3",
   "language": "python",
   "name": "python3"
  },
  "language_info": {
   "codemirror_mode": {
    "name": "ipython",
    "version": 3
   },
   "file_extension": ".py",
   "mimetype": "text/x-python",
   "name": "python",
   "nbconvert_exporter": "python",
   "pygments_lexer": "ipython3",
   "version": "3.7.0"
  }
 },
 "nbformat": 4,
 "nbformat_minor": 2
}
