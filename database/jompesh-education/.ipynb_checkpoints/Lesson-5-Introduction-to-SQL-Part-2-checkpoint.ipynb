{
 "cells": [
  {
   "cell_type": "markdown",
   "metadata": {},
   "source": [
    "# Lesson 5 : Introduction to SQL Part 2"
   ]
  },
  {
   "cell_type": "markdown",
   "metadata": {},
   "source": [
    "### Joins\n",
    "![SQL part 2](./images/3.7.png)\n",
    "![SQL part 2](./images/5.1.png)\n",
    "\n",
    "### Natural join\n",
    "![SQL part 2](./images/5.2.png)\n",
    "![SQL part 2](./images/5.3.png)\n",
    "Natural join এ where ক্লোজ ব্যাবহার না করেও সেম রেজাল্ট পাওয়া যায় । \n",
    "![SQL part 2](./images/5.4.png)\n",
    "incorrect version এ প্রথম ২টা টেবিলকে ন্যাচারাল জয়েন করে এরপর নেক্সট টেবিলের সাথে ন্যাচারাল জয়েন করে   \n",
    "correct version এ প্রথম ২টা েবিলকে ন্যাচারাল জয়েন করে এরপর নেক্সট টেবিলকে আলাদা টেবিল হিসেবে ট্রিট করে \n",
    "\n",
    "### Rename operation\n",
    "![SQL part 2](./images/5.5.png)\n",
    "\n"
   ]
  },
  {
   "cell_type": "code",
   "execution_count": null,
   "metadata": {},
   "outputs": [],
   "source": []
  }
 ],
 "metadata": {
  "kernelspec": {
   "display_name": "Python 3",
   "language": "python",
   "name": "python3"
  },
  "language_info": {
   "codemirror_mode": {
    "name": "ipython",
    "version": 3
   },
   "file_extension": ".py",
   "mimetype": "text/x-python",
   "name": "python",
   "nbconvert_exporter": "python",
   "pygments_lexer": "ipython3",
   "version": "3.7.0"
  }
 },
 "nbformat": 4,
 "nbformat_minor": 2
}
