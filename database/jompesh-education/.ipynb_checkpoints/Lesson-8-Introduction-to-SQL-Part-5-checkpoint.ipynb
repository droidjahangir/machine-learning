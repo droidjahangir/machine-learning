{
 "cells": [
  {
   "cell_type": "markdown",
   "metadata": {},
   "source": [
    "# Lesson 8 : Introduction to SQL Part 5"
   ]
  },
  {
   "cell_type": "markdown",
   "metadata": {},
   "source": [
    "### `Deletion`\n",
    "![SQl part 5](./images/8.1.png)\n",
    "![SQl part 5](./images/8.2.png)\n",
    "\n",
    "### `Insertion`\n",
    "![SQl part 5](./images/8.3.png)\n",
    "![SQl part 5](./images/8.4.png)\n",
    "\n",
    "### `Updates`\n",
    "![SQl part 5](./images/8.5.png)\n",
    "\n",
    "### `Case`\n",
    "![SQl part 5](./images/8.6.png)\n",
    "![SQl part 5](./images/8.7.png)"
   ]
  },
  {
   "cell_type": "code",
   "execution_count": null,
   "metadata": {},
   "outputs": [],
   "source": []
  }
 ],
 "metadata": {
  "kernelspec": {
   "display_name": "Python 3",
   "language": "python",
   "name": "python3"
  },
  "language_info": {
   "codemirror_mode": {
    "name": "ipython",
    "version": 3
   },
   "file_extension": ".py",
   "mimetype": "text/x-python",
   "name": "python",
   "nbconvert_exporter": "python",
   "pygments_lexer": "ipython3",
   "version": "3.7.0"
  }
 },
 "nbformat": 4,
 "nbformat_minor": 2
}
