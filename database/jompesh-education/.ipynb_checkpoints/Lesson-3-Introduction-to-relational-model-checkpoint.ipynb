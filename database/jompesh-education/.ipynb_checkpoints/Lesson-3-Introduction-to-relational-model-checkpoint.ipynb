{
 "cells": [
  {
   "cell_type": "markdown",
   "metadata": {},
   "source": [
    "# Lesson 3 : Introduction to relational model"
   ]
  },
  {
   "cell_type": "markdown",
   "metadata": {},
   "source": [
    "__Example of a relation__  \n",
    "Table কে বলে রিলেশন \n",
    "![Relational model](./images/3.1.png)\n",
    "\n",
    "__Attribute type__\n",
    "![Relational model](./images/3.2.png)\n",
    "\n",
    "![Relational model](./images/3.3.png)\n",
    "\n",
    "orderly করতে গেলে SQL কমান্ড দিয়ে করতে হবে \n",
    "![Relational model](./images/3.4.png)\n",
    "\n",
    "![Relational model](./images/3.5.png)\n",
    "![Relational model](./images/3.6.png)\n",
    "\n",
    "![Relational model](./images/3.7.png)\n",
    "প্রাইমারি key সবসময় একটাই থাকে কিন্তু ফরেইন key একাধিক থাকতে পারে । এখানে প্রাইমারি key হচ্ছে ID আর ফরেইন key হচ্ছে dept_name. কারণ প্রাইমারি key দিয়ে সব কয়টা ফরেইন key আনতে পারবো  \n",
    "\n",
    "__Relational query language__\n",
    "![Relational model](./images/3.8.png)\n",
    "\n",
    "__Selection of tuples__\n",
    "![Relational model](./images/3.9.png)\n",
    "sigma মানে হচ্ছে select এবং ব্রাকেটের মাঝে ঐ টেবিল বা রিলেশনটার নাম দিতে হয় এভাবে ম্যাথম্যাটিকালই প্রকাশ করা যায় \n",
    "\n",
    "__Selection of columns(Attribute)__\n",
    "![Relational model](./images/3.10.png)\n",
    "projection এ distinct element থাকবে অর্থাৎ কোন ডুপ্লিকেট element থাকতে পারবে না \n",
    "\n",
    "![Relational model](./images/3.11.png)\n",
    "![Relational model](./images/3.12.png)\n",
    "![Relational model](./images/3.13.png)\n",
    "![Relational model](./images/3.14.png)\n",
    "\n",
    "__Natural joining__\n",
    "![Relational model](./images/3.15.png)\n",
    "![Relational model](./images/3.16.png)\n",
    "Natural joining এ যেকোনো একটি মিললেই নিয়ে নেওয়া হবে আর না মিললে আগেরটাই বসে যাবে । \n",
    "\n",
    "![Relational model](./images/3.17.png)"
   ]
  },
  {
   "cell_type": "markdown",
   "metadata": {},
   "source": []
  }
 ],
 "metadata": {
  "kernelspec": {
   "display_name": "Python 3",
   "language": "python",
   "name": "python3"
  },
  "language_info": {
   "codemirror_mode": {
    "name": "ipython",
    "version": 3
   },
   "file_extension": ".py",
   "mimetype": "text/x-python",
   "name": "python",
   "nbconvert_exporter": "python",
   "pygments_lexer": "ipython3",
   "version": "3.7.0"
  }
 },
 "nbformat": 4,
 "nbformat_minor": 2
}
