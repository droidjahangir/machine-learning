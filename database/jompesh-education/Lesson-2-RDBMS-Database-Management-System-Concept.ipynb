{
 "cells": [
  {
   "cell_type": "markdown",
   "metadata": {},
   "source": [
    "# Lesson 2: RDBMS Database Management System Concept"
   ]
  },
  {
   "cell_type": "markdown",
   "metadata": {},
   "source": [
    "![rdbms](./images/2.1.png)\n",
    "![rdbms](./images/2.2.png)\n",
    "![rdbms](./images/2.3.png)\n",
    "![rdbms](./images/2.4.png)\n",
    "![rdbms](./images/2.5.png)\n",
    "\n",
    "__Data definition language__  \n",
    "টেবিল বা ডাটা স্ত্রাকচার তৈরি করার জন্য যা ব্যাবহার করা হয় তাই data definition language\n",
    "![rdbms](./images/2.6.png)\n",
    "\n",
    "__SQL__  \n",
    "non procedural language মানে হচ্ছে এই লেঙ্গুএয়েজে কোন ফাংশন লিখতে হয় না  \n",
    "Application program interface(API) - visual basic, dot net, c, java, python এই ল্যাঙ্গুয়েজ গুলোর সাথে ডাটাবেজ কানেক্ট করতে পারি এটাই হচ্ছে Application program interface  \n",
    "ODBC - Open Database Connectivity  \n",
    "JDBC - Java Database Connectivity  \n",
    "![rdbms](./images/2.7.png)\n",
    "\n",
    "__Database design__  \n",
    "এখানে ডাটা হচ্ছে রিপিটেশন, Database এর কাজ ই হচ্ছে ডাটা রিপিটেশন কমানো  \n",
    "![rdbms](./images/2.8.png)\n",
    "\n",
    "__Design approaches__\n",
    "![rdbms](./images/2.9.png)\n",
    "\n",
    "__Entity relationship (ER model)__\n",
    "![rdbms](./images/2.10.png)\n",
    "\n",
    "__Storage management__  \n",
    "storage management - database এ ফিজিক্যালি কিভাবে ডাটা গুলো ষ্টোর করা হয়ে থাকে এটা এখানে বলে দেওয়া থাকে  \n",
    "issues - কি কি কাজ করে থাকে Storage management  \n",
    "![rdbms](./images/2.11.png)\n",
    "\n",
    "__Query processing__  \n",
    "![rdbms](./images/2.12.png)\n",
    "\n",
    "__Transaction management__  \n",
    "![rdbms](./images/2.13.png)\n",
    "\n",
    "__Database system internals__\n",
    "![rdbms](./images/2.14.jpg)\n",
    "\n",
    "__Database architecture__\n",
    "![rdbms](./images/2.15.png)\n",
    "\n",
    "__History__  \n",
    "![rdbms](./images/2.16.png)\n",
    "![rdbms](./images/2.17.png)"
   ]
  },
  {
   "cell_type": "code",
   "execution_count": null,
   "metadata": {},
   "outputs": [],
   "source": []
  }
 ],
 "metadata": {
  "kernelspec": {
   "display_name": "Python 3",
   "language": "python",
   "name": "python3"
  },
  "language_info": {
   "codemirror_mode": {
    "name": "ipython",
    "version": 3
   },
   "file_extension": ".py",
   "mimetype": "text/x-python",
   "name": "python",
   "nbconvert_exporter": "python",
   "pygments_lexer": "ipython3",
   "version": "3.7.0"
  }
 },
 "nbformat": 4,
 "nbformat_minor": 2
}
