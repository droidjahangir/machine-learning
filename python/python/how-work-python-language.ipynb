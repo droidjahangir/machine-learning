{
 "cells": [
  {
   "cell_type": "markdown",
   "metadata": {},
   "source": [
    "# python language কিভাবে কাজ করে "
   ]
  },
  {
   "cell_type": "markdown",
   "metadata": {},
   "source": [
    "![How work python language](./pythonLanguage.png)"
   ]
  },
  {
   "cell_type": "markdown",
   "metadata": {},
   "source": [
    "যখন আমরা পাইথনে কোড লিখি তখন সেটাকে সোর্স কোড বলে, সে কোডকে যখন আমরা পাইথন দিয়ে রান করাই তখন পাইথন সোর্স কোডটাকে interpreter রান করে byte code এ কনভার্ট করে এবং সেই byte code টা বেসিক্যালি পাইথনের ভারচুয়াল মেশিনে রান হয় । ভারচুয়াল মেশিনে যখন কোড টা রান হয় এবং তখন সে কোডটা রান করার জন্য আরও কিছু দরকারি লাইব্রেরি গুলা ভারচুয়াল মেশিন মডিউল লাইব্রেরি থেকে include করে নেয় এবং at the end output টা দেখা যায়  \n",
    "\n",
    "\n",
    "> Interpreted language গুলো সাধারণত byte code এ কনভার্ট করে not machine code\n",
    "\n",
    "যেমন ধরা যাক, compiled language যারা কিনা compiler টি code টিকে সরাসরি machine code এ রূপান্তরিত করে । যেমন - c,c++ এগুলো । যেমন ধরাযাক, একটি কোড windows এ কম্পাইল করলাম সেটা কিন্তু mac এ চলবে না । আবার ঐ কোডটা Mac এ কম্পাইল করলাম সেটা windows বা linux এ চলবে না   \n",
    "\n",
    "কিন্তু পাইথনে যদি কোন কোড রান করানো হয় সেটা যদি windows এ রান করানো হয় সেটা mac, linux যেকোনো অপারেটিং সিস্টেমে রান করবে । এখানেই compiled code এবং interpreted code এর পার্থক্য । এই কারণেই interpreted language গুলো বড় সুবিধা দেয় । "
   ]
  },
  {
   "cell_type": "code",
   "execution_count": null,
   "metadata": {},
   "outputs": [],
   "source": []
  }
 ],
 "metadata": {
  "kernelspec": {
   "display_name": "Python 3",
   "language": "python",
   "name": "python3"
  },
  "language_info": {
   "codemirror_mode": {
    "name": "ipython",
    "version": 3
   },
   "file_extension": ".py",
   "mimetype": "text/x-python",
   "name": "python",
   "nbconvert_exporter": "python",
   "pygments_lexer": "ipython3",
   "version": "3.7.0"
  }
 },
 "nbformat": 4,
 "nbformat_minor": 2
}
