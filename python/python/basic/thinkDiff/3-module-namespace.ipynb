{
 "cells": [
  {
   "cell_type": "markdown",
   "metadata": {},
   "source": [
    "# [Modules, Namespace, Package](https://www.youtube.com/watch?v=cdBiyCxmeRg)\n",
    "\n",
    "\n",
    "### Keyword\n",
    "\n",
    "1. Modules\n",
    "* Namespace\n",
    "* Import\n",
    "* Package\n",
    "* Python standard library\n",
    "\n",
    "## Modules\n",
    "\n",
    "> Module হচ্ছে python এর Source code file. fileName.py এইধরনের ফাইলকেই module বলে  \n",
    "\n",
    "![Module1](./images/module1.png)"
   ]
  },
  {
   "cell_type": "markdown",
   "metadata": {},
   "source": [
    "module এর ভেতরে বিভিন্ন ধরনের ক্লাস, ফাংশন রাখতে পারি ।  \n",
    "suppose আমি এই module টা create করে রাখলাম । এখন কেউ একজন math নিয়ে কাজ করার সময় এই MyMathclass class টা ইউজ করতে চায় । তখন সে শুধুমাত্র import statement use করেই আমার এই module থেকে প্রয়োজনীয় function or class use করতে পারবে  \n"
   ]
  },
  {
   "cell_type": "markdown",
   "metadata": {},
   "source": [
    "## Namespace\n",
    "\n",
    "> আমরা ফাইলটার যে নাম দিয়েছই সেই নামটাকেই namespace বলে  \n",
    "\n",
    "আমরা যদি আগের ঐ ফাইল `myMath` টা ব্যাবহার করতে চাই তাহলে এভাবে import করতে হয় \n",
    "\n",
    "![Module1](./images/module2.png)"
   ]
  },
  {
   "cell_type": "markdown",
   "metadata": {},
   "source": [
    "ঐ Module এর সবকিছু import না করে specific কোন class বা method import করতে হলে নিচের নিয়মে import করতে হয় - \n",
    "\n",
    "![Module1](./images/module3.png)\n",
    "**এভাবে import করলে আলাদাভাবে myMath.subtract() লিখতে হয় না । সরাসরি ঐ মেথডটা build in method এর মতো ব্যাবহার করা যায়**"
   ]
  },
  {
   "cell_type": "markdown",
   "metadata": {},
   "source": [
    "module এর সবকিছু একবারে import করবো এবং directly ঐ element গুলো ইউজ করার জন্য নিচের মতো করে code লিখতে হয় - \n",
    "\n",
    "![Module1](./images/module4.png)\n",
    "**Namespace আলাদা ভাবে লিখার প্রয়োজন নাই যখন কোন element আলাদাভাবে use করি**"
   ]
  },
  {
   "cell_type": "markdown",
   "metadata": {},
   "source": [
    "Module এর কোন ক্লাস ৩ টি উপায়ে import করা যায় - \n",
    "![Module1](./images/module5.png)"
   ]
  },
  {
   "cell_type": "markdown",
   "metadata": {},
   "source": [
    "**Alias :** কোন module এর কোন method বা class import করার সময় যদি এদের আলাদা কোন নাম দিতে চাই তখন একে `aliasing` বলে \n",
    "![Module1](./images/module6.png)"
   ]
  },
  {
   "cell_type": "markdown",
   "metadata": {},
   "source": [
    "## Package\n",
    "\n",
    "\n",
    "> Python এ package হল একটি folder বা directory   \n",
    "\n",
    "suppose আমরা আলাদা একটি folder create করলাম mspack . এখন এই ফোল্ডার এ ২ টি file রাখলাম msMath.py এবং msString.py এখন এই folder এ যখন আমি `__init__.py` নামের কোন file create করবো তখন python বুঝবে এই folder টি একটি package. এই init file টি সাধারণত এমটি হয় তবে এখানে আরও কিছু কাজ করা যায় যেমন - submodule import ইত্যাদি "
   ]
  },
  {
   "cell_type": "code",
   "execution_count": 2,
   "metadata": {},
   "outputs": [
    {
     "name": "stdout",
     "output_type": "stream",
     "text": [
      "12\n",
      "8\n",
      "4\n"
     ]
    }
   ],
   "source": [
    "from mspack import msmath\n",
    "from mspack import msstring\n",
    "\n",
    "print(msmath.sum(10,2))\n",
    "print(msmath.subtract(10,2))\n",
    "print(msmath.multiplication(2,2))"
   ]
  },
  {
   "cell_type": "code",
   "execution_count": 3,
   "metadata": {},
   "outputs": [
    {
     "name": "stdout",
     "output_type": "stream",
     "text": [
      "B\n",
      "a\n",
      "n\n",
      "g\n",
      "l\n",
      "a\n",
      "d\n",
      "e\n",
      "s\n",
      "h\n"
     ]
    }
   ],
   "source": [
    "msstring.print_characters('Bangladesh')"
   ]
  },
  {
   "cell_type": "markdown",
   "metadata": {},
   "source": [
    "```python\n",
    "from mspack import *\n",
    "```\n",
    "package এর সবগুলো মডিউল একসাথে import করার জন্য এভাবে লিখতে হয় "
   ]
  },
  {
   "cell_type": "markdown",
   "metadata": {},
   "source": [
    "**import all functions from a package/module**"
   ]
  },
  {
   "cell_type": "code",
   "execution_count": 4,
   "metadata": {},
   "outputs": [
    {
     "name": "stdout",
     "output_type": "stream",
     "text": [
      "12\n",
      "8\n"
     ]
    }
   ],
   "source": [
    "from mspack.msmath import *\n",
    "\n",
    "print(sum(10,2))\n",
    "print(subtract(10,2))"
   ]
  },
  {
   "cell_type": "markdown",
   "metadata": {},
   "source": [
    "## Python standard library   \n",
    "\n",
    "আমরা যখন python install করি তখন python এর কিছু standard package install হয়ে যায় । গুগলয়ে python standard library দিয়ে search দিলে docs.python এর লিঙ্ক চলে আসবে সেখানে ঐ library গুলোর সব package, module চলে আসবে   \n",
    "\n",
    "**uses**  \n",
    "\n",
    "suppose আমরা python এর standard library তে একটা module বা file আছে random নামে এবং এখানে একটা function আছে choice নামে । এই choice function টার কাজ হচ্ছে কোন লিস্ট থেকে randomly value choice করা   "
   ]
  },
  {
   "cell_type": "code",
   "execution_count": 6,
   "metadata": {},
   "outputs": [
    {
     "name": "stdout",
     "output_type": "stream",
     "text": [
      "2\n",
      "1\n",
      "4\n"
     ]
    }
   ],
   "source": [
    "'''\n",
    "https://docs.python.org/3/library/\n",
    "'''\n",
    "\n",
    "from random import choice \n",
    "\n",
    "list = [1,2,3,4,5]\n",
    "\n",
    "for x in range(0,3):\n",
    "    print(choice(list))"
   ]
  },
  {
   "cell_type": "code",
   "execution_count": null,
   "metadata": {},
   "outputs": [],
   "source": []
  }
 ],
 "metadata": {
  "kernelspec": {
   "display_name": "Python 3",
   "language": "python",
   "name": "python3"
  },
  "language_info": {
   "codemirror_mode": {
    "name": "ipython",
    "version": 3
   },
   "file_extension": ".py",
   "mimetype": "text/x-python",
   "name": "python",
   "nbconvert_exporter": "python",
   "pygments_lexer": "ipython3",
   "version": "3.7.0"
  }
 },
 "nbformat": 4,
 "nbformat_minor": 2
}
