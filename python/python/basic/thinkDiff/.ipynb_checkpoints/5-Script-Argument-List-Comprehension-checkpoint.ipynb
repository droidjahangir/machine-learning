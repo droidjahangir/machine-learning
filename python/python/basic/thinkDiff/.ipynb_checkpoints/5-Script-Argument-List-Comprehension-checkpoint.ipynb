{
 "cells": [
  {
   "cell_type": "markdown",
   "metadata": {},
   "source": [
    "# [Script Argument List Comprehension](https://www.youtube.com/watch?v=nVKf9_PSPXU)\n",
    "\n",
    "\n",
    "### keywords\n",
    "![script 1](./images/script1.png)"
   ]
  },
  {
   "cell_type": "markdown",
   "metadata": {},
   "source": [
    "## Script argument  \n",
    "\n",
    "script argument হচ্ছে, কোন পাইথন ফাইল রান করার সাথে সাথে কিছু আর্গুমেন্ট পাঠানো যায় । পরবর্তীতে যাতে এই আর্গুমেন্ট গুলো নিয়ে কোন কাজ করা যায় \n",
    "\n",
    "![script 2](./images/script2.png)\n",
    "\n",
    "![script3](./images/script3.png)"
   ]
  },
  {
   "cell_type": "markdown",
   "metadata": {},
   "source": [
    "## Set\n",
    "\n",
    "set হচ্ছে লিস্টের মতো sequence of items কিন্তু এখানে item গুলো unordered থাকে এবং কোন duplicate item এখানে থাকতে পারবে না ।   \n",
    "\n",
    "> আমরা যখন list declare করি [] square bracket দেই  \n",
    "> আবার যখন dictionary declare করি {} courlybrace দেই \n",
    "\n",
    "Dictionary তে Curly brace এর ভেতর key দিতে হয় এরপর ভালু দিতে হয়   \n",
    "dictionary = {k1:1, k2:2}  এভাবে \n",
    "\n",
    "কিন্তু সেটের ক্ষেত্রে, set = {1,2,3,4,5} এভাবে দেওয়া হয় কিন্তু declaration এর ক্ষেত্রে parenthesis দেওয়া হয় । তাই set এর ক্ষেত্রে curly brace দেওয়া যায় না এখানে set() এভাবে declare করতে হয় ।  \n",
    "\n",
    "**element add**"
   ]
  },
  {
   "cell_type": "code",
   "execution_count": 1,
   "metadata": {},
   "outputs": [
    {
     "name": "stdout",
     "output_type": "stream",
     "text": [
      "{1, 2, 3}\n"
     ]
    }
   ],
   "source": [
    "num_set = set()\n",
    "num_set.add(1)\n",
    "num_set.add(2)\n",
    "num_set.add(3)\n",
    "num_set.add(1)\n",
    "\n",
    "print(num_set)"
   ]
  },
  {
   "cell_type": "markdown",
   "metadata": {},
   "source": [
    "__1 দুইবার আছে কিন্তু set এর ক্ষেত্রে duplicate number accept হয় না । তাই এখানে ১ একবারই হয়েছে ।__\n",
    "\n",
    "সেটে integer এর পাশাপাশি float বা string value add করা যায় "
   ]
  },
  {
   "cell_type": "markdown",
   "metadata": {},
   "source": [
    "## common operation\n",
    "\n",
    "![script 4](./images/script4.png)\n",
    "\n",
    "\n",
    "> list এর মতো করে set এও কোন ভেলু exist করতেছে কিনা সেটা check করতে পারি \n",
    "![script 5](./images/script5.png)"
   ]
  },
  {
   "cell_type": "markdown",
   "metadata": {},
   "source": [
    "## Conditional expression\n",
    "\n",
    "![script 6](./images/script6.png)\n",
    "![script 7](./images/script7.png)\n",
    "#### same as\n",
    "![script 8](./images/script8.png)"
   ]
  },
  {
   "cell_type": "markdown",
   "metadata": {},
   "source": [
    "## Comprehension Syntax  \n",
    "\n",
    "suppose আমাদের sequence of numbers বা items সেটা set হতে পারে বা, dictionary বা list । সেই জিনিসটা জেনারেট হবে আরেকটা sequence of items এর ভালুর উপর prossessing হওয়ার পর । এটাকে আমরা one line এ করতে পারি যেটাকে comprehenson syntax বলে \n",
    "\n",
    "![script 9](./images/script9.png)\n",
    "\n",
    "![script 10](./images/script10.png)"
   ]
  },
  {
   "cell_type": "markdown",
   "metadata": {},
   "source": [
    "## Dictionary expression and set expression\n",
    "\n",
    "![script 10](./images/script10.png)"
   ]
  },
  {
   "cell_type": "code",
   "execution_count": null,
   "metadata": {},
   "outputs": [],
   "source": []
  }
 ],
 "metadata": {
  "kernelspec": {
   "display_name": "Python 3",
   "language": "python",
   "name": "python3"
  },
  "language_info": {
   "codemirror_mode": {
    "name": "ipython",
    "version": 3
   },
   "file_extension": ".py",
   "mimetype": "text/x-python",
   "name": "python",
   "nbconvert_exporter": "python",
   "pygments_lexer": "ipython3",
   "version": "3.7.0"
  }
 },
 "nbformat": 4,
 "nbformat_minor": 2
}
