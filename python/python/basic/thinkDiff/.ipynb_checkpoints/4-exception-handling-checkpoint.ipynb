{
 "cells": [
  {
   "cell_type": "markdown",
   "metadata": {},
   "source": [
    "# Exception Handling\n",
    "\n",
    "\n",
    "### Keyword :\n",
    "![exception handling keyword](./images/exception1.png)"
   ]
  },
  {
   "cell_type": "markdown",
   "metadata": {},
   "source": [
    "![example : 1](./images/exception2.png)"
   ]
  },
  {
   "cell_type": "markdown",
   "metadata": {},
   "source": [
    "কোন কিছু রিটার্ন না করলে `None` হয় । এটা অন্যান্য ল্যাঙ্গুয়েজ এ null এর মতো   \n",
    "\n",
    "specific কোন error ধরতে পারলে সেই ক্লাসের নাম দিতে হয় এখানে ZeroDivisionError দেওয়া হয়েছে তা না হলে exception দিতে হয় এটা সকল error class এর mother class  \n",
    "\n",
    "যেকোনো ধরনেরই exception ঘটুক না ক্যান সবগুলোই ধরা যাবে কিন্তু দেখা যাবে না যে কি ধরনের এরর ঘটেছে  \n",
    "\n",
    "![exception 3](./images/exception3.png)"
   ]
  },
  {
   "cell_type": "markdown",
   "metadata": {},
   "source": [
    "সব error ধরা যাবে এবং দেখানো যাবে যে কি ধরনের error ঘটেছে  \n",
    "\n",
    "![exception 4](./images/exception4.png)\n",
    "**Best way to catch error when debugging**"
   ]
  },
  {
   "cell_type": "markdown",
   "metadata": {},
   "source": [
    "### Else block\n",
    "\n",
    "![exception 5](./images/exception5.png)\n",
    "\n",
    "যেখানে এরর ঘটার সম্ভাবনা আছে সেখানে try block রাখবো কিন্তু error না ঘটলে তখন result টা প্রিন্ট করার জন্য else block টা কাজ করবে , আর এরর আসলে try-except block টা কাজ করবে "
   ]
  },
  {
   "cell_type": "markdown",
   "metadata": {},
   "source": [
    "## finally block  \n",
    "\n",
    "![exception 6](./images/exception6.png)\n",
    "\n",
    "finally block টি কোন এরর হলেও execute করবে আবার না হলেও execute করবে । আবার error handle না করা হলেও finally block execute হবে   \n",
    "\n",
    "যেমন internet থেকে কোন data আসছে তখন হঠাৎ data আসা বন্ধ হয়ে গেলে তখন ঐ variable টাকে clean করার জন্য এই finally block টা অনেক কাজে দেয়   \n",
    "\n",
    "![exception 7](./images/exception7.png)  \n",
    "\n",
    "\n",
    "আমরা যদি চাই যে, কোন error ঘটলে সেটা সম্পর্কে user কে কিছু দেখাতে চাইনা । তখন just `pass` keyword টা ব্যাবহার করতে পারি । তাহলে output এ কিছুই show করবে না  \n",
    "![exception 8](./images/exception8.png) \n",
    "\n",
    "`pass`  মানে হচ্ছে তুমি just ingonre করো কিছুই করার দরকার নাই । "
   ]
  },
  {
   "cell_type": "markdown",
   "metadata": {},
   "source": [
    "## catch multiple exception\n",
    "\n",
    "![exception 9](./images/exception9.png)   \n",
    "\n",
    "একটা ফাইল read করার সময় হয়তবা ২ টি ঘটনা ঘটতে পারে  \n",
    "1. ফাইলটি নাও থাকতে পারে  \n",
    "2. যে ফাইলটি open করতে চাচ্ছি সেটা open করার permission নাও থাকতে পারে  \n",
    "এই সকল ঘটনার ক্ষেত্রে `multiple error catch` করার জন্য ব্যবহৃত হয় "
   ]
  },
  {
   "cell_type": "markdown",
   "metadata": {},
   "source": [
    "## Creating custom exception\n",
    "\n",
    "suppose আমরা এমন একটি custom exception class create করতে চাচ্ছি যেটা কিনা কোন sentence এ vowel পেলেই exception throw করবে   \n",
    "![exception 10](./images/exception10.png)"
   ]
  },
  {
   "cell_type": "markdown",
   "metadata": {},
   "source": [
    "## Build in exception  \n",
    "\n",
    "google এ build in exception লিখে search দিলেই [docs.python](https://docs.python.org/2/library/exceptions.html) এই এড্রেস এ সকল টাইপের এররর নিয়ে লেখা আছে "
   ]
  },
  {
   "cell_type": "code",
   "execution_count": null,
   "metadata": {},
   "outputs": [],
   "source": []
  }
 ],
 "metadata": {
  "kernelspec": {
   "display_name": "Python 3",
   "language": "python",
   "name": "python3"
  },
  "language_info": {
   "codemirror_mode": {
    "name": "ipython",
    "version": 3
   },
   "file_extension": ".py",
   "mimetype": "text/x-python",
   "name": "python",
   "nbconvert_exporter": "python",
   "pygments_lexer": "ipython3",
   "version": "3.7.0"
  }
 },
 "nbformat": 4,
 "nbformat_minor": 2
}
