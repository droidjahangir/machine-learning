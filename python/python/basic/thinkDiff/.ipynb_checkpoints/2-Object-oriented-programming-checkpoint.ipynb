{
 "cells": [
  {
   "cell_type": "markdown",
   "metadata": {},
   "source": [
    "# [Object-oriented programming](https://www.youtube.com/playlist?list=PLlMOodDAsO4xV_Fr-j25BmwuD2V5B18ra)\n",
    "\n",
    "### OOP keyword  \n",
    "\n",
    "1. Syntax\n",
    "* Instantiation\n",
    "* Attributes value modification\n",
    "* object lifecycle\n",
    "* Inheritance\n",
    "* Multiple inheritance\n",
    "* Method overriding\n",
    "* super() function\n",
    "* calling method by self\n",
    "* Method overloading\n",
    "* private and public"
   ]
  },
  {
   "cell_type": "markdown",
   "metadata": {},
   "source": [
    "## Local and Global variable  "
   ]
  },
  {
   "cell_type": "code",
   "execution_count": 2,
   "metadata": {},
   "outputs": [
    {
     "name": "stdout",
     "output_type": "stream",
     "text": [
      "Hakim resturant Hakim\n",
      "Hakim resturant Hakim\n",
      "Bogura\n"
     ]
    }
   ],
   "source": [
    "restaurant_name = 'Hakim resturant'    #  global variable\n",
    "restaurant_owner = 'Hakim'   # global variable\n",
    "\n",
    "def restaurant_details():\n",
    "    print(restaurant_name,restaurant_owner)\n",
    "\n",
    "def another_restaurant():\n",
    "    restaurant_address = 'Bogura'   # local variable\n",
    "    print(restaurant_name,restaurant_owner)\n",
    "    print(restaurant_address)\n",
    "\n",
    "restaurant_details()\n",
    "another_restaurant()\n"
   ]
  },
  {
   "cell_type": "markdown",
   "metadata": {},
   "source": [
    "যখন ক্লাসের কোন অবজেক্ট তৈরি করা হয় তখন ঐ অবজেক্ট কে অনেকটা বক্স এর মতো চিন্তা করা যায় । ক্লাসের সব উপাদান (data, method) কে capsul এর মতো আবৃত করে রাখে সেটাকে OOP এর ভাষায় encapsulation বলা হয় ।   \n",
    "\n",
    "**basic structure of a class or syntax**\n",
    "\n",
    "```python\n",
    "class ClassName(ParantClass):\n",
    "    variable\n",
    "    method\n",
    "```   \n",
    "**class name টা capitalize হবে** \n",
    "**কোন ক্লাস এ inherite করলে এটা paranthesis এর মদ্ধে দিতে হয়**"
   ]
  },
  {
   "cell_type": "markdown",
   "metadata": {},
   "source": [
    "![oop](./images/oop1.png)  \n",
    "![oop](./images/oop2.png)  "
   ]
  },
  {
   "cell_type": "markdown",
   "metadata": {},
   "source": [
    "`__init__()` এটাকে বলে constructor । একে পাইথনের ভাষায় magic method ও বলা হয় । এটা একটা build in method আর self হচ্ছে conventional rule. এর মদ্ধে দিয়ে reference টা pass হয়   \n",
    "\n",
    "bill এর মদ্ধে object এর একটা reference রিটার্ন হয় init এর মাদ্ধমে কল হওয়াতে   \n",
    "\n",
    "init মেথডের মদ্ধে যে parameter গুলো থাকবে সবগুলা global variable হিসেবে assign হয়ে যাবে automatically  \n",
    "\n",
    "global scope এ `name` এবং `age` না declare করলেও হয় "
   ]
  },
  {
   "cell_type": "markdown",
   "metadata": {},
   "source": [
    "![oop3](./images/oop3.png)"
   ]
  },
  {
   "cell_type": "markdown",
   "metadata": {},
   "source": [
    "## Attribute value modification  \n",
    "\n",
    "২ ধরনের -   \n",
    "* Directly change\n",
    "* Indirectly change\n",
    "\n",
    "> Directly change মানে সরাসরি attribute ধরে চেঞ্জ করা   \n",
    "> indirectly change মানে হচ্ছে কোন মেথড ইউজ করে attribute এর ভেলু চেঞ্জ করা   \n",
    "\n",
    "![attribute value modification](./images/oop4.png)"
   ]
  },
  {
   "cell_type": "markdown",
   "metadata": {},
   "source": [
    "## Object Lifecycle  \n",
    "\n",
    "C বা C++ এ manually object delete করতে হয় কিন্তু python এ autometic object delete হয় একে python এর automatic garbej collection বলা হয় ।   \n",
    "> reference counting 0 হলে object delete হয়  \n",
    "![Object lifecycle](./images/oop5.png)"
   ]
  },
  {
   "cell_type": "markdown",
   "metadata": {},
   "source": [
    "## Inheritance  \n",
    "\n",
    "![Inheritance](./images/oop6.png)  \n",
    "\n",
    "\n",
    "print(math_ext_obj.sum())"
   ]
  },
  {
   "cell_type": "markdown",
   "metadata": {},
   "source": [
    "## Multiple Inheritance  \n",
    "\n",
    "python এ একটি ক্লাস অনেকগুলো ক্লাসকে inherit করতে পারে একেই Multiple Inheritance বলে  \n",
    "\n",
    "![Multiple Inheritance](./images/oop7.png)"
   ]
  },
  {
   "cell_type": "markdown",
   "metadata": {},
   "source": [
    "## Method Overriding  \n",
    "\n",
    "![overriding 1](./images/oop8.png)\n",
    "![overriding 1](./images/oop9.png)"
   ]
  },
  {
   "cell_type": "markdown",
   "metadata": {},
   "source": [
    "যদি একই ক্লাসে থেকে ঐ ক্লাসের কোন attribute কে কল করতে হয় তখন self. দিয়ে কল করতে হয়   \n",
    "\n",
    "> parent class এ `sum` নামে একটি method আছে child class এ ঐ sum method যদি আবার create করা হয় এবং একে পরিবর্তন করা হয় এই ঘটনাকে বলে method overriding  \n",
    "\n",
    "method overriding এর ক্ষেত্রে child class এর ঐ মেথড কে access করার জন্য self. দিয়ে অ্যাক্সেস করতে হয় ।   \n",
    "আর parent class এর ঐ মেথডকে access করার জন্য super() দিয়ে অ্যাক্সেস করতে হয়  \n",
    "```python\n",
    "\n",
    "print('Sum : ' + str(super().sum())\n",
    "```\n",
    "parent class এর sum() কে অ্যাক্সেস করলাম   \n",
    "\n",
    "> method overriding এর ক্ষেত্রে মেথডের parameter একই হবে \n",
    "\n",
    "\n",
    "**python method overloading সাপোর্ট করে না** \n",
    "\n",
    "python এ default value pass করা যায় তাই এই overloading feature টা নাই   \n",
    "overloading টা হচ্ছে parameter এ variable এর সংখ্যা ভিন্ন হয় "
   ]
  },
  {
   "cell_type": "markdown",
   "metadata": {},
   "source": [
    "## public, private attribute  \n",
    "\n",
    "![Public, private attribute](./images/oop10.png)"
   ]
  },
  {
   "cell_type": "markdown",
   "metadata": {},
   "source": [
    "ভেরিয়েবলের আগে _(Underscore) চিহ্ন মানে element তাকে private হিসেবে declare করা হয়েছে অর্থাৎ এভাবে সরাসরি যেন কেউ access করতে না পারে ।  \n",
    "\n",
    "তবে প্রকৃতপক্ষে OOP এ private attribute এর মতো কোন feature support করে না python এ ।  \n",
    "\n",
    "তবে declare করার সময় (_) চিহ্ন দেওয়া হয় যাতে অন্য programmer রা বোঝে যে আমরা এই element কে private হিসেবে রাখতে চাই এবং কেউ যেন এই element কে public variable এর মতো অ্যাক্সেস না করে  "
   ]
  },
  {
   "cell_type": "markdown",
   "metadata": {},
   "source": []
  }
 ],
 "metadata": {
  "kernelspec": {
   "display_name": "Python 3",
   "language": "python",
   "name": "python3"
  },
  "language_info": {
   "codemirror_mode": {
    "name": "ipython",
    "version": 3
   },
   "file_extension": ".py",
   "mimetype": "text/x-python",
   "name": "python",
   "nbconvert_exporter": "python",
   "pygments_lexer": "ipython3",
   "version": "3.7.0"
  }
 },
 "nbformat": 4,
 "nbformat_minor": 2
}
