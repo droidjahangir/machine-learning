{
 "cells": [
  {
   "cell_type": "markdown",
   "metadata": {},
   "source": [
    "# Function"
   ]
  },
  {
   "cell_type": "markdown",
   "metadata": {},
   "source": [
    "## function keyword\n",
    "\n",
    "1. define\n",
    "* build in function\n",
    "* parameter, argument\n",
    "* positional argument\n",
    "* keyword argument\n",
    "* default value\n",
    "* return value\n",
    "* optional argument\n",
    "* reference type parameter\n",
    "* arbitary number of arguments\n",
    "* arbitary keyword arguments"
   ]
  },
  {
   "cell_type": "code",
   "execution_count": 1,
   "metadata": {},
   "outputs": [
    {
     "name": "stdout",
     "output_type": "stream",
     "text": [
      "Welcome jahangir \n",
      "Welcome alam \n"
     ]
    }
   ],
   "source": [
    "def welcome(name):\n",
    "    print(\"Welcome {name} \".format(name=name))\n",
    "\n",
    "welcome('jahangir')\n",
    "welcome('alam')"
   ]
  },
  {
   "cell_type": "markdown",
   "metadata": {},
   "source": [
    "## আর্গুমেন্ট পাঠানোর পদ্ধতি \n",
    "### positional argument ( পদ্ধতি - ১ )"
   ]
  },
  {
   "cell_type": "code",
   "execution_count": 5,
   "metadata": {},
   "outputs": [
    {
     "name": "stdout",
     "output_type": "stream",
     "text": [
      "jahangir | 24 | Jamalpur\n",
      "Imran | 25 | Komilla\n"
     ]
    }
   ],
   "source": [
    "def person_details(name,age,home):\n",
    "    print(name,age,home,sep = ' | ')\n",
    "person_details('jahangir',24,'Jamalpur')\n",
    "person_details('Imran',25,'Komilla')"
   ]
  },
  {
   "cell_type": "markdown",
   "metadata": {},
   "source": [
    "### keyword argument ( পদ্ধতি - ২ )"
   ]
  },
  {
   "cell_type": "code",
   "execution_count": 7,
   "metadata": {},
   "outputs": [
    {
     "name": "stdout",
     "output_type": "stream",
     "text": [
      "jahangir | 18 | Jamalpur\n",
      "manosh | 30 | Magura\n"
     ]
    }
   ],
   "source": [
    "person_details(name = 'jahangir', age = 18, home = 'Jamalpur')\n",
    "person_details(name = 'manosh', age = 30, home = 'Magura')"
   ]
  },
  {
   "cell_type": "markdown",
   "metadata": {},
   "source": [
    "keyword argument এবং positional একসাথে মিক্স করে ব্যাবহার করা যায়, তবে একটি জিনিস খেয়াল রাখতে হবে যে positional টা অবশ্যই আগে থাকতে হবে । মাঝে একটা keyword আর্গুমেন্ট ব্যাবহার করে ফেলতে হয় তারপর বাকিগুলা অবশ্যই keyword আর্গুমেন্ট ব্যাবহার করতে হবে নতুবা error through করবে "
   ]
  },
  {
   "cell_type": "markdown",
   "metadata": {},
   "source": [
    "**positional argument এ sequence টা গুরুত্বপূর্ণ কিন্তু keyword এর ক্ষেত্রে সিকোয়েন্সটা গুরুত্বপূর্ণ না** "
   ]
  },
  {
   "cell_type": "markdown",
   "metadata": {},
   "source": [
    "## প্যারামিটার হিসেবে ডিফল্ট ভেলু "
   ]
  },
  {
   "cell_type": "code",
   "execution_count": 8,
   "metadata": {},
   "outputs": [],
   "source": [
    "def person_details(name,age,country = 'Bangladesh'):\n",
    "    print(name,age,country,sep = ' | ')"
   ]
  },
  {
   "cell_type": "code",
   "execution_count": 9,
   "metadata": {},
   "outputs": [
    {
     "name": "stdout",
     "output_type": "stream",
     "text": [
      "jahangir | 55 | US\n",
      "swift | 40 | Bangladesh\n",
      "Alam | 30 | Bangladesh\n"
     ]
    }
   ],
   "source": [
    "person_details(name = 'jahangir', age = 55, country = 'US')\n",
    "person_details(name = 'swift', age = 40)\n",
    "person_details('Alam',30)"
   ]
  },
  {
   "cell_type": "markdown",
   "metadata": {},
   "source": [
    "প্রথমে একটা default argument হিসেবে দিলে বাকি গুলোও default আর্গুমেন্ট দিতে হবে তা না হলে error আসবে "
   ]
  },
  {
   "cell_type": "markdown",
   "metadata": {},
   "source": [
    "## Return value"
   ]
  },
  {
   "cell_type": "code",
   "execution_count": 1,
   "metadata": {},
   "outputs": [
    {
     "name": "stdout",
     "output_type": "stream",
     "text": [
      "4 | 4.840000000000001\n"
     ]
    }
   ],
   "source": [
    "def square(num):\n",
    "    return num*num\n",
    "print(square(2), square(2.2), sep = ' | ')"
   ]
  },
  {
   "cell_type": "markdown",
   "metadata": {},
   "source": [
    "## Optional argument\n",
    "\n",
    "Optional argument হচ্ছে এমন জিনিস যেটা কিনা প্যারামিটারে declare করা হয় একটা ডিফল্ট ভেলু হিসেবে । user argument এ ভেলু পাঠানোর সময় ভেলুটা পাঠাতেও পারে আবার নাও পাঠাতেও পারে । তাই একে প্যারামিটারে ডিফল্ট ভেলু দেওয়া হয় ।  \n"
   ]
  },
  {
   "cell_type": "code",
   "execution_count": 3,
   "metadata": {},
   "outputs": [
    {
     "name": "stdout",
     "output_type": "stream",
     "text": [
      "jahangir   alam\n",
      "jahangir s alam\n"
     ]
    }
   ],
   "source": [
    "def get_name(first_name, last_name, middle_name = ' '):\n",
    "    complete_name = first_name\n",
    "    if middle_name:\n",
    "        complete_name += ' ' + middle_name\n",
    "    complete_name += ' ' + last_name\n",
    "    \n",
    "    return complete_name\n",
    "\n",
    "print(get_name('jahangir', 'alam'))\n",
    "print(get_name('jahangir', 'alam', 's'))\n"
   ]
  },
  {
   "cell_type": "markdown",
   "metadata": {},
   "source": [
    "if statement এ কোন স্ট্রিং ভেলু এমটি হলে False হিসেবে evaluate করে আর কোন ভেলু থাকলে True হিসেবে evaluate করে "
   ]
  },
  {
   "cell_type": "markdown",
   "metadata": {},
   "source": [
    "## Value type and Reference type\n",
    "\n",
    "__Value type__ "
   ]
  },
  {
   "cell_type": "code",
   "execution_count": 4,
   "metadata": {},
   "outputs": [
    {
     "name": "stdout",
     "output_type": "stream",
     "text": [
      "Inner num : 200\n",
      "Outside num : 100\n"
     ]
    }
   ],
   "source": [
    "num = 100\n",
    "\n",
    "def change_num(num):\n",
    "    num += 100\n",
    "    print('Inner num : {num}'.format(num = num))\n",
    "change_num(num)\n",
    "print('Outside num : ' + str(num))"
   ]
  },
  {
   "cell_type": "markdown",
   "metadata": {},
   "source": [
    "যখন change_num() ফাংশনটা কল করলাম তখন num variable টা আর্গুমেন্ট হিসেবে পাঠাইছি । এখানে num variable টার ভেলু 100 হিসেবে পাস হয়েছে ফাংশনের মদ্ধে , রেফারেন্স হিসেবে না । একেই বলে ভেলু টাইপ আর্গুমেন্ট পাস   \n",
    "\n",
    "**Reference type**"
   ]
  },
  {
   "cell_type": "code",
   "execution_count": 5,
   "metadata": {},
   "outputs": [
    {
     "name": "stdout",
     "output_type": "stream",
     "text": [
      "Before\n",
      "Outer list :  [1, 2, 3, 4, 5]\n",
      "Outer list :  {'one': 1, 'two': 2, 'three': 3}\n",
      "Inner list :  [2, 3, 4, 50]\n",
      "Inner list :  {'two': 2, 'three': 33}\n",
      "After\n",
      "Outer list  [2, 3, 4, 50]\n",
      "Outer list  {'two': 2, 'three': 33}\n"
     ]
    }
   ],
   "source": [
    "num_list = [1,2,3,4,5]\n",
    "num_dict = {'one' : 1, 'two' : 2, 'three' : 3}\n",
    "\n",
    "def change_num_list(list,dict):\n",
    "    \n",
    "    del list[0]\n",
    "    list[-1] = 50\n",
    "    \n",
    "    del dict['one']\n",
    "    dict['three'] = 33\n",
    "    \n",
    "    print('Inner list : ', list)\n",
    "    print('Inner list : ', dict)\n",
    "print('Before')\n",
    "print('Outer list : ', num_list)\n",
    "print('Outer list : ', num_dict)\n",
    "\n",
    "change_num_list( list = num_list, dict = num_dict)\n",
    "print('After')\n",
    "print('Outer list ', num_list)\n",
    "print('Outer list ', num_dict)"
   ]
  },
  {
   "cell_type": "markdown",
   "metadata": {},
   "source": [
    "সাধারণত যখন কোন list, dictionary, class type, object, যে কোন iterable, function এর মদ্ধে পাঠানো হয় তখন সেটা `reference` হিসেবে যায় অর্থাৎ ফাংশনের মদ্ধে তাঁদের ভেলু পরিবর্তন করা হলে বাহিরেও তাঁদের ভেলু চেঞ্জ হয়ে যাবে । একেই reference type প্যারামিটার বলে   \n"
   ]
  },
  {
   "cell_type": "markdown",
   "metadata": {},
   "source": [
    "## Function argument - Multiple parameter handling  \n",
    "\n",
    "মনে করি make_sum() ফাংশনটিতে অনেকগুলো প্যারামিটার পাঠাতে চাচ্ছি যেমন - ১০,২০,৩০ ইত্যাদি । যদি make_sum(a,b) হিসেবে declare করি তাহলে দুইটার বেশী প্যারামিটার পাঠাতে পারবো না "
   ]
  },
  {
   "cell_type": "code",
   "execution_count": 12,
   "metadata": {},
   "outputs": [
    {
     "name": "stdout",
     "output_type": "stream",
     "text": [
      "100\n"
     ]
    }
   ],
   "source": [
    "def make_sum(*args):\n",
    "    sum = 0\n",
    "    \n",
    "    for num in args:    # here args is like a tuple which is (10,20,30,40.....)\n",
    "        sum += num\n",
    "    \n",
    "    return sum\n",
    "\n",
    "print(make_sum(10,20,30,40))"
   ]
  },
  {
   "cell_type": "markdown",
   "metadata": {},
   "source": [
    "Astrics (*) argument ভেলু tuple হিসেবে প্যাকড থাকে । এর মানে * দিয়ে parameter declare করলে আমরা যে কোন সংখ্যক পজিসনাল আর্গুমেন্ট পাস করতে পারি । "
   ]
  },
  {
   "cell_type": "markdown",
   "metadata": {},
   "source": [
    "**পাইথনে ** এর অর্থ**   \n",
    "\n",
    "আমরা চাইলে ফাংশনের প্যারামিটারে double astrics বসিয়েও declare করতে পারি । double star এর মানে হল যেকোনো সংখ্যক named parameter থাকতে পারে । এই মানগুলো dectionary হিসেবে packed থাকে "
   ]
  },
  {
   "cell_type": "code",
   "execution_count": 13,
   "metadata": {},
   "outputs": [
    {
     "ename": "TypeError",
     "evalue": "print_dict() got an unexpected keyword argument 'a'",
     "output_type": "error",
     "traceback": [
      "\u001b[0;31m---------------------------------------------------------------------------\u001b[0m",
      "\u001b[0;31mTypeError\u001b[0m                                 Traceback (most recent call last)",
      "\u001b[0;32m<ipython-input-13-d7b951aa20b7>\u001b[0m in \u001b[0;36m<module>\u001b[0;34m()\u001b[0m\n\u001b[1;32m      2\u001b[0m     \u001b[0mprint\u001b[0m\u001b[0;34m(\u001b[0m\u001b[0margs\u001b[0m\u001b[0;34m)\u001b[0m\u001b[0;34m\u001b[0m\u001b[0m\n\u001b[1;32m      3\u001b[0m \u001b[0;34m\u001b[0m\u001b[0m\n\u001b[0;32m----> 4\u001b[0;31m \u001b[0mprint_dict\u001b[0m\u001b[0;34m(\u001b[0m\u001b[0ma\u001b[0m \u001b[0;34m=\u001b[0m \u001b[0;36m1\u001b[0m\u001b[0;34m,\u001b[0m \u001b[0mb\u001b[0m \u001b[0;34m=\u001b[0m \u001b[0;36m2\u001b[0m\u001b[0;34m)\u001b[0m\u001b[0;34m\u001b[0m\u001b[0m\n\u001b[0m",
      "\u001b[0;31mTypeError\u001b[0m: print_dict() got an unexpected keyword argument 'a'"
     ]
    }
   ],
   "source": [
    "def print_dict(*args):\n",
    "    print(args)\n",
    "\n",
    "print_dict(a = 1, b = 2)"
   ]
  },
  {
   "cell_type": "markdown",
   "metadata": {},
   "source": [
    "single astrics ব্যাবহার করলে আমরা named argument পাস করতে পারবো না । তাই আমাদের এ সব ক্ষেত্রে double astrics ব্যাবহার করতে হবে "
   ]
  },
  {
   "cell_type": "code",
   "execution_count": 14,
   "metadata": {},
   "outputs": [
    {
     "name": "stdout",
     "output_type": "stream",
     "text": [
      "{'a': 1, 'b': 2, 'c': 3}\n"
     ]
    }
   ],
   "source": [
    "def print_dict(**kwargs):\n",
    "    print(kwargs)\n",
    "\n",
    "print_dict(a = 1, b = 2, c = 3)"
   ]
  },
  {
   "cell_type": "markdown",
   "metadata": {},
   "source": [
    "**যদি আরেকটু গুছিয়ে লিখি**"
   ]
  },
  {
   "cell_type": "code",
   "execution_count": 15,
   "metadata": {},
   "outputs": [
    {
     "name": "stdout",
     "output_type": "stream",
     "text": [
      "a : 1\n",
      "b : 2\n",
      "c : 3\n"
     ]
    }
   ],
   "source": [
    "def print_dict(**kwargs):\n",
    "    for args in kwargs:\n",
    "        print('{0} : {1}'.format(args,kwargs[args]))\n",
    "\n",
    "print_dict(a = 1, b = 2, c = 3)"
   ]
  },
  {
   "cell_type": "markdown",
   "metadata": {},
   "source": [
    "> চাইলে আমরা মিক্সেড আর্গুমেন্ট ব্যাবহার করতে পারি তবে খেয়াল রাখতে হবে যে প্যারামিটার গুলো এমন ভাবে ব্যাবহার করতে হবে যেন প্রথমে সাধারণ প্যারামিটার তারপর সিঙ্গেল astrics প্যারামিটার এবং সবশেষে ডাবল astrics এর প্যারামিটার থাকে "
   ]
  },
  {
   "cell_type": "code",
   "execution_count": 16,
   "metadata": {},
   "outputs": [
    {
     "name": "stdout",
     "output_type": "stream",
     "text": [
      "10\n",
      "(20, 30, 40, 50)\n",
      "{'b': 5, 'c': 10}\n"
     ]
    }
   ],
   "source": [
    "def print_all(a, *args, **kwargs):\n",
    "    print(a)\n",
    "    print(args)\n",
    "    print(kwargs)\n",
    "    \n",
    "print_all(10,20,30,40,50, b = 5, c = 10)"
   ]
  },
  {
   "cell_type": "markdown",
   "metadata": {},
   "source": [
    "## Parameter vs Argument "
   ]
  },
  {
   "cell_type": "markdown",
   "metadata": {},
   "source": [
    "যখন একটি ফাংশন কে define করা হয় তখন এর variable গুলোকে `Parameter` বলে । আর যখন একটি ফাংশনকে কল করা হয় তখন সেই ফাংশনের প্যারামিটার হিসেবে যে ভেলু পাঠানো হয় তাকে `Argument` বলে "
   ]
  },
  {
   "cell_type": "code",
   "execution_count": null,
   "metadata": {},
   "outputs": [],
   "source": []
  }
 ],
 "metadata": {
  "kernelspec": {
   "display_name": "Python 3",
   "language": "python",
   "name": "python3"
  },
  "language_info": {
   "codemirror_mode": {
    "name": "ipython",
    "version": 3
   },
   "file_extension": ".py",
   "mimetype": "text/x-python",
   "name": "python",
   "nbconvert_exporter": "python",
   "pygments_lexer": "ipython3",
   "version": "3.7.0"
  }
 },
 "nbformat": 4,
 "nbformat_minor": 2
}
