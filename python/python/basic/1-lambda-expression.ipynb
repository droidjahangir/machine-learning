{
 "cells": [
  {
   "cell_type": "markdown",
   "metadata": {},
   "source": [
    "# Lambda expression  \n",
    "\n",
    "lambda হচ্ছে আসলে anonymous function বা inline function"
   ]
  },
  {
   "cell_type": "code",
   "execution_count": 1,
   "metadata": {},
   "outputs": [
    {
     "name": "stdout",
     "output_type": "stream",
     "text": [
      "5\n"
     ]
    }
   ],
   "source": [
    "add_number = lambda x,y : x+y\n",
    "\n",
    "print(add_number(2,3))"
   ]
  },
  {
   "cell_type": "markdown",
   "metadata": {},
   "source": [
    "এখানে add_number নামে একটা ভেরিয়েবল declare করলাম তারপর lambda নামের একটা function declare করলাম । এটা হচ্ছে anonymous(নামবিহীন) বা যে ফাংশনের কোন নাম নেই এবং এই lambda expression এ যা রিটার্ন আসবে সেটা add_number এ ষ্টোর হয়  \n",
    "\n",
    "> এটা হচ্ছে একটা Single line expression  \n",
    "\n",
    "সাধারণত ১ লাইনের কোন function কে lambda expression এ লিখা হয় । কিন্তু ফাংশনের মদ্ধে অনেক ধরনের expression থাকলে সেক্ষেত্রে এই lambda ব্যাবহার করা যায় না । "
   ]
  },
  {
   "cell_type": "code",
   "execution_count": null,
   "metadata": {},
   "outputs": [],
   "source": []
  }
 ],
 "metadata": {
  "kernelspec": {
   "display_name": "Python 3",
   "language": "python",
   "name": "python3"
  },
  "language_info": {
   "codemirror_mode": {
    "name": "ipython",
    "version": 3
   },
   "file_extension": ".py",
   "mimetype": "text/x-python",
   "name": "python",
   "nbconvert_exporter": "python",
   "pygments_lexer": "ipython3",
   "version": "3.7.0"
  }
 },
 "nbformat": 4,
 "nbformat_minor": 2
}
