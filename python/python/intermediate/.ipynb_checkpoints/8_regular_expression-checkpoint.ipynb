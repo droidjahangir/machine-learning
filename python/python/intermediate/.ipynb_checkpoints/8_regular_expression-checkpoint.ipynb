{
 "cells": [
  {
   "cell_type": "markdown",
   "metadata": {},
   "source": [
    "# Regular expression"
   ]
  },
  {
   "cell_type": "markdown",
   "metadata": {},
   "source": [
    "### Tropics of regular expression\n",
    "\n",
    "1. Pattern matching\n",
    "2. Compiling pattern\n",
    "3. Capture groups\n",
    "4. Raw string\n",
    "5. Search and replace\n",
    "6. Case-insensitive search\n",
    "7. Unicode character\n",
    "8. Strip unwanted space"
   ]
  },
  {
   "cell_type": "markdown",
   "metadata": {},
   "source": [
    "রেগুলার এক্সপ্রেশনের বেশিরভাগ কন্টেন্ট https://www.youtube.com/watch?v=yygyryPAJH0&t=8s এবং https://www.youtube.com/watch?v=K8L6KVGG-7o থেকে নেওয়া হয়েছে "
   ]
  },
  {
   "cell_type": "markdown",
   "metadata": {},
   "source": [
    "### Problem solve site"
   ]
  },
  {
   "cell_type": "markdown",
   "metadata": {},
   "source": [
    "https://regex101.com/ এই সাইটে গিয়ে regex এর প্রব্লেম গুলা সল্ভ করা যায় বা প্র্যাকটিস করা যায় python, javascript, golang এর উপরে । তাছাড়াও এখানে কিছু কমন কিছু token আছে যেগুলো ইউজ করে রেজাল্ট বের করা যায় "
   ]
  },
  {
   "cell_type": "markdown",
   "metadata": {},
   "source": [
    "### Definition\n",
    "\n",
    "regular expression হচ্ছে একধরনের সাংকেতিক কোড বা ভাষা যেটা দিয়ে স্ট্রিং কে parsing বা searching করা যায় । \n",
    "\n",
    "ধরা যাক, আমাদের কাছে অনেক বড় text file আছে এখন সেখান থেকে 13/feb/2019 এই string টা খুঁজে বের করবো । এর জন্য একধরনের pattern ইউজ করতে হয় । এইযে একধরনের প্রসেস যার মাদ্ধমে একটা নিদ্রিস্ত প্যাটার্ন খুঁজে বের করা যায় একেই বলে Regular expression বা regex"
   ]
  },
  {
   "cell_type": "markdown",
   "metadata": {},
   "source": [
    "### Common token"
   ]
  },
  {
   "cell_type": "markdown",
   "metadata": {},
   "source": [
    "নিচের এই token গুলো https://regex101.com/ এখান থেকে সংগৃহীত হয়েছে \n",
    "\n",
    "[abc]\n",
    "Matches either an a, b or c character\n",
    "\n",
    "[^abc]\n",
    "Matches any character except for an a, b or c\n",
    "\n",
    "[a-z]\n",
    "Matches any characters between a and z, including a and z.\n",
    "\n",
    "[^a-z]\n",
    "Matches any characters except those in the range a-z.\n",
    "\n",
    "[a-zA-Z]\n",
    "Matches any characters between a-z or A-Z. You can combine as much as you please.\n",
    "\n",
    ".\n",
    "Matches any character other than newline (or including newline with the /s flag)\n",
    "\n",
    "\\s\n",
    "Matches any space, tab or newline character.\n",
    "\n",
    "\\S\n",
    "Matches anything other than a space, tab or newline.\n",
    "\n",
    "\\d\n",
    "Matches any decimal digit. Equivalent to [0-9].\n",
    "\n",
    "\\D\n",
    "Matches anything other than a decimal digit.\n",
    "\n",
    "\\w\n",
    "Matches any letter, digit or underscore. Equivalent to [a-zA-Z0-9_].\n",
    "\n",
    "\\W\n",
    "Matches anything other than a letter, digit or underscore.\n",
    "\n",
    "(...)\n",
    "Parts of the regex enclosed in parentheses may be referred to later in the expression or extracted from the results of a successful match.\n",
    "\n",
    "(a|b)\n",
    "Matches the a or the b part of the subexpression.\n",
    "\n",
    "a?\n",
    "Matches an `a` character or nothing.\n",
    "\n",
    "a*\n",
    "Matches zero or more consecutive `a` characters.\n",
    "\n",
    "a+\n",
    "Matches one or more consecutive `a` characters.\n",
    "\n",
    "a{3}\n",
    "Matches exactly 3 consecutive `a` characters.\n",
    "\n",
    "a{3,}\n",
    "Matches at least 3 consecutive `a` characters.\n",
    "\n",
    "a{3,6}\n",
    "Matches between 3 and 6 (inclusive) consecutive `a` characters.\n",
    "\n",
    "^\n",
    "Matches the start of a string without consuming any characters. If multiline mode is used, this will also match immediately after a newline character.\n",
    "\n",
    "$\n",
    "Matches the end of a string without consuming any characters. If multiline mode is used, this will also match immediately before a newline character.\n",
    "\n",
    "\\b\n",
    "Matches, without consuming any characters, immediately between a character matched by \\w and a character not matched by \\w (in either order). It cannot be used to separate non words from words.\n",
    "\n",
    "\\B\n",
    "Matches, without consuming any characters, at the position between two characters matched by \\w.\n"
   ]
  },
  {
   "cell_type": "markdown",
   "metadata": {},
   "source": [
    "### General token"
   ]
  },
  {
   "cell_type": "markdown",
   "metadata": {},
   "source": [
    "1. New line --> \\n\n",
    "2. Carriage return --> \\r\n",
    "3. Tab --> \\t \n",
    "4. Null character --> \\o"
   ]
  },
  {
   "cell_type": "markdown",
   "metadata": {},
   "source": [
    "### Anchors"
   ]
  },
  {
   "cell_type": "markdown",
   "metadata": {},
   "source": [
    "1. Start of string --> ^\n",
    "2. End of string --> $\n",
    "3. Start of string --> \\A\n",
    "4. End of string --> \\z\n",
    "5. A word boundary --> \\b\n",
    "6. Non-word boundary --> \\B"
   ]
  },
  {
   "cell_type": "markdown",
   "metadata": {},
   "source": [
    "Regular expression এর জন্য re নামের module টা import করে নিতে হয় "
   ]
  },
  {
   "cell_type": "code",
   "execution_count": 3,
   "metadata": {},
   "outputs": [
    {
     "name": "stdout",
     "output_type": "stream",
     "text": [
      "<_sre.SRE_Match object; span=(1, 4), match='abc'>\n"
     ]
    }
   ],
   "source": [
    "import re\n",
    "\n",
    "text_to_search = '''\n",
    "abcdefghijklmnopqrstuvwxyz\n",
    "ABCDEFGHIJKLMNOPQRSTUVWXYZ\n",
    "1234567890\n",
    "\n",
    "Ha HaHa\n",
    "\n",
    "MetaCharacters(Need to be escaped):\n",
    "\n",
    "_ ^ $ * + ? { } \\ | ( ) \n",
    "\n",
    "coreyms.com\n",
    "\n",
    "321-555-4321\n",
    "123.555.1234\n",
    "123*555*1234\n",
    "800.555.1234\n",
    "900-555-1234\n",
    "\n",
    "Mr. Schafer\n",
    "Mr Smith\n",
    "Ms Davis\n",
    "Mrs. Robinson\n",
    "Mr. T\n",
    "\n",
    "'''\n",
    "\n",
    "sentence = 'Start a sentence and then bring it to an end'\n",
    "\n",
    "pattern = re.compile(r'abc')\n",
    "\n",
    "matches = pattern.finditer(text_to_search)\n",
    "\n",
    "for match in matches:\n",
    "    print(match)\n"
   ]
  },
  {
   "cell_type": "markdown",
   "metadata": {},
   "source": [
    "এখানে span=(1,4) মানে হল text_to_search string এর ১ নং ইনডেক্স থেকে ৪ নং ইনডেক্স পর্যন্ত একটা ম্যাচ পেয়েছে । তো আমরা এটা প্রিন্ট করতে পারি "
   ]
  },
  {
   "cell_type": "code",
   "execution_count": 34,
   "metadata": {},
   "outputs": [
    {
     "name": "stdout",
     "output_type": "stream",
     "text": [
      "abc\n"
     ]
    }
   ],
   "source": [
    "print(text_to_search[1:4])"
   ]
  },
  {
   "cell_type": "markdown",
   "metadata": {},
   "source": [
    "#### Literal search"
   ]
  },
  {
   "cell_type": "code",
   "execution_count": 35,
   "metadata": {},
   "outputs": [
    {
     "name": "stdout",
     "output_type": "stream",
     "text": [
      "<_sre.SRE_Match object; span=(1, 2), match='a'>\n",
      "<_sre.SRE_Match object; span=(2, 3), match='b'>\n",
      "<_sre.SRE_Match object; span=(3, 4), match='c'>\n",
      "<_sre.SRE_Match object; span=(4, 5), match='d'>\n",
      "<_sre.SRE_Match object; span=(5, 6), match='e'>\n",
      "<_sre.SRE_Match object; span=(6, 7), match='f'>\n",
      "<_sre.SRE_Match object; span=(7, 8), match='g'>\n",
      "<_sre.SRE_Match object; span=(8, 9), match='h'>\n",
      "<_sre.SRE_Match object; span=(9, 10), match='i'>\n",
      "<_sre.SRE_Match object; span=(10, 11), match='j'>\n",
      "<_sre.SRE_Match object; span=(11, 12), match='k'>\n",
      "<_sre.SRE_Match object; span=(12, 13), match='l'>\n",
      "<_sre.SRE_Match object; span=(13, 14), match='m'>\n",
      "<_sre.SRE_Match object; span=(14, 15), match='n'>\n",
      "<_sre.SRE_Match object; span=(15, 16), match='o'>\n",
      "<_sre.SRE_Match object; span=(16, 17), match='p'>\n",
      "<_sre.SRE_Match object; span=(17, 18), match='q'>\n",
      "<_sre.SRE_Match object; span=(18, 19), match='r'>\n",
      "<_sre.SRE_Match object; span=(19, 20), match='s'>\n",
      "<_sre.SRE_Match object; span=(20, 21), match='t'>\n",
      "<_sre.SRE_Match object; span=(21, 22), match='u'>\n",
      "<_sre.SRE_Match object; span=(22, 23), match='v'>\n",
      "<_sre.SRE_Match object; span=(23, 24), match='w'>\n",
      "<_sre.SRE_Match object; span=(24, 25), match='x'>\n",
      "<_sre.SRE_Match object; span=(25, 26), match='y'>\n",
      "<_sre.SRE_Match object; span=(26, 27), match='z'>\n",
      "<_sre.SRE_Match object; span=(28, 29), match='A'>\n",
      "<_sre.SRE_Match object; span=(29, 30), match='B'>\n",
      "<_sre.SRE_Match object; span=(30, 31), match='C'>\n",
      "<_sre.SRE_Match object; span=(31, 32), match='D'>\n",
      "<_sre.SRE_Match object; span=(32, 33), match='E'>\n",
      "<_sre.SRE_Match object; span=(33, 34), match='F'>\n",
      "<_sre.SRE_Match object; span=(34, 35), match='G'>\n",
      "<_sre.SRE_Match object; span=(35, 36), match='H'>\n",
      "<_sre.SRE_Match object; span=(36, 37), match='I'>\n",
      "<_sre.SRE_Match object; span=(37, 38), match='J'>\n",
      "<_sre.SRE_Match object; span=(38, 39), match='K'>\n",
      "<_sre.SRE_Match object; span=(39, 40), match='L'>\n",
      "<_sre.SRE_Match object; span=(40, 41), match='M'>\n",
      "<_sre.SRE_Match object; span=(41, 42), match='N'>\n",
      "<_sre.SRE_Match object; span=(42, 43), match='O'>\n",
      "<_sre.SRE_Match object; span=(43, 44), match='P'>\n",
      "<_sre.SRE_Match object; span=(44, 45), match='Q'>\n",
      "<_sre.SRE_Match object; span=(45, 46), match='R'>\n",
      "<_sre.SRE_Match object; span=(46, 47), match='S'>\n",
      "<_sre.SRE_Match object; span=(47, 48), match='T'>\n",
      "<_sre.SRE_Match object; span=(48, 49), match='U'>\n",
      "<_sre.SRE_Match object; span=(49, 50), match='V'>\n",
      "<_sre.SRE_Match object; span=(50, 51), match='W'>\n",
      "<_sre.SRE_Match object; span=(51, 52), match='X'>\n",
      "<_sre.SRE_Match object; span=(52, 53), match='Y'>\n",
      "<_sre.SRE_Match object; span=(53, 54), match='Z'>\n",
      "<_sre.SRE_Match object; span=(55, 56), match='1'>\n",
      "<_sre.SRE_Match object; span=(56, 57), match='2'>\n",
      "<_sre.SRE_Match object; span=(57, 58), match='3'>\n",
      "<_sre.SRE_Match object; span=(58, 59), match='4'>\n",
      "<_sre.SRE_Match object; span=(59, 60), match='5'>\n",
      "<_sre.SRE_Match object; span=(60, 61), match='6'>\n",
      "<_sre.SRE_Match object; span=(61, 62), match='7'>\n",
      "<_sre.SRE_Match object; span=(62, 63), match='8'>\n",
      "<_sre.SRE_Match object; span=(63, 64), match='9'>\n",
      "<_sre.SRE_Match object; span=(64, 65), match='0'>\n",
      "<_sre.SRE_Match object; span=(67, 68), match='H'>\n",
      "<_sre.SRE_Match object; span=(68, 69), match='a'>\n",
      "<_sre.SRE_Match object; span=(69, 70), match=' '>\n",
      "<_sre.SRE_Match object; span=(70, 71), match='H'>\n",
      "<_sre.SRE_Match object; span=(71, 72), match='a'>\n",
      "<_sre.SRE_Match object; span=(72, 73), match='H'>\n",
      "<_sre.SRE_Match object; span=(73, 74), match='a'>\n",
      "<_sre.SRE_Match object; span=(76, 77), match='M'>\n",
      "<_sre.SRE_Match object; span=(77, 78), match='e'>\n",
      "<_sre.SRE_Match object; span=(78, 79), match='t'>\n",
      "<_sre.SRE_Match object; span=(79, 80), match='a'>\n",
      "<_sre.SRE_Match object; span=(80, 81), match='C'>\n",
      "<_sre.SRE_Match object; span=(81, 82), match='h'>\n",
      "<_sre.SRE_Match object; span=(82, 83), match='a'>\n",
      "<_sre.SRE_Match object; span=(83, 84), match='r'>\n",
      "<_sre.SRE_Match object; span=(84, 85), match='a'>\n",
      "<_sre.SRE_Match object; span=(85, 86), match='c'>\n",
      "<_sre.SRE_Match object; span=(86, 87), match='t'>\n",
      "<_sre.SRE_Match object; span=(87, 88), match='e'>\n",
      "<_sre.SRE_Match object; span=(88, 89), match='r'>\n",
      "<_sre.SRE_Match object; span=(89, 90), match='s'>\n",
      "<_sre.SRE_Match object; span=(90, 91), match='('>\n",
      "<_sre.SRE_Match object; span=(91, 92), match='N'>\n",
      "<_sre.SRE_Match object; span=(92, 93), match='e'>\n",
      "<_sre.SRE_Match object; span=(93, 94), match='e'>\n",
      "<_sre.SRE_Match object; span=(94, 95), match='d'>\n",
      "<_sre.SRE_Match object; span=(95, 96), match=' '>\n",
      "<_sre.SRE_Match object; span=(96, 97), match='t'>\n",
      "<_sre.SRE_Match object; span=(97, 98), match='o'>\n",
      "<_sre.SRE_Match object; span=(98, 99), match=' '>\n",
      "<_sre.SRE_Match object; span=(99, 100), match='b'>\n",
      "<_sre.SRE_Match object; span=(100, 101), match='e'>\n",
      "<_sre.SRE_Match object; span=(101, 102), match=' '>\n",
      "<_sre.SRE_Match object; span=(102, 103), match='e'>\n",
      "<_sre.SRE_Match object; span=(103, 104), match='s'>\n",
      "<_sre.SRE_Match object; span=(104, 105), match='c'>\n",
      "<_sre.SRE_Match object; span=(105, 106), match='a'>\n",
      "<_sre.SRE_Match object; span=(106, 107), match='p'>\n",
      "<_sre.SRE_Match object; span=(107, 108), match='e'>\n",
      "<_sre.SRE_Match object; span=(108, 109), match='d'>\n",
      "<_sre.SRE_Match object; span=(109, 110), match=')'>\n",
      "<_sre.SRE_Match object; span=(110, 111), match=':'>\n",
      "<_sre.SRE_Match object; span=(113, 114), match='_'>\n",
      "<_sre.SRE_Match object; span=(114, 115), match=' '>\n",
      "<_sre.SRE_Match object; span=(115, 116), match='^'>\n",
      "<_sre.SRE_Match object; span=(116, 117), match=' '>\n",
      "<_sre.SRE_Match object; span=(117, 118), match='$'>\n",
      "<_sre.SRE_Match object; span=(118, 119), match=' '>\n",
      "<_sre.SRE_Match object; span=(119, 120), match='*'>\n",
      "<_sre.SRE_Match object; span=(120, 121), match=' '>\n",
      "<_sre.SRE_Match object; span=(121, 122), match='+'>\n",
      "<_sre.SRE_Match object; span=(122, 123), match=' '>\n",
      "<_sre.SRE_Match object; span=(123, 124), match='?'>\n",
      "<_sre.SRE_Match object; span=(124, 125), match=' '>\n",
      "<_sre.SRE_Match object; span=(125, 126), match='{'>\n",
      "<_sre.SRE_Match object; span=(126, 127), match=' '>\n",
      "<_sre.SRE_Match object; span=(127, 128), match='}'>\n",
      "<_sre.SRE_Match object; span=(128, 129), match=' '>\n",
      "<_sre.SRE_Match object; span=(129, 130), match='\\\\'>\n",
      "<_sre.SRE_Match object; span=(130, 131), match=' '>\n",
      "<_sre.SRE_Match object; span=(131, 132), match='|'>\n",
      "<_sre.SRE_Match object; span=(132, 133), match=' '>\n",
      "<_sre.SRE_Match object; span=(133, 134), match='('>\n",
      "<_sre.SRE_Match object; span=(134, 135), match=' '>\n",
      "<_sre.SRE_Match object; span=(135, 136), match=')'>\n",
      "<_sre.SRE_Match object; span=(136, 137), match=' '>\n",
      "<_sre.SRE_Match object; span=(139, 140), match='c'>\n",
      "<_sre.SRE_Match object; span=(140, 141), match='o'>\n",
      "<_sre.SRE_Match object; span=(141, 142), match='r'>\n",
      "<_sre.SRE_Match object; span=(142, 143), match='e'>\n",
      "<_sre.SRE_Match object; span=(143, 144), match='y'>\n",
      "<_sre.SRE_Match object; span=(144, 145), match='m'>\n",
      "<_sre.SRE_Match object; span=(145, 146), match='s'>\n",
      "<_sre.SRE_Match object; span=(146, 147), match='.'>\n",
      "<_sre.SRE_Match object; span=(147, 148), match='c'>\n",
      "<_sre.SRE_Match object; span=(148, 149), match='o'>\n",
      "<_sre.SRE_Match object; span=(149, 150), match='m'>\n",
      "<_sre.SRE_Match object; span=(152, 153), match='3'>\n",
      "<_sre.SRE_Match object; span=(153, 154), match='2'>\n",
      "<_sre.SRE_Match object; span=(154, 155), match='1'>\n",
      "<_sre.SRE_Match object; span=(155, 156), match='-'>\n",
      "<_sre.SRE_Match object; span=(156, 157), match='5'>\n",
      "<_sre.SRE_Match object; span=(157, 158), match='5'>\n",
      "<_sre.SRE_Match object; span=(158, 159), match='5'>\n",
      "<_sre.SRE_Match object; span=(159, 160), match='-'>\n",
      "<_sre.SRE_Match object; span=(160, 161), match='4'>\n",
      "<_sre.SRE_Match object; span=(161, 162), match='3'>\n",
      "<_sre.SRE_Match object; span=(162, 163), match='2'>\n",
      "<_sre.SRE_Match object; span=(163, 164), match='1'>\n",
      "<_sre.SRE_Match object; span=(165, 166), match='1'>\n",
      "<_sre.SRE_Match object; span=(166, 167), match='2'>\n",
      "<_sre.SRE_Match object; span=(167, 168), match='3'>\n",
      "<_sre.SRE_Match object; span=(168, 169), match='.'>\n",
      "<_sre.SRE_Match object; span=(169, 170), match='5'>\n",
      "<_sre.SRE_Match object; span=(170, 171), match='5'>\n",
      "<_sre.SRE_Match object; span=(171, 172), match='5'>\n",
      "<_sre.SRE_Match object; span=(172, 173), match='.'>\n",
      "<_sre.SRE_Match object; span=(173, 174), match='1'>\n",
      "<_sre.SRE_Match object; span=(174, 175), match='2'>\n",
      "<_sre.SRE_Match object; span=(175, 176), match='3'>\n",
      "<_sre.SRE_Match object; span=(176, 177), match='4'>\n",
      "<_sre.SRE_Match object; span=(179, 180), match='M'>\n",
      "<_sre.SRE_Match object; span=(180, 181), match='r'>\n",
      "<_sre.SRE_Match object; span=(181, 182), match='.'>\n",
      "<_sre.SRE_Match object; span=(182, 183), match=' '>\n",
      "<_sre.SRE_Match object; span=(183, 184), match='S'>\n",
      "<_sre.SRE_Match object; span=(184, 185), match='c'>\n",
      "<_sre.SRE_Match object; span=(185, 186), match='h'>\n",
      "<_sre.SRE_Match object; span=(186, 187), match='a'>\n",
      "<_sre.SRE_Match object; span=(187, 188), match='f'>\n",
      "<_sre.SRE_Match object; span=(188, 189), match='e'>\n",
      "<_sre.SRE_Match object; span=(189, 190), match='r'>\n",
      "<_sre.SRE_Match object; span=(191, 192), match='M'>\n",
      "<_sre.SRE_Match object; span=(192, 193), match='r'>\n",
      "<_sre.SRE_Match object; span=(193, 194), match=' '>\n",
      "<_sre.SRE_Match object; span=(194, 195), match='S'>\n",
      "<_sre.SRE_Match object; span=(195, 196), match='m'>\n",
      "<_sre.SRE_Match object; span=(196, 197), match='i'>\n",
      "<_sre.SRE_Match object; span=(197, 198), match='t'>\n",
      "<_sre.SRE_Match object; span=(198, 199), match='h'>\n",
      "<_sre.SRE_Match object; span=(200, 201), match='M'>\n",
      "<_sre.SRE_Match object; span=(201, 202), match='s'>\n",
      "<_sre.SRE_Match object; span=(202, 203), match=' '>\n",
      "<_sre.SRE_Match object; span=(203, 204), match='D'>\n",
      "<_sre.SRE_Match object; span=(204, 205), match='a'>\n",
      "<_sre.SRE_Match object; span=(205, 206), match='v'>\n",
      "<_sre.SRE_Match object; span=(206, 207), match='i'>\n",
      "<_sre.SRE_Match object; span=(207, 208), match='s'>\n",
      "<_sre.SRE_Match object; span=(209, 210), match='M'>\n",
      "<_sre.SRE_Match object; span=(210, 211), match='r'>\n",
      "<_sre.SRE_Match object; span=(211, 212), match='s'>\n",
      "<_sre.SRE_Match object; span=(212, 213), match='.'>\n",
      "<_sre.SRE_Match object; span=(213, 214), match=' '>\n",
      "<_sre.SRE_Match object; span=(214, 215), match='R'>\n",
      "<_sre.SRE_Match object; span=(215, 216), match='o'>\n",
      "<_sre.SRE_Match object; span=(216, 217), match='b'>\n",
      "<_sre.SRE_Match object; span=(217, 218), match='i'>\n",
      "<_sre.SRE_Match object; span=(218, 219), match='n'>\n",
      "<_sre.SRE_Match object; span=(219, 220), match='s'>\n",
      "<_sre.SRE_Match object; span=(220, 221), match='o'>\n",
      "<_sre.SRE_Match object; span=(221, 222), match='n'>\n",
      "<_sre.SRE_Match object; span=(223, 224), match='M'>\n",
      "<_sre.SRE_Match object; span=(224, 225), match='r'>\n",
      "<_sre.SRE_Match object; span=(225, 226), match='.'>\n",
      "<_sre.SRE_Match object; span=(226, 227), match=' '>\n",
      "<_sre.SRE_Match object; span=(227, 228), match='T'>\n"
     ]
    }
   ],
   "source": [
    "pattern = re.compile(r'.')\n",
    "\n",
    "matches = pattern.finditer(text_to_search)\n",
    "\n",
    "for match in matches:\n",
    "    print(match)"
   ]
  },
  {
   "cell_type": "markdown",
   "metadata": {},
   "source": [
    "শুধু (.) এর আলাদা একটা মিনিং আছে রেজেক্স এ তাই এর আগে \\ ইউজ করতে হয়, মানে exactly এই প্যাটার্নটাই বের করে নিয়ে আসবে "
   ]
  },
  {
   "cell_type": "code",
   "execution_count": 36,
   "metadata": {},
   "outputs": [
    {
     "name": "stdout",
     "output_type": "stream",
     "text": [
      "<_sre.SRE_Match object; span=(146, 147), match='.'>\n",
      "<_sre.SRE_Match object; span=(168, 169), match='.'>\n",
      "<_sre.SRE_Match object; span=(172, 173), match='.'>\n",
      "<_sre.SRE_Match object; span=(181, 182), match='.'>\n",
      "<_sre.SRE_Match object; span=(212, 213), match='.'>\n",
      "<_sre.SRE_Match object; span=(225, 226), match='.'>\n"
     ]
    }
   ],
   "source": [
    "pattern = re.compile(r'\\.')\n",
    "\n",
    "matches = pattern.finditer(text_to_search)\n",
    "\n",
    "for match in matches:\n",
    "    print(match)"
   ]
  },
  {
   "cell_type": "code",
   "execution_count": 37,
   "metadata": {},
   "outputs": [
    {
     "name": "stdout",
     "output_type": "stream",
     "text": [
      "<_sre.SRE_Match object; span=(139, 150), match='coreyms.com'>\n"
     ]
    }
   ],
   "source": [
    "pattern = re.compile(r'coreyms\\.com')\n",
    "\n",
    "matches = pattern.finditer(text_to_search)\n",
    "\n",
    "for match in matches:\n",
    "    print(match)"
   ]
  },
  {
   "cell_type": "code",
   "execution_count": 40,
   "metadata": {},
   "outputs": [
    {
     "name": "stdout",
     "output_type": "stream",
     "text": [
      "coreyms.com\n"
     ]
    }
   ],
   "source": [
    "print(text_to_search[139:150])"
   ]
  },
  {
   "cell_type": "code",
   "execution_count": 41,
   "metadata": {},
   "outputs": [
    {
     "name": "stdout",
     "output_type": "stream",
     "text": [
      "<_sre.SRE_Match object; span=(55, 56), match='1'>\n",
      "<_sre.SRE_Match object; span=(56, 57), match='2'>\n",
      "<_sre.SRE_Match object; span=(57, 58), match='3'>\n",
      "<_sre.SRE_Match object; span=(58, 59), match='4'>\n",
      "<_sre.SRE_Match object; span=(59, 60), match='5'>\n",
      "<_sre.SRE_Match object; span=(60, 61), match='6'>\n",
      "<_sre.SRE_Match object; span=(61, 62), match='7'>\n",
      "<_sre.SRE_Match object; span=(62, 63), match='8'>\n",
      "<_sre.SRE_Match object; span=(63, 64), match='9'>\n",
      "<_sre.SRE_Match object; span=(64, 65), match='0'>\n",
      "<_sre.SRE_Match object; span=(152, 153), match='3'>\n",
      "<_sre.SRE_Match object; span=(153, 154), match='2'>\n",
      "<_sre.SRE_Match object; span=(154, 155), match='1'>\n",
      "<_sre.SRE_Match object; span=(156, 157), match='5'>\n",
      "<_sre.SRE_Match object; span=(157, 158), match='5'>\n",
      "<_sre.SRE_Match object; span=(158, 159), match='5'>\n",
      "<_sre.SRE_Match object; span=(160, 161), match='4'>\n",
      "<_sre.SRE_Match object; span=(161, 162), match='3'>\n",
      "<_sre.SRE_Match object; span=(162, 163), match='2'>\n",
      "<_sre.SRE_Match object; span=(163, 164), match='1'>\n",
      "<_sre.SRE_Match object; span=(165, 166), match='1'>\n",
      "<_sre.SRE_Match object; span=(166, 167), match='2'>\n",
      "<_sre.SRE_Match object; span=(167, 168), match='3'>\n",
      "<_sre.SRE_Match object; span=(169, 170), match='5'>\n",
      "<_sre.SRE_Match object; span=(170, 171), match='5'>\n",
      "<_sre.SRE_Match object; span=(171, 172), match='5'>\n",
      "<_sre.SRE_Match object; span=(173, 174), match='1'>\n",
      "<_sre.SRE_Match object; span=(174, 175), match='2'>\n",
      "<_sre.SRE_Match object; span=(175, 176), match='3'>\n",
      "<_sre.SRE_Match object; span=(176, 177), match='4'>\n"
     ]
    }
   ],
   "source": [
    "pattern = re.compile(r'\\d')\n",
    "\n",
    "matches = pattern.finditer(text_to_search)\n",
    "\n",
    "for match in matches:\n",
    "    print(match)"
   ]
  },
  {
   "cell_type": "code",
   "execution_count": 42,
   "metadata": {},
   "outputs": [
    {
     "name": "stdout",
     "output_type": "stream",
     "text": [
      "<_sre.SRE_Match object; span=(0, 1), match='\\n'>\n",
      "<_sre.SRE_Match object; span=(1, 2), match='a'>\n",
      "<_sre.SRE_Match object; span=(2, 3), match='b'>\n",
      "<_sre.SRE_Match object; span=(3, 4), match='c'>\n",
      "<_sre.SRE_Match object; span=(4, 5), match='d'>\n",
      "<_sre.SRE_Match object; span=(5, 6), match='e'>\n",
      "<_sre.SRE_Match object; span=(6, 7), match='f'>\n",
      "<_sre.SRE_Match object; span=(7, 8), match='g'>\n",
      "<_sre.SRE_Match object; span=(8, 9), match='h'>\n",
      "<_sre.SRE_Match object; span=(9, 10), match='i'>\n",
      "<_sre.SRE_Match object; span=(10, 11), match='j'>\n",
      "<_sre.SRE_Match object; span=(11, 12), match='k'>\n",
      "<_sre.SRE_Match object; span=(12, 13), match='l'>\n",
      "<_sre.SRE_Match object; span=(13, 14), match='m'>\n",
      "<_sre.SRE_Match object; span=(14, 15), match='n'>\n",
      "<_sre.SRE_Match object; span=(15, 16), match='o'>\n",
      "<_sre.SRE_Match object; span=(16, 17), match='p'>\n",
      "<_sre.SRE_Match object; span=(17, 18), match='q'>\n",
      "<_sre.SRE_Match object; span=(18, 19), match='r'>\n",
      "<_sre.SRE_Match object; span=(19, 20), match='s'>\n",
      "<_sre.SRE_Match object; span=(20, 21), match='t'>\n",
      "<_sre.SRE_Match object; span=(21, 22), match='u'>\n",
      "<_sre.SRE_Match object; span=(22, 23), match='v'>\n",
      "<_sre.SRE_Match object; span=(23, 24), match='w'>\n",
      "<_sre.SRE_Match object; span=(24, 25), match='x'>\n",
      "<_sre.SRE_Match object; span=(25, 26), match='y'>\n",
      "<_sre.SRE_Match object; span=(26, 27), match='z'>\n",
      "<_sre.SRE_Match object; span=(27, 28), match='\\n'>\n",
      "<_sre.SRE_Match object; span=(28, 29), match='A'>\n",
      "<_sre.SRE_Match object; span=(29, 30), match='B'>\n",
      "<_sre.SRE_Match object; span=(30, 31), match='C'>\n",
      "<_sre.SRE_Match object; span=(31, 32), match='D'>\n",
      "<_sre.SRE_Match object; span=(32, 33), match='E'>\n",
      "<_sre.SRE_Match object; span=(33, 34), match='F'>\n",
      "<_sre.SRE_Match object; span=(34, 35), match='G'>\n",
      "<_sre.SRE_Match object; span=(35, 36), match='H'>\n",
      "<_sre.SRE_Match object; span=(36, 37), match='I'>\n",
      "<_sre.SRE_Match object; span=(37, 38), match='J'>\n",
      "<_sre.SRE_Match object; span=(38, 39), match='K'>\n",
      "<_sre.SRE_Match object; span=(39, 40), match='L'>\n",
      "<_sre.SRE_Match object; span=(40, 41), match='M'>\n",
      "<_sre.SRE_Match object; span=(41, 42), match='N'>\n",
      "<_sre.SRE_Match object; span=(42, 43), match='O'>\n",
      "<_sre.SRE_Match object; span=(43, 44), match='P'>\n",
      "<_sre.SRE_Match object; span=(44, 45), match='Q'>\n",
      "<_sre.SRE_Match object; span=(45, 46), match='R'>\n",
      "<_sre.SRE_Match object; span=(46, 47), match='S'>\n",
      "<_sre.SRE_Match object; span=(47, 48), match='T'>\n",
      "<_sre.SRE_Match object; span=(48, 49), match='U'>\n",
      "<_sre.SRE_Match object; span=(49, 50), match='V'>\n",
      "<_sre.SRE_Match object; span=(50, 51), match='W'>\n",
      "<_sre.SRE_Match object; span=(51, 52), match='X'>\n",
      "<_sre.SRE_Match object; span=(52, 53), match='Y'>\n",
      "<_sre.SRE_Match object; span=(53, 54), match='Z'>\n",
      "<_sre.SRE_Match object; span=(54, 55), match='\\n'>\n",
      "<_sre.SRE_Match object; span=(65, 66), match='\\n'>\n",
      "<_sre.SRE_Match object; span=(66, 67), match='\\n'>\n",
      "<_sre.SRE_Match object; span=(67, 68), match='H'>\n",
      "<_sre.SRE_Match object; span=(68, 69), match='a'>\n",
      "<_sre.SRE_Match object; span=(69, 70), match=' '>\n",
      "<_sre.SRE_Match object; span=(70, 71), match='H'>\n",
      "<_sre.SRE_Match object; span=(71, 72), match='a'>\n",
      "<_sre.SRE_Match object; span=(72, 73), match='H'>\n",
      "<_sre.SRE_Match object; span=(73, 74), match='a'>\n",
      "<_sre.SRE_Match object; span=(74, 75), match='\\n'>\n",
      "<_sre.SRE_Match object; span=(75, 76), match='\\n'>\n",
      "<_sre.SRE_Match object; span=(76, 77), match='M'>\n",
      "<_sre.SRE_Match object; span=(77, 78), match='e'>\n",
      "<_sre.SRE_Match object; span=(78, 79), match='t'>\n",
      "<_sre.SRE_Match object; span=(79, 80), match='a'>\n",
      "<_sre.SRE_Match object; span=(80, 81), match='C'>\n",
      "<_sre.SRE_Match object; span=(81, 82), match='h'>\n",
      "<_sre.SRE_Match object; span=(82, 83), match='a'>\n",
      "<_sre.SRE_Match object; span=(83, 84), match='r'>\n",
      "<_sre.SRE_Match object; span=(84, 85), match='a'>\n",
      "<_sre.SRE_Match object; span=(85, 86), match='c'>\n",
      "<_sre.SRE_Match object; span=(86, 87), match='t'>\n",
      "<_sre.SRE_Match object; span=(87, 88), match='e'>\n",
      "<_sre.SRE_Match object; span=(88, 89), match='r'>\n",
      "<_sre.SRE_Match object; span=(89, 90), match='s'>\n",
      "<_sre.SRE_Match object; span=(90, 91), match='('>\n",
      "<_sre.SRE_Match object; span=(91, 92), match='N'>\n",
      "<_sre.SRE_Match object; span=(92, 93), match='e'>\n",
      "<_sre.SRE_Match object; span=(93, 94), match='e'>\n",
      "<_sre.SRE_Match object; span=(94, 95), match='d'>\n",
      "<_sre.SRE_Match object; span=(95, 96), match=' '>\n",
      "<_sre.SRE_Match object; span=(96, 97), match='t'>\n",
      "<_sre.SRE_Match object; span=(97, 98), match='o'>\n",
      "<_sre.SRE_Match object; span=(98, 99), match=' '>\n",
      "<_sre.SRE_Match object; span=(99, 100), match='b'>\n",
      "<_sre.SRE_Match object; span=(100, 101), match='e'>\n",
      "<_sre.SRE_Match object; span=(101, 102), match=' '>\n",
      "<_sre.SRE_Match object; span=(102, 103), match='e'>\n",
      "<_sre.SRE_Match object; span=(103, 104), match='s'>\n",
      "<_sre.SRE_Match object; span=(104, 105), match='c'>\n",
      "<_sre.SRE_Match object; span=(105, 106), match='a'>\n",
      "<_sre.SRE_Match object; span=(106, 107), match='p'>\n",
      "<_sre.SRE_Match object; span=(107, 108), match='e'>\n",
      "<_sre.SRE_Match object; span=(108, 109), match='d'>\n",
      "<_sre.SRE_Match object; span=(109, 110), match=')'>\n",
      "<_sre.SRE_Match object; span=(110, 111), match=':'>\n",
      "<_sre.SRE_Match object; span=(111, 112), match='\\n'>\n",
      "<_sre.SRE_Match object; span=(112, 113), match='\\n'>\n",
      "<_sre.SRE_Match object; span=(113, 114), match='_'>\n",
      "<_sre.SRE_Match object; span=(114, 115), match=' '>\n",
      "<_sre.SRE_Match object; span=(115, 116), match='^'>\n",
      "<_sre.SRE_Match object; span=(116, 117), match=' '>\n",
      "<_sre.SRE_Match object; span=(117, 118), match='$'>\n",
      "<_sre.SRE_Match object; span=(118, 119), match=' '>\n",
      "<_sre.SRE_Match object; span=(119, 120), match='*'>\n",
      "<_sre.SRE_Match object; span=(120, 121), match=' '>\n",
      "<_sre.SRE_Match object; span=(121, 122), match='+'>\n",
      "<_sre.SRE_Match object; span=(122, 123), match=' '>\n",
      "<_sre.SRE_Match object; span=(123, 124), match='?'>\n",
      "<_sre.SRE_Match object; span=(124, 125), match=' '>\n",
      "<_sre.SRE_Match object; span=(125, 126), match='{'>\n",
      "<_sre.SRE_Match object; span=(126, 127), match=' '>\n",
      "<_sre.SRE_Match object; span=(127, 128), match='}'>\n",
      "<_sre.SRE_Match object; span=(128, 129), match=' '>\n",
      "<_sre.SRE_Match object; span=(129, 130), match='\\\\'>\n",
      "<_sre.SRE_Match object; span=(130, 131), match=' '>\n",
      "<_sre.SRE_Match object; span=(131, 132), match='|'>\n",
      "<_sre.SRE_Match object; span=(132, 133), match=' '>\n",
      "<_sre.SRE_Match object; span=(133, 134), match='('>\n",
      "<_sre.SRE_Match object; span=(134, 135), match=' '>\n",
      "<_sre.SRE_Match object; span=(135, 136), match=')'>\n",
      "<_sre.SRE_Match object; span=(136, 137), match=' '>\n",
      "<_sre.SRE_Match object; span=(137, 138), match='\\n'>\n",
      "<_sre.SRE_Match object; span=(138, 139), match='\\n'>\n",
      "<_sre.SRE_Match object; span=(139, 140), match='c'>\n",
      "<_sre.SRE_Match object; span=(140, 141), match='o'>\n",
      "<_sre.SRE_Match object; span=(141, 142), match='r'>\n",
      "<_sre.SRE_Match object; span=(142, 143), match='e'>\n",
      "<_sre.SRE_Match object; span=(143, 144), match='y'>\n",
      "<_sre.SRE_Match object; span=(144, 145), match='m'>\n",
      "<_sre.SRE_Match object; span=(145, 146), match='s'>\n",
      "<_sre.SRE_Match object; span=(146, 147), match='.'>\n",
      "<_sre.SRE_Match object; span=(147, 148), match='c'>\n",
      "<_sre.SRE_Match object; span=(148, 149), match='o'>\n",
      "<_sre.SRE_Match object; span=(149, 150), match='m'>\n",
      "<_sre.SRE_Match object; span=(150, 151), match='\\n'>\n",
      "<_sre.SRE_Match object; span=(151, 152), match='\\n'>\n",
      "<_sre.SRE_Match object; span=(155, 156), match='-'>\n",
      "<_sre.SRE_Match object; span=(159, 160), match='-'>\n",
      "<_sre.SRE_Match object; span=(164, 165), match='\\n'>\n",
      "<_sre.SRE_Match object; span=(168, 169), match='.'>\n",
      "<_sre.SRE_Match object; span=(172, 173), match='.'>\n",
      "<_sre.SRE_Match object; span=(177, 178), match='\\n'>\n",
      "<_sre.SRE_Match object; span=(178, 179), match='\\n'>\n",
      "<_sre.SRE_Match object; span=(179, 180), match='M'>\n",
      "<_sre.SRE_Match object; span=(180, 181), match='r'>\n",
      "<_sre.SRE_Match object; span=(181, 182), match='.'>\n",
      "<_sre.SRE_Match object; span=(182, 183), match=' '>\n",
      "<_sre.SRE_Match object; span=(183, 184), match='S'>\n",
      "<_sre.SRE_Match object; span=(184, 185), match='c'>\n",
      "<_sre.SRE_Match object; span=(185, 186), match='h'>\n",
      "<_sre.SRE_Match object; span=(186, 187), match='a'>\n",
      "<_sre.SRE_Match object; span=(187, 188), match='f'>\n",
      "<_sre.SRE_Match object; span=(188, 189), match='e'>\n",
      "<_sre.SRE_Match object; span=(189, 190), match='r'>\n",
      "<_sre.SRE_Match object; span=(190, 191), match='\\n'>\n",
      "<_sre.SRE_Match object; span=(191, 192), match='M'>\n",
      "<_sre.SRE_Match object; span=(192, 193), match='r'>\n",
      "<_sre.SRE_Match object; span=(193, 194), match=' '>\n",
      "<_sre.SRE_Match object; span=(194, 195), match='S'>\n",
      "<_sre.SRE_Match object; span=(195, 196), match='m'>\n",
      "<_sre.SRE_Match object; span=(196, 197), match='i'>\n",
      "<_sre.SRE_Match object; span=(197, 198), match='t'>\n",
      "<_sre.SRE_Match object; span=(198, 199), match='h'>\n",
      "<_sre.SRE_Match object; span=(199, 200), match='\\n'>\n",
      "<_sre.SRE_Match object; span=(200, 201), match='M'>\n",
      "<_sre.SRE_Match object; span=(201, 202), match='s'>\n",
      "<_sre.SRE_Match object; span=(202, 203), match=' '>\n",
      "<_sre.SRE_Match object; span=(203, 204), match='D'>\n",
      "<_sre.SRE_Match object; span=(204, 205), match='a'>\n",
      "<_sre.SRE_Match object; span=(205, 206), match='v'>\n",
      "<_sre.SRE_Match object; span=(206, 207), match='i'>\n",
      "<_sre.SRE_Match object; span=(207, 208), match='s'>\n",
      "<_sre.SRE_Match object; span=(208, 209), match='\\n'>\n",
      "<_sre.SRE_Match object; span=(209, 210), match='M'>\n",
      "<_sre.SRE_Match object; span=(210, 211), match='r'>\n",
      "<_sre.SRE_Match object; span=(211, 212), match='s'>\n",
      "<_sre.SRE_Match object; span=(212, 213), match='.'>\n",
      "<_sre.SRE_Match object; span=(213, 214), match=' '>\n",
      "<_sre.SRE_Match object; span=(214, 215), match='R'>\n",
      "<_sre.SRE_Match object; span=(215, 216), match='o'>\n",
      "<_sre.SRE_Match object; span=(216, 217), match='b'>\n",
      "<_sre.SRE_Match object; span=(217, 218), match='i'>\n",
      "<_sre.SRE_Match object; span=(218, 219), match='n'>\n",
      "<_sre.SRE_Match object; span=(219, 220), match='s'>\n",
      "<_sre.SRE_Match object; span=(220, 221), match='o'>\n",
      "<_sre.SRE_Match object; span=(221, 222), match='n'>\n",
      "<_sre.SRE_Match object; span=(222, 223), match='\\n'>\n",
      "<_sre.SRE_Match object; span=(223, 224), match='M'>\n",
      "<_sre.SRE_Match object; span=(224, 225), match='r'>\n",
      "<_sre.SRE_Match object; span=(225, 226), match='.'>\n",
      "<_sre.SRE_Match object; span=(226, 227), match=' '>\n",
      "<_sre.SRE_Match object; span=(227, 228), match='T'>\n",
      "<_sre.SRE_Match object; span=(228, 229), match='\\n'>\n",
      "<_sre.SRE_Match object; span=(229, 230), match='\\n'>\n"
     ]
    }
   ],
   "source": [
    "pattern = re.compile(r'\\D')\n",
    "\n",
    "matches = pattern.finditer(text_to_search)\n",
    "\n",
    "for match in matches:\n",
    "    print(match)"
   ]
  },
  {
   "cell_type": "markdown",
   "metadata": {},
   "source": [
    "অনেক গুলার Uppercase ভার্সন আছে। আপারকেস ভার্সন মানে হল বিপরীত কাজ করা । যেমন \\d মানে হল সব ডিজিট খুঁজে বের করা কিন্তু \\D মানে হল ডিজিট বাদে বাকিগুলা খুঁজে বের করা, \\w মানে হল word character (a-z, A-Z, 0-9, _ ) আর \\W মানে হল not wordcharacter এভাবেই বাকিগুলা "
   ]
  },
  {
   "cell_type": "code",
   "execution_count": 43,
   "metadata": {},
   "outputs": [
    {
     "name": "stdout",
     "output_type": "stream",
     "text": [
      "<_sre.SRE_Match object; span=(67, 69), match='Ha'>\n",
      "<_sre.SRE_Match object; span=(70, 72), match='Ha'>\n"
     ]
    }
   ],
   "source": [
    "# word boundary\n",
    "pattern = re.compile(r'\\bHa')\n",
    "\n",
    "matches = pattern.finditer(text_to_search)\n",
    "\n",
    "for match in matches:\n",
    "    print(match)"
   ]
  },
  {
   "cell_type": "code",
   "execution_count": 45,
   "metadata": {},
   "outputs": [
    {
     "name": "stdout",
     "output_type": "stream",
     "text": [
      "<_sre.SRE_Match object; span=(72, 74), match='Ha'>\n"
     ]
    }
   ],
   "source": [
    "# Non word boundary\n",
    "pattern = re.compile(r'\\BHa')\n",
    "\n",
    "matches = pattern.finditer(text_to_search)\n",
    "\n",
    "for match in matches:\n",
    "    print(match)"
   ]
  },
  {
   "cell_type": "code",
   "execution_count": 49,
   "metadata": {},
   "outputs": [
    {
     "name": "stdout",
     "output_type": "stream",
     "text": [
      "<_sre.SRE_Match object; span=(0, 5), match='Start'>\n"
     ]
    }
   ],
   "source": [
    "# ^beginning of a string\n",
    "# $ end of a string\n",
    "sentence = 'Start a sentence and then bring it to an end'\n",
    "pattern = re.compile(r'^Start')\n",
    "matches = pattern.finditer(sentence)\n",
    "for match in matches:\n",
    "    print(match)"
   ]
  },
  {
   "cell_type": "code",
   "execution_count": 50,
   "metadata": {},
   "outputs": [
    {
     "name": "stdout",
     "output_type": "stream",
     "text": [
      "<_sre.SRE_Match object; span=(41, 44), match='end'>\n"
     ]
    }
   ],
   "source": [
    "sentence = 'Start a sentence and then bring it to an end'\n",
    "pattern = re.compile(r'end$')\n",
    "matches = pattern.finditer(sentence)\n",
    "for match in matches:\n",
    "    print(match)"
   ]
  },
  {
   "cell_type": "markdown",
   "metadata": {},
   "source": [
    "### meta character"
   ]
  },
  {
   "cell_type": "code",
   "execution_count": 60,
   "metadata": {},
   "outputs": [
    {
     "name": "stdout",
     "output_type": "stream",
     "text": [
      "<_sre.SRE_Match object; span=(152, 163), match='321-555-432'>\n",
      "<_sre.SRE_Match object; span=(165, 176), match='123.555.123'>\n",
      "<_sre.SRE_Match object; span=(178, 189), match='123*555*123'>\n"
     ]
    }
   ],
   "source": [
    "pattern = re.compile(r'\\d\\d\\d.\\d\\d\\d.\\d\\d\\d')\n",
    "\n",
    "matches = pattern.finditer(text_to_search)\n",
    "\n",
    "for match in matches:\n",
    "    print(match)"
   ]
  },
  {
   "cell_type": "code",
   "execution_count": 61,
   "metadata": {},
   "outputs": [
    {
     "name": "stdout",
     "output_type": "stream",
     "text": [
      "<_sre.SRE_Match object; span=(152, 163), match='321-555-432'>\n",
      "<_sre.SRE_Match object; span=(165, 176), match='123.555.123'>\n"
     ]
    }
   ],
   "source": [
    "# match characterSet\n",
    "pattern = re.compile(r'\\d\\d\\d[-.]\\d\\d\\d[-.]\\d\\d\\d')\n",
    "\n",
    "matches = pattern.finditer(text_to_search)\n",
    "\n",
    "for match in matches:\n",
    "    print(match)"
   ]
  },
  {
   "cell_type": "markdown",
   "metadata": {},
   "source": [
    "এখানে * ম্যাচ করে নাই, কারণ characterset এর মদ্ধে দিয়ে দেওয়া হয় নাই "
   ]
  },
  {
   "cell_type": "code",
   "execution_count": 64,
   "metadata": {},
   "outputs": [
    {
     "name": "stdout",
     "output_type": "stream",
     "text": [
      "<_sre.SRE_Match object; span=(191, 202), match='800.555.123'>\n",
      "<_sre.SRE_Match object; span=(204, 215), match='900-555-123'>\n"
     ]
    }
   ],
   "source": [
    "# match characterSet again\n",
    "# ekhane khujbe je prothome 8 othoba 9 ache kina ebong er por 00 ache kina tarpor bakigula same\n",
    "pattern = re.compile(r'[89]00[-.]\\d\\d\\d[-.]\\d\\d\\d')\n",
    "\n",
    "matches = pattern.finditer(text_to_search)\n",
    "\n",
    "for match in matches:\n",
    "    print(match)"
   ]
  },
  {
   "cell_type": "code",
   "execution_count": 67,
   "metadata": {},
   "outputs": [
    {
     "name": "stdout",
     "output_type": "stream",
     "text": [
      "<_sre.SRE_Match object; span=(1, 4), match='cat'>\n",
      "<_sre.SRE_Match object; span=(5, 8), match='mat'>\n",
      "<_sre.SRE_Match object; span=(9, 12), match='rat'>\n"
     ]
    }
   ],
   "source": [
    "new = '''\n",
    "cat\n",
    "mat\n",
    "rat\n",
    "'''\n",
    "pattern = re.compile(r'[^b]at')\n",
    "\n",
    "matches = pattern.finditer(new)\n",
    "\n",
    "for match in matches:\n",
    "    print(match)"
   ]
  },
  {
   "cell_type": "code",
   "execution_count": 57,
   "metadata": {},
   "outputs": [
    {
     "name": "stdout",
     "output_type": "stream",
     "text": [
      "<_sre.SRE_Match object; span=(12, 23), match='615-555-716'>\n",
      "<_sre.SRE_Match object; span=(102, 113), match='800-555-566'>\n",
      "<_sre.SRE_Match object; span=(191, 202), match='560-555-515'>\n",
      "<_sre.SRE_Match object; span=(281, 292), match='900-555-934'>\n",
      "<_sre.SRE_Match object; span=(378, 389), match='714-555-740'>\n",
      "<_sre.SRE_Match object; span=(467, 478), match='800-555-677'>\n",
      "<_sre.SRE_Match object; span=(557, 568), match='783-555-479'>\n",
      "<_sre.SRE_Match object; span=(647, 658), match='516-555-461'>\n",
      "<_sre.SRE_Match object; span=(740, 751), match='127-555-186'>\n",
      "<_sre.SRE_Match object; span=(829, 840), match='608-555-493'>\n",
      "<_sre.SRE_Match object; span=(915, 926), match='568-555-605'>\n",
      "<_sre.SRE_Match object; span=(1003, 1014), match='292-555-187'>\n",
      "<_sre.SRE_Match object; span=(1091, 1102), match='900-555-320'>\n",
      "<_sre.SRE_Match object; span=(1180, 1191), match='614-555-116'>\n",
      "<_sre.SRE_Match object; span=(1269, 1280), match='530-555-267'>\n",
      "<_sre.SRE_Match object; span=(1355, 1366), match='470-555-275'>\n",
      "<_sre.SRE_Match object; span=(1439, 1450), match='800-555-608'>\n",
      "<_sre.SRE_Match object; span=(1526, 1537), match='880-555-831'>\n",
      "<_sre.SRE_Match object; span=(1614, 1625), match='777-555-837'>\n",
      "<_sre.SRE_Match object; span=(1697, 1708), match='998-555-738'>\n",
      "<_sre.SRE_Match object; span=(1790, 1801), match='800-555-710'>\n",
      "<_sre.SRE_Match object; span=(1874, 1885), match='903-555-827'>\n",
      "<_sre.SRE_Match object; span=(1962, 1973), match='196-555-567'>\n",
      "<_sre.SRE_Match object; span=(2051, 2062), match='900-555-511'>\n",
      "<_sre.SRE_Match object; span=(2135, 2146), match='905-555-163'>\n",
      "<_sre.SRE_Match object; span=(2216, 2227), match='203-555-347'>\n",
      "<_sre.SRE_Match object; span=(2300, 2311), match='884-555-844'>\n",
      "<_sre.SRE_Match object; span=(2387, 2398), match='904-555-855'>\n",
      "<_sre.SRE_Match object; span=(2475, 2486), match='889-555-739'>\n",
      "<_sre.SRE_Match object; span=(2562, 2573), match='195-555-240'>\n",
      "<_sre.SRE_Match object; span=(2647, 2658), match='321-555-905'>\n",
      "<_sre.SRE_Match object; span=(2734, 2745), match='133-555-171'>\n",
      "<_sre.SRE_Match object; span=(2826, 2837), match='900-555-542'>\n",
      "<_sre.SRE_Match object; span=(2915, 2926), match='760-555-714'>\n",
      "<_sre.SRE_Match object; span=(3012, 3023), match='391-555-662'>\n",
      "<_sre.SRE_Match object; span=(3103, 3114), match='932-555-772'>\n",
      "<_sre.SRE_Match object; span=(3192, 3203), match='609-555-790'>\n",
      "<_sre.SRE_Match object; span=(3284, 3295), match='800-555-881'>\n",
      "<_sre.SRE_Match object; span=(3372, 3383), match='149-555-765'>\n",
      "<_sre.SRE_Match object; span=(3452, 3463), match='130-555-970'>\n",
      "<_sre.SRE_Match object; span=(3535, 3546), match='143-555-929'>\n",
      "<_sre.SRE_Match object; span=(3624, 3635), match='903-555-987'>\n",
      "<_sre.SRE_Match object; span=(3714, 3725), match='574-555-319'>\n",
      "<_sre.SRE_Match object; span=(3802, 3813), match='496-555-753'>\n",
      "<_sre.SRE_Match object; span=(3887, 3898), match='210-555-375'>\n",
      "<_sre.SRE_Match object; span=(3971, 3982), match='900-555-959'>\n",
      "<_sre.SRE_Match object; span=(4056, 4067), match='866-555-984'>\n",
      "<_sre.SRE_Match object; span=(4140, 4151), match='669-555-715'>\n",
      "<_sre.SRE_Match object; span=(4225, 4236), match='152-555-741'>\n",
      "<_sre.SRE_Match object; span=(4317, 4328), match='893-555-983'>\n",
      "<_sre.SRE_Match object; span=(4407, 4418), match='217-555-712'>\n",
      "<_sre.SRE_Match object; span=(4498, 4509), match='786-555-654'>\n",
      "<_sre.SRE_Match object; span=(4588, 4599), match='780-555-257'>\n",
      "<_sre.SRE_Match object; span=(4676, 4687), match='926-555-873'>\n",
      "<_sre.SRE_Match object; span=(4762, 4773), match='895-555-353'>\n",
      "<_sre.SRE_Match object; span=(4859, 4870), match='874-555-394'>\n",
      "<_sre.SRE_Match object; span=(4945, 4956), match='800-555-242'>\n",
      "<_sre.SRE_Match object; span=(5034, 5045), match='936-555-634'>\n",
      "<_sre.SRE_Match object; span=(5123, 5134), match='372-555-980'>\n",
      "<_sre.SRE_Match object; span=(5210, 5221), match='890-555-561'>\n",
      "<_sre.SRE_Match object; span=(5292, 5303), match='670-555-300'>\n",
      "<_sre.SRE_Match object; span=(5382, 5393), match='509-555-599'>\n",
      "<_sre.SRE_Match object; span=(5475, 5486), match='721-555-563'>\n",
      "<_sre.SRE_Match object; span=(5566, 5577), match='900-555-356'>\n",
      "<_sre.SRE_Match object; span=(5656, 5667), match='147-555-683'>\n",
      "<_sre.SRE_Match object; span=(5745, 5756), match='582-555-342'>\n",
      "<_sre.SRE_Match object; span=(5830, 5841), match='400-555-170'>\n",
      "<_sre.SRE_Match object; span=(5921, 5932), match='525-555-179'>\n",
      "<_sre.SRE_Match object; span=(6011, 6022), match='317-555-670'>\n",
      "<_sre.SRE_Match object; span=(6099, 6110), match='974-555-830'>\n",
      "<_sre.SRE_Match object; span=(6189, 6200), match='800-555-321'>\n",
      "<_sre.SRE_Match object; span=(6273, 6284), match='746-555-409'>\n",
      "<_sre.SRE_Match object; span=(6360, 6371), match='922-555-177'>\n",
      "<_sre.SRE_Match object; span=(6445, 6456), match='711-555-442'>\n",
      "<_sre.SRE_Match object; span=(6530, 6541), match='355-555-187'>\n",
      "<_sre.SRE_Match object; span=(6619, 6630), match='852-555-652'>\n",
      "<_sre.SRE_Match object; span=(6711, 6722), match='691-555-577'>\n",
      "<_sre.SRE_Match object; span=(6803, 6814), match='332-555-544'>\n",
      "<_sre.SRE_Match object; span=(6889, 6900), match='900-555-775'>\n",
      "<_sre.SRE_Match object; span=(6971, 6982), match='379-555-368'>\n",
      "<_sre.SRE_Match object; span=(7061, 7072), match='127-555-968'>\n",
      "<_sre.SRE_Match object; span=(7152, 7163), match='789-555-703'>\n",
      "<_sre.SRE_Match object; span=(7243, 7254), match='783-555-513'>\n",
      "<_sre.SRE_Match object; span=(7336, 7347), match='315-555-650'>\n",
      "<_sre.SRE_Match object; span=(7427, 7438), match='481-555-583'>\n",
      "<_sre.SRE_Match object; span=(7515, 7526), match='365-555-828'>\n",
      "<_sre.SRE_Match object; span=(7607, 7618), match='911-555-753'>\n",
      "<_sre.SRE_Match object; span=(7693, 7704), match='681-555-246'>\n",
      "<_sre.SRE_Match object; span=(7779, 7790), match='274-555-980'>\n",
      "<_sre.SRE_Match object; span=(7864, 7875), match='800-555-137'>\n",
      "<_sre.SRE_Match object; span=(7953, 7964), match='300-555-782'>\n",
      "<_sre.SRE_Match object; span=(8043, 8054), match='133-555-388'>\n",
      "<_sre.SRE_Match object; span=(8129, 8140), match='705-555-686'>\n",
      "<_sre.SRE_Match object; span=(8218, 8229), match='215-555-944'>\n",
      "<_sre.SRE_Match object; span=(8309, 8320), match='988-555-611'>\n",
      "<_sre.SRE_Match object; span=(8395, 8406), match='623-555-300'>\n",
      "<_sre.SRE_Match object; span=(8479, 8490), match='192-555-497'>\n",
      "<_sre.SRE_Match object; span=(8564, 8575), match='178-555-489'>\n",
      "<_sre.SRE_Match object; span=(8648, 8659), match='952-555-308'>\n",
      "<_sre.SRE_Match object; span=(8741, 8752), match='900-555-642'>\n"
     ]
    }
   ],
   "source": [
    "# read data from file and find pattern\n",
    "\n",
    "with open('Phone_number.txt', 'r') as f:\n",
    "    contents = f.read()\n",
    "    matches = pattern.finditer(contents)\n",
    "\n",
    "    for match in matches:\n",
    "        print(match)"
   ]
  },
  {
   "cell_type": "markdown",
   "metadata": {},
   "source": [
    "### Quantifire"
   ]
  },
  {
   "cell_type": "code",
   "execution_count": 69,
   "metadata": {},
   "outputs": [
    {
     "name": "stdout",
     "output_type": "stream",
     "text": [
      "<_sre.SRE_Match object; span=(152, 164), match='321-555-4321'>\n",
      "<_sre.SRE_Match object; span=(165, 177), match='123.555.1234'>\n",
      "<_sre.SRE_Match object; span=(178, 190), match='123*555*1234'>\n",
      "<_sre.SRE_Match object; span=(191, 203), match='800.555.1234'>\n",
      "<_sre.SRE_Match object; span=(204, 216), match='900-555-1234'>\n"
     ]
    }
   ],
   "source": [
    "# same as d\\d\\d.\\d\\d\\d.\\d\\d\\d\n",
    "pattern = re.compile(r'\\d{3}.\\d{3}.\\d{4}')\n",
    "matches = pattern.finditer(text_to_search)\n",
    "\n",
    "for match in matches:\n",
    "    print(match)"
   ]
  },
  {
   "cell_type": "code",
   "execution_count": 4,
   "metadata": {},
   "outputs": [
    {
     "ename": "error",
     "evalue": "unterminated character set at position 7",
     "output_type": "error",
     "traceback": [
      "\u001b[0;31m---------------------------------------------------------------------------\u001b[0m",
      "\u001b[0;31merror\u001b[0m                                     Traceback (most recent call last)",
      "\u001b[0;32m<ipython-input-4-adff8feadc65>\u001b[0m in \u001b[0;36m<module>\u001b[0;34m()\u001b[0m\n\u001b[0;32m----> 1\u001b[0;31m \u001b[0mpattern\u001b[0m \u001b[0;34m=\u001b[0m \u001b[0mre\u001b[0m\u001b[0;34m.\u001b[0m\u001b[0mcompile\u001b[0m\u001b[0;34m(\u001b[0m\u001b[0;34mr'Mr\\.?\\s[A-Z\\w*'\u001b[0m\u001b[0;34m)\u001b[0m\u001b[0;34m\u001b[0m\u001b[0m\n\u001b[0m\u001b[1;32m      2\u001b[0m \u001b[0mmatches\u001b[0m \u001b[0;34m=\u001b[0m \u001b[0mpattern\u001b[0m\u001b[0;34m.\u001b[0m\u001b[0mfinditer\u001b[0m\u001b[0;34m(\u001b[0m\u001b[0mtext_to_search\u001b[0m\u001b[0;34m)\u001b[0m\u001b[0;34m\u001b[0m\u001b[0m\n\u001b[1;32m      3\u001b[0m \u001b[0;34m\u001b[0m\u001b[0m\n\u001b[1;32m      4\u001b[0m \u001b[0;32mfor\u001b[0m \u001b[0mmatch\u001b[0m \u001b[0;32min\u001b[0m \u001b[0mmatches\u001b[0m\u001b[0;34m:\u001b[0m\u001b[0;34m\u001b[0m\u001b[0m\n\u001b[1;32m      5\u001b[0m     \u001b[0mprint\u001b[0m\u001b[0;34m(\u001b[0m\u001b[0mmatch\u001b[0m\u001b[0;34m)\u001b[0m\u001b[0;34m\u001b[0m\u001b[0m\n",
      "\u001b[0;32m~/anaconda3/lib/python3.6/re.py\u001b[0m in \u001b[0;36mcompile\u001b[0;34m(pattern, flags)\u001b[0m\n\u001b[1;32m    231\u001b[0m \u001b[0;32mdef\u001b[0m \u001b[0mcompile\u001b[0m\u001b[0;34m(\u001b[0m\u001b[0mpattern\u001b[0m\u001b[0;34m,\u001b[0m \u001b[0mflags\u001b[0m\u001b[0;34m=\u001b[0m\u001b[0;36m0\u001b[0m\u001b[0;34m)\u001b[0m\u001b[0;34m:\u001b[0m\u001b[0;34m\u001b[0m\u001b[0m\n\u001b[1;32m    232\u001b[0m     \u001b[0;34m\"Compile a regular expression pattern, returning a pattern object.\"\u001b[0m\u001b[0;34m\u001b[0m\u001b[0m\n\u001b[0;32m--> 233\u001b[0;31m     \u001b[0;32mreturn\u001b[0m \u001b[0m_compile\u001b[0m\u001b[0;34m(\u001b[0m\u001b[0mpattern\u001b[0m\u001b[0;34m,\u001b[0m \u001b[0mflags\u001b[0m\u001b[0;34m)\u001b[0m\u001b[0;34m\u001b[0m\u001b[0m\n\u001b[0m\u001b[1;32m    234\u001b[0m \u001b[0;34m\u001b[0m\u001b[0m\n\u001b[1;32m    235\u001b[0m \u001b[0;32mdef\u001b[0m \u001b[0mpurge\u001b[0m\u001b[0;34m(\u001b[0m\u001b[0;34m)\u001b[0m\u001b[0;34m:\u001b[0m\u001b[0;34m\u001b[0m\u001b[0m\n",
      "\u001b[0;32m~/anaconda3/lib/python3.6/re.py\u001b[0m in \u001b[0;36m_compile\u001b[0;34m(pattern, flags)\u001b[0m\n\u001b[1;32m    299\u001b[0m     \u001b[0;32mif\u001b[0m \u001b[0;32mnot\u001b[0m \u001b[0msre_compile\u001b[0m\u001b[0;34m.\u001b[0m\u001b[0misstring\u001b[0m\u001b[0;34m(\u001b[0m\u001b[0mpattern\u001b[0m\u001b[0;34m)\u001b[0m\u001b[0;34m:\u001b[0m\u001b[0;34m\u001b[0m\u001b[0m\n\u001b[1;32m    300\u001b[0m         \u001b[0;32mraise\u001b[0m \u001b[0mTypeError\u001b[0m\u001b[0;34m(\u001b[0m\u001b[0;34m\"first argument must be string or compiled pattern\"\u001b[0m\u001b[0;34m)\u001b[0m\u001b[0;34m\u001b[0m\u001b[0m\n\u001b[0;32m--> 301\u001b[0;31m     \u001b[0mp\u001b[0m \u001b[0;34m=\u001b[0m \u001b[0msre_compile\u001b[0m\u001b[0;34m.\u001b[0m\u001b[0mcompile\u001b[0m\u001b[0;34m(\u001b[0m\u001b[0mpattern\u001b[0m\u001b[0;34m,\u001b[0m \u001b[0mflags\u001b[0m\u001b[0;34m)\u001b[0m\u001b[0;34m\u001b[0m\u001b[0m\n\u001b[0m\u001b[1;32m    302\u001b[0m     \u001b[0;32mif\u001b[0m \u001b[0;32mnot\u001b[0m \u001b[0;34m(\u001b[0m\u001b[0mflags\u001b[0m \u001b[0;34m&\u001b[0m \u001b[0mDEBUG\u001b[0m\u001b[0;34m)\u001b[0m\u001b[0;34m:\u001b[0m\u001b[0;34m\u001b[0m\u001b[0m\n\u001b[1;32m    303\u001b[0m         \u001b[0;32mif\u001b[0m \u001b[0mlen\u001b[0m\u001b[0;34m(\u001b[0m\u001b[0m_cache\u001b[0m\u001b[0;34m)\u001b[0m \u001b[0;34m>=\u001b[0m \u001b[0m_MAXCACHE\u001b[0m\u001b[0;34m:\u001b[0m\u001b[0;34m\u001b[0m\u001b[0m\n",
      "\u001b[0;32m~/anaconda3/lib/python3.6/sre_compile.py\u001b[0m in \u001b[0;36mcompile\u001b[0;34m(p, flags)\u001b[0m\n\u001b[1;32m    560\u001b[0m     \u001b[0;32mif\u001b[0m \u001b[0misstring\u001b[0m\u001b[0;34m(\u001b[0m\u001b[0mp\u001b[0m\u001b[0;34m)\u001b[0m\u001b[0;34m:\u001b[0m\u001b[0;34m\u001b[0m\u001b[0m\n\u001b[1;32m    561\u001b[0m         \u001b[0mpattern\u001b[0m \u001b[0;34m=\u001b[0m \u001b[0mp\u001b[0m\u001b[0;34m\u001b[0m\u001b[0m\n\u001b[0;32m--> 562\u001b[0;31m         \u001b[0mp\u001b[0m \u001b[0;34m=\u001b[0m \u001b[0msre_parse\u001b[0m\u001b[0;34m.\u001b[0m\u001b[0mparse\u001b[0m\u001b[0;34m(\u001b[0m\u001b[0mp\u001b[0m\u001b[0;34m,\u001b[0m \u001b[0mflags\u001b[0m\u001b[0;34m)\u001b[0m\u001b[0;34m\u001b[0m\u001b[0m\n\u001b[0m\u001b[1;32m    563\u001b[0m     \u001b[0;32melse\u001b[0m\u001b[0;34m:\u001b[0m\u001b[0;34m\u001b[0m\u001b[0m\n\u001b[1;32m    564\u001b[0m         \u001b[0mpattern\u001b[0m \u001b[0;34m=\u001b[0m \u001b[0;32mNone\u001b[0m\u001b[0;34m\u001b[0m\u001b[0m\n",
      "\u001b[0;32m~/anaconda3/lib/python3.6/sre_parse.py\u001b[0m in \u001b[0;36mparse\u001b[0;34m(str, flags, pattern)\u001b[0m\n\u001b[1;32m    853\u001b[0m \u001b[0;34m\u001b[0m\u001b[0m\n\u001b[1;32m    854\u001b[0m     \u001b[0;32mtry\u001b[0m\u001b[0;34m:\u001b[0m\u001b[0;34m\u001b[0m\u001b[0m\n\u001b[0;32m--> 855\u001b[0;31m         \u001b[0mp\u001b[0m \u001b[0;34m=\u001b[0m \u001b[0m_parse_sub\u001b[0m\u001b[0;34m(\u001b[0m\u001b[0msource\u001b[0m\u001b[0;34m,\u001b[0m \u001b[0mpattern\u001b[0m\u001b[0;34m,\u001b[0m \u001b[0mflags\u001b[0m \u001b[0;34m&\u001b[0m \u001b[0mSRE_FLAG_VERBOSE\u001b[0m\u001b[0;34m,\u001b[0m \u001b[0;36m0\u001b[0m\u001b[0;34m)\u001b[0m\u001b[0;34m\u001b[0m\u001b[0m\n\u001b[0m\u001b[1;32m    856\u001b[0m     \u001b[0;32mexcept\u001b[0m \u001b[0mVerbose\u001b[0m\u001b[0;34m:\u001b[0m\u001b[0;34m\u001b[0m\u001b[0m\n\u001b[1;32m    857\u001b[0m         \u001b[0;31m# the VERBOSE flag was switched on inside the pattern.  to be\u001b[0m\u001b[0;34m\u001b[0m\u001b[0;34m\u001b[0m\u001b[0m\n",
      "\u001b[0;32m~/anaconda3/lib/python3.6/sre_parse.py\u001b[0m in \u001b[0;36m_parse_sub\u001b[0;34m(source, state, verbose, nested)\u001b[0m\n\u001b[1;32m    414\u001b[0m     \u001b[0;32mwhile\u001b[0m \u001b[0;32mTrue\u001b[0m\u001b[0;34m:\u001b[0m\u001b[0;34m\u001b[0m\u001b[0m\n\u001b[1;32m    415\u001b[0m         itemsappend(_parse(source, state, verbose, nested + 1,\n\u001b[0;32m--> 416\u001b[0;31m                            not nested and not items))\n\u001b[0m\u001b[1;32m    417\u001b[0m         \u001b[0;32mif\u001b[0m \u001b[0;32mnot\u001b[0m \u001b[0msourcematch\u001b[0m\u001b[0;34m(\u001b[0m\u001b[0;34m\"|\"\u001b[0m\u001b[0;34m)\u001b[0m\u001b[0;34m:\u001b[0m\u001b[0;34m\u001b[0m\u001b[0m\n\u001b[1;32m    418\u001b[0m             \u001b[0;32mbreak\u001b[0m\u001b[0;34m\u001b[0m\u001b[0m\n",
      "\u001b[0;32m~/anaconda3/lib/python3.6/sre_parse.py\u001b[0m in \u001b[0;36m_parse\u001b[0;34m(source, state, verbose, nested, first)\u001b[0m\n\u001b[1;32m    521\u001b[0m                 \u001b[0;32mif\u001b[0m \u001b[0mthis\u001b[0m \u001b[0;32mis\u001b[0m \u001b[0;32mNone\u001b[0m\u001b[0;34m:\u001b[0m\u001b[0;34m\u001b[0m\u001b[0m\n\u001b[1;32m    522\u001b[0m                     raise source.error(\"unterminated character set\",\n\u001b[0;32m--> 523\u001b[0;31m                                        source.tell() - here)\n\u001b[0m\u001b[1;32m    524\u001b[0m                 \u001b[0;32mif\u001b[0m \u001b[0mthis\u001b[0m \u001b[0;34m==\u001b[0m \u001b[0;34m\"]\"\u001b[0m \u001b[0;32mand\u001b[0m \u001b[0mset\u001b[0m \u001b[0;34m!=\u001b[0m \u001b[0mstart\u001b[0m\u001b[0;34m:\u001b[0m\u001b[0;34m\u001b[0m\u001b[0m\n\u001b[1;32m    525\u001b[0m                     \u001b[0;32mbreak\u001b[0m\u001b[0;34m\u001b[0m\u001b[0m\n",
      "\u001b[0;31merror\u001b[0m: unterminated character set at position 7"
     ]
    }
   ],
   "source": [
    "pattern = re.compile(r'Mr\\.?\\s[A-Z\\w*')\n",
    "matches = pattern.finditer(text_to_search)\n",
    "\n",
    "for match in matches:\n",
    "    print(match)"
   ]
  },
  {
   "cell_type": "code",
   "execution_count": null,
   "metadata": {},
   "outputs": [],
   "source": []
  },
  {
   "cell_type": "code",
   "execution_count": null,
   "metadata": {},
   "outputs": [],
   "source": []
  },
  {
   "cell_type": "code",
   "execution_count": null,
   "metadata": {},
   "outputs": [],
   "source": []
  },
  {
   "cell_type": "code",
   "execution_count": null,
   "metadata": {},
   "outputs": [],
   "source": []
  },
  {
   "cell_type": "markdown",
   "metadata": {},
   "source": [
    "### 1. Pattern matching"
   ]
  },
  {
   "cell_type": "code",
   "execution_count": 1,
   "metadata": {},
   "outputs": [
    {
     "name": "stdout",
     "output_type": "stream",
     "text": [
      "Matched\n"
     ]
    }
   ],
   "source": [
    "import re\n",
    "\n",
    "date_data = '13/Feb/2019 I will go Canada'\n",
    "\n",
    "if re.match(r'\\d+/[a-zA-Z]+/\\d{4}', date_data):\n",
    "    print('Matched')\n",
    "else:\n",
    "    print('Mis matched')"
   ]
  },
  {
   "cell_type": "markdown",
   "metadata": {},
   "source": [
    "অর্থাৎ কোন স্ট্রিং এ যদি এই প্যাটার্ন থাকে থাকে তাহলে Matched দেখাবে "
   ]
  },
  {
   "cell_type": "markdown",
   "metadata": {},
   "source": [
    "যদি কোন প্যাটার্ন বার বার লাগে তাহলে ঐ pattern টা কোন একটা ভেরিয়েবল এ রাখতে হয় এর জন্য compile() method টা কল করতে হয় "
   ]
  },
  {
   "cell_type": "markdown",
   "metadata": {},
   "source": [
    "### 2. Compiling pattern"
   ]
  },
  {
   "cell_type": "code",
   "execution_count": 2,
   "metadata": {},
   "outputs": [
    {
     "name": "stdout",
     "output_type": "stream",
     "text": [
      "Matched\n"
     ]
    }
   ],
   "source": [
    "import re\n",
    "\n",
    "date_data = '13/Feb/2019 I will go Canada'\n",
    "date_pattern = re.compile(r'\\d+/[a-zA-Z]+/\\d{4}')\n",
    "\n",
    "if date_pattern.match(date_data):\n",
    "    print('Matched')\n",
    "else:\n",
    "    print('Mis matched')\n",
    "    "
   ]
  },
  {
   "cell_type": "markdown",
   "metadata": {},
   "source": [
    "একটি টেক্সট কতবার ম্যাচ করেছে সবগুলো যদি একসাথে নিয়ে আসতে চাই তাহলে findall() মেথড কল করতে হয় এবং এটা একটা লিস্ট রিটার্ন করে "
   ]
  },
  {
   "cell_type": "code",
   "execution_count": 3,
   "metadata": {},
   "outputs": [
    {
     "name": "stdout",
     "output_type": "stream",
     "text": [
      "['13/Feb/2019', '23/september/2019', '30/january/2017']\n"
     ]
    }
   ],
   "source": [
    "date_data = '13/Feb/2019 I will go Canada. 23/september/2019 in bangladesh. 30/january/2017 in Bangladesh'\n",
    "\n",
    "date_pattern = re.compile(r'\\d+/[a-zA-Z]+/\\d{4}')\n",
    "\n",
    "result = date_pattern.findall(date_data)\n",
    "\n",
    "print(result)\n"
   ]
  },
  {
   "cell_type": "markdown",
   "metadata": {},
   "source": [
    "### 3. Capture Group"
   ]
  },
  {
   "cell_type": "markdown",
   "metadata": {},
   "source": [
    "অনেক সময় দরকার হয় যে 13/Feb/2019 একসাথে capture করার পর আলাদা আলাদা ভাবে পার্ট গুলা capture করতে হয় তখন এদেরকে নিয়ে একটা গ্রুপ করা হয় । একেই বলে capture group"
   ]
  },
  {
   "cell_type": "code",
   "execution_count": 9,
   "metadata": {},
   "outputs": [
    {
     "name": "stdout",
     "output_type": "stream",
     "text": [
      "13/Feb/2019\n",
      "13\n",
      "Feb\n",
      "2019\n",
      "('13', 'Feb', '2019')\n",
      "Today's day is :  13\n"
     ]
    }
   ],
   "source": [
    "date_data = '13/Feb/2019 I will go Canada'\n",
    "date_pattern = re.compile(r'(\\d+)/([a-zA-Z]+)/(\\d{4})')\n",
    "\n",
    "result = date_pattern.match(date_data)\n",
    "\n",
    "for x in range(0,4):\n",
    "    print(result.group(x))\n",
    "\n",
    "print(result.groups(x))\n",
    "\n",
    "day,month,year = result.groups()\n",
    "print('Today\\'s day is : ',day)"
   ]
  },
  {
   "cell_type": "markdown",
   "metadata": {},
   "source": [
    "for loop এর মদ্ধে যখন group() মেথডের ভেতর ০ পাঠানো হয়েছে তখন পুরো group টা print হয়েছে । ১ নং পজিশনে ১৩, ২ নং পজিশনে Feb এভাবে বাকিগুলা ষ্টোর হয়েছে । আর এই মেথড একটা tuple রিটার্ন করে "
   ]
  },
  {
   "cell_type": "markdown",
   "metadata": {},
   "source": [
    "### 4. Raw String\n",
    "\n",
    "raw string এর জন্য যদি r না লিখতে চাই তাহলে escape character এর জন্য backslash(\\\\) ব্যাবহার করতে হয় "
   ]
  },
  {
   "cell_type": "code",
   "execution_count": 27,
   "metadata": {},
   "outputs": [
    {
     "name": "stdout",
     "output_type": "stream",
     "text": [
      "\tTab\n"
     ]
    }
   ],
   "source": [
    "tab = '\\tTab'\n",
    "print(tab)"
   ]
  },
  {
   "cell_type": "code",
   "execution_count": 28,
   "metadata": {},
   "outputs": [
    {
     "name": "stdout",
     "output_type": "stream",
     "text": [
      "\\tTab\n"
     ]
    }
   ],
   "source": [
    "tab = r'\\tTab'\n",
    "print(tab)"
   ]
  },
  {
   "cell_type": "markdown",
   "metadata": {},
   "source": [
    "### 5. Search and replace"
   ]
  },
  {
   "cell_type": "code",
   "execution_count": 11,
   "metadata": {},
   "outputs": [
    {
     "name": "stdout",
     "output_type": "stream",
     "text": [
      "After :  (2019-Feb-13) I will go Canada\n"
     ]
    }
   ],
   "source": [
    "import re\n",
    "\n",
    "date_data = '13/Feb/2019 I will go Canada'\n",
    "date_pattern = re.compile(r'(\\d+)/([a-zA-Z]+)/(\\d{4})')\n",
    "\n",
    "date_modify = date_pattern.sub(r'(\\3-\\2-\\1)',date_data)\n",
    "print('After : ',date_modify)"
   ]
  },
  {
   "cell_type": "markdown",
   "metadata": {},
   "source": [
    "sub() method টার ভেতরে \\3-\\2-\\1 দিয়ে বোঝানো হয়েছে যে ৩ নং group এর পর - বসবে ২ নং এর পর - বসবে এভাবে বাকিগুলা । এর জন্য অবশ্যই গ্রুপ করে নিতে হবে "
   ]
  },
  {
   "cell_type": "markdown",
   "metadata": {},
   "source": [
    "###  Capitalization of Capture group"
   ]
  },
  {
   "cell_type": "markdown",
   "metadata": {},
   "source": [
    "নিচের প্রোগ্রামটাতে capture format করে uppercase এ convert করা হয়েছে "
   ]
  },
  {
   "cell_type": "code",
   "execution_count": 14,
   "metadata": {},
   "outputs": [
    {
     "name": "stdout",
     "output_type": "stream",
     "text": [
      "After :  2019 FEB 13 I will go Canada\n"
     ]
    }
   ],
   "source": [
    "date_data = '13/Feb/2019 I will go Canada'\n",
    "date_pattern = re.compile(r'(\\d+)/([a-zA-Z]+)/(\\d{4})')\n",
    "\n",
    "def to_upper(m):\n",
    "    return '{} {} {}'.format(m.group(3),m.group(2).upper(),m.group(1))\n",
    "\n",
    "date_modify = date_pattern.sub(to_upper,date_data)\n",
    "\n",
    "print('After : ',date_modify)\n"
   ]
  },
  {
   "cell_type": "markdown",
   "metadata": {},
   "source": [
    "### 6. Case Insensitive search"
   ]
  },
  {
   "cell_type": "markdown",
   "metadata": {},
   "source": [
    "আমরা চাচ্ছি যে যখন কোন text search করা হবে তখন যেন case টা ignore করা হয় "
   ]
  },
  {
   "cell_type": "code",
   "execution_count": 16,
   "metadata": {},
   "outputs": [
    {
     "name": "stdout",
     "output_type": "stream",
     "text": [
      "['GOOD', 'good']\n",
      "I am bad, but I am Not very bad\n"
     ]
    }
   ],
   "source": [
    "import re\n",
    "\n",
    "text = 'I am GOOD, but I am Not very good'\n",
    "list = re.findall('good',text,flags=re.IGNORECASE)\n",
    "\n",
    "print(list)\n",
    "text1 = re.sub('gOOd','bad',text,flags=re.IGNORECASE)\n",
    "\n",
    "print(text1)"
   ]
  },
  {
   "cell_type": "markdown",
   "metadata": {},
   "source": [
    "### 7. Unicode characters"
   ]
  },
  {
   "cell_type": "code",
   "execution_count": 17,
   "metadata": {},
   "outputs": [
    {
     "name": "stdout",
     "output_type": "stream",
     "text": [
      "['1', '2', '3', '4']\n"
     ]
    }
   ],
   "source": [
    "num = re.compile(r'\\d')\n",
    "list = num.findall('1234 আমারদেশ বাংলাদেশ')\n",
    "print(list)"
   ]
  },
  {
   "cell_type": "code",
   "execution_count": 18,
   "metadata": {},
   "outputs": [
    {
     "name": "stdout",
     "output_type": "stream",
     "text": [
      "['1234']\n"
     ]
    }
   ],
   "source": [
    "num = re.compile(r'\\d+')\n",
    "list = num.findall('1234 আমারদেশ বাংলাদেশ')\n",
    "print(list)"
   ]
  },
  {
   "cell_type": "markdown",
   "metadata": {},
   "source": [
    "### 8. Strip unwanted middle space"
   ]
  },
  {
   "cell_type": "code",
   "execution_count": 22,
   "metadata": {},
   "outputs": [
    {
     "name": "stdout",
     "output_type": "stream",
     "text": [
      "Life is good\n"
     ]
    }
   ],
   "source": [
    "text = 'Life         is              good'\n",
    "textre = re.compile(r'\\s+')\n",
    "text = textre.sub(' ',text)\n",
    "\n",
    "print(text)"
   ]
  },
  {
   "cell_type": "code",
   "execution_count": 23,
   "metadata": {},
   "outputs": [
    {
     "name": "stdout",
     "output_type": "stream",
     "text": [
      "Life_is_good\n"
     ]
    }
   ],
   "source": [
    "text = 'Life         is              good'\n",
    "textre = re.compile(r'\\s+')\n",
    "text = textre.sub('_',text)\n",
    "\n",
    "print(text)"
   ]
  }
 ],
 "metadata": {
  "kernelspec": {
   "display_name": "Python 3",
   "language": "python",
   "name": "python3"
  },
  "language_info": {
   "codemirror_mode": {
    "name": "ipython",
    "version": 3
   },
   "file_extension": ".py",
   "mimetype": "text/x-python",
   "name": "python",
   "nbconvert_exporter": "python",
   "pygments_lexer": "ipython3",
   "version": "3.7.0"
  }
 },
 "nbformat": 4,
 "nbformat_minor": 2
}
