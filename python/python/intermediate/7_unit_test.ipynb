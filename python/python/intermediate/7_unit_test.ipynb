{
 "cells": [
  {
   "cell_type": "markdown",
   "metadata": {},
   "source": [
    "# Unit Test"
   ]
  },
  {
   "cell_type": "markdown",
   "metadata": {},
   "source": [
    "### Tropic:\n",
    "1. Class\n",
    "2. Function\n",
    "3. Running test\n",
    "4. Passed test\n",
    "5. Failed test"
   ]
  },
  {
   "cell_type": "markdown",
   "metadata": {},
   "source": [
    "TDD (Test driven development) এর মদ্ধে একটা popular testing হলো unit testing\n",
    "\n",
    "Unit testing টা হলো ধরা যাক আমার program এর ক্ষুদ্রতর অংশ যেমন ফাংশন বা ক্লাস এর মেথড গুলা ঠিক মতো কাজ করতেছে কিনা বা ঠিক মতো output দিচ্ছে কিনা সেটাই test করার পদ্ধতি । এই গুলাকে এক একটা unit হিশাবে চিন্তা করা যায় "
   ]
  },
  {
   "cell_type": "markdown",
   "metadata": {},
   "source": [
    "### কখন unit test করা হয় \n",
    "\n",
    "এমন হতে পারে যে একটা unexpected parameter এর সাপেক্ষে কি রেজাল্ট হতে পারে বা অনেকদিন আগে কাজ করা কোন software নিয়ে কাজ করি তাহলে দেখবো আমি নিজেই ভুলে গেছি বা অন্য কেউ software টা মডিফাই করেছে সেসব ক্ষেত্রে আসলে unit testing টা অনেক গুরুত্বপূর্ণ "
   ]
  },
  {
   "cell_type": "markdown",
   "metadata": {},
   "source": [
    "### ফাইলের নামকরণ \n",
    "file এর নাম file_test.py এভাবে লিখতে হয় ফাইলের নাম । ফাইলের নামের শেষে underscore দিয়ে তারপর test লিখতে হয় । এটা হচ্ছে conventional rule । তবে যে ফাইল টা test এর কাজে ব্যাবহার করা হচ্ছে সেটার শেষে _test.py দিতে হয় (conventional rule) "
   ]
  },
  {
   "cell_type": "code",
   "execution_count": 1,
   "metadata": {},
   "outputs": [],
   "source": [
    "# Package: msPack\n",
    "# Module: math.py\n",
    "\n",
    "def sum(a,b):\n",
    "    return a+b\n",
    "\n",
    "def subtract(a,b):\n",
    "    return a-b\n",
    "\n",
    "def multiplication(a,b):\n",
    "    return a*b\n",
    "\n",
    "def division(a,b):\n",
    "    return a/b\n",
    "\n"
   ]
  },
  {
   "cell_type": "code",
   "execution_count": 2,
   "metadata": {},
   "outputs": [],
   "source": [
    "# Package: msPack\n",
    "# Module: string.py\n",
    "\n",
    "class name:\n",
    "    def __init__(self,first,last):\n",
    "        self.first = first\n",
    "        self.last = last\n",
    "\n",
    "    def fullname(self):\n",
    "        return self.first+' '+self.last\n"
   ]
  },
  {
   "cell_type": "markdown",
   "metadata": {},
   "source": [
    "### Method testing"
   ]
  },
  {
   "cell_type": "code",
   "execution_count": null,
   "metadata": {},
   "outputs": [],
   "source": [
    "# Module: Unit_test\n",
    "\n",
    "import unittest\n",
    "from msPack import math\n",
    "from msPack import string\n",
    "\n",
    "class math_test_case(unittest.TestCase):\n",
    "    def test_sum(self):\n",
    "        sum = math.sum(8,12)\n",
    "        self.assertEqual(sum,20)\n",
    "\n",
    "if __name__ == '__main__':\n",
    "    unittest.main()\n"
   ]
  },
  {
   "cell_type": "markdown",
   "metadata": {},
   "source": [
    "এখানে test_sum() এই মেথডটার আগে যদি test_ না দেই তাহলে এই method টা রান ই করবে না । \n",
    "\n",
    "কোন method টেস্ট করতে গেলে ঐ method এর নামের আগে অবশ্যই test_ লিখতে হবে । \n",
    "\n",
    "assertEqual() মেথডটার কাজ হচ্ছে আমাদের expected valuer সাথে প্রোগ্রাম এর output মিল আছে কিনা সেটা যাচাই করে দেখে । true না হলে একটা error throw করবে "
   ]
  },
  {
   "cell_type": "markdown",
   "metadata": {},
   "source": [
    "if __name__ == '__main__':\n",
    "    unittest.main()\n",
    "\n",
    "এটার মানে হচ্ছে সহজ কথায় এই ফাইল এর TestCase class টা রান হবে । এভাবে বাকি মেথড গুলাও টেস্ট করা যায় ।"
   ]
  },
  {
   "cell_type": "markdown",
   "metadata": {},
   "source": [
    "### Class testing"
   ]
  },
  {
   "cell_type": "code",
   "execution_count": 7,
   "metadata": {},
   "outputs": [],
   "source": [
    "class stringTestCase(unittest.TestCase):\n",
    "    \n",
    "    def test_fullName(self):\n",
    "        result = string.name('Jahangir','alam').fullName()\n",
    "        selfassertEqual(result,'Jahangir alam')\n"
   ]
  },
  {
   "cell_type": "markdown",
   "metadata": {},
   "source": [
    "কোন method বা class টেস্ট করার আগে যদি কিছু রান করতে হয় তাহলে setUp() নামে একটা মেথড আছে যেটা কিনা যেকোনো মেথড টেস্ট করার আগে রান হয় ।  "
   ]
  },
  {
   "cell_type": "code",
   "execution_count": 8,
   "metadata": {},
   "outputs": [],
   "source": [
    "class stringTestCase(unittest.TestCase):\n",
    "    \n",
    "    def setUp(self):\n",
    "        self.str_obj = string.name('Jahangir','alam')\n",
    "    \n",
    "    def test_full_name(self):\n",
    "        name = self.str_obj.fullName()\n",
    "        selfassertEqual('Life Good',name)\n",
    "    \n",
    "    def test_full_name_length(self):\n",
    "        length = len(self.str_obj.fullName())\n",
    "    \n",
    "    def tearDown(self):\n",
    "        pass"
   ]
  },
  {
   "cell_type": "markdown",
   "metadata": {},
   "source": [
    "tearDown() সব সময় test এর শেষে রান হয় "
   ]
  },
  {
   "cell_type": "code",
   "execution_count": null,
   "metadata": {},
   "outputs": [],
   "source": []
  }
 ],
 "metadata": {
  "kernelspec": {
   "display_name": "Python 3",
   "language": "python",
   "name": "python3"
  },
  "language_info": {
   "codemirror_mode": {
    "name": "ipython",
    "version": 3
   },
   "file_extension": ".py",
   "mimetype": "text/x-python",
   "name": "python",
   "nbconvert_exporter": "python",
   "pygments_lexer": "ipython3",
   "version": "3.6.4"
  }
 },
 "nbformat": 4,
 "nbformat_minor": 2
}
