{
 "cells": [
  {
   "cell_type": "markdown",
   "metadata": {},
   "source": [
    "# String concatenation and formating"
   ]
  },
  {
   "cell_type": "markdown",
   "metadata": {},
   "source": [
    "#### join() Function"
   ]
  },
  {
   "cell_type": "code",
   "execution_count": 1,
   "metadata": {},
   "outputs": [
    {
     "name": "stdout",
     "output_type": "stream",
     "text": [
      "Hello there, jahangir\n",
      "Hello there, alim\n",
      "Hello there, manosh\n",
      "Hello there, imran\n"
     ]
    }
   ],
   "source": [
    "names = ['jahangir','alim','manosh','imran']\n",
    "\n",
    "for name in names:\n",
    "    print('Hello there, '+ name)"
   ]
  },
  {
   "cell_type": "markdown",
   "metadata": {},
   "source": [
    "String concatenation এর জন্য সাধারণত এভাবে লিখা হয় বোঝার সুবিধার জন্য কিন্তু প্রকৃতপক্ষে join() ফাংশন ব্যাবহার করা হয় "
   ]
  },
  {
   "cell_type": "code",
   "execution_count": 2,
   "metadata": {},
   "outputs": [
    {
     "name": "stdout",
     "output_type": "stream",
     "text": [
      "jahangir, alim, manosh, imran\n",
      "jahangir, alim, manosh, imran\n",
      "jahangir, alim, manosh, imran\n",
      "jahangir, alim, manosh, imran\n"
     ]
    }
   ],
   "source": [
    "for name in names:\n",
    "    print(', '.join(names))"
   ]
  },
  {
   "cell_type": "code",
   "execution_count": 3,
   "metadata": {},
   "outputs": [
    {
     "name": "stdout",
     "output_type": "stream",
     "text": [
      "jahangir, alim, manosh, imran\n"
     ]
    }
   ],
   "source": [
    "print(', '.join(names))"
   ]
  },
  {
   "cell_type": "code",
   "execution_count": 6,
   "metadata": {},
   "outputs": [
    {
     "name": "stdout",
     "output_type": "stream",
     "text": [
      "/home/jahangiralam/Documents/Git/python/Intermediate/hello.txt\n"
     ]
    }
   ],
   "source": [
    "location_of_file = '/home/jahangiralam/Documents/Git/python/Intermediate/'\n",
    "file_name = 'hello.txt'\n",
    "print(location_of_file+file_name)"
   ]
  },
  {
   "cell_type": "code",
   "execution_count": 7,
   "metadata": {},
   "outputs": [
    {
     "name": "stdout",
     "output_type": "stream",
     "text": [
      "Hello world\n",
      "\n"
     ]
    }
   ],
   "source": [
    "import os\n",
    "\n",
    "with open(os.path.join(location_of_file,file_name)) as f:\n",
    "    print(f.read())"
   ]
  },
  {
   "cell_type": "markdown",
   "metadata": {},
   "source": [
    "OS মডিউল এর মাদ্ধমে কোন ফাইল লোকেশন এক্সেস করা যায়"
   ]
  },
  {
   "cell_type": "markdown",
   "metadata": {},
   "source": [
    "#### format() function"
   ]
  },
  {
   "cell_type": "code",
   "execution_count": 12,
   "metadata": {},
   "outputs": [
    {
     "name": "stdout",
     "output_type": "stream",
     "text": [
      "jahangir bought 12 apples today\n",
      "jahangir bought 12 apples today\n"
     ]
    }
   ],
   "source": [
    "who = 'jahangir'\n",
    "how_many = 12\n",
    "\n",
    "#Wrong way\n",
    "print(who, 'bought', how_many, 'apples today')\n",
    "#Right way\n",
    "print('{0} bought {1} apples today'.format(who,how_many))"
   ]
  },
  {
   "cell_type": "code",
   "execution_count": 13,
   "metadata": {},
   "outputs": [
    {
     "name": "stdout",
     "output_type": "stream",
     "text": [
      "a, b, c \n"
     ]
    }
   ],
   "source": [
    "print('{}, {}, {} '.format('a','b','c'))"
   ]
  },
  {
   "cell_type": "code",
   "execution_count": 14,
   "metadata": {},
   "outputs": [
    {
     "name": "stdout",
     "output_type": "stream",
     "text": [
      "c, b, a\n"
     ]
    }
   ],
   "source": [
    "print('{2}, {1}, {0}'.format('a', 'b', 'c'))\n",
    "#Index can be repeated"
   ]
  },
  {
   "cell_type": "code",
   "execution_count": 15,
   "metadata": {},
   "outputs": [
    {
     "name": "stdout",
     "output_type": "stream",
     "text": [
      "c, b, a\n"
     ]
    }
   ],
   "source": [
    "#Unpacking argument sequence\n",
    "print('{2}, {1}, {0}'.format(*'abc'))"
   ]
  },
  {
   "cell_type": "code",
   "execution_count": null,
   "metadata": {},
   "outputs": [],
   "source": []
  }
 ],
 "metadata": {
  "kernelspec": {
   "display_name": "Python 3",
   "language": "python",
   "name": "python3"
  },
  "language_info": {
   "codemirror_mode": {
    "name": "ipython",
    "version": 3
   },
   "file_extension": ".py",
   "mimetype": "text/x-python",
   "name": "python",
   "nbconvert_exporter": "python",
   "pygments_lexer": "ipython3",
   "version": "3.6.4"
  }
 },
 "nbformat": 4,
 "nbformat_minor": 2
}
