{
 "cells": [
  {
   "cell_type": "markdown",
   "metadata": {},
   "source": [
    "# Files  [youtube link](https://www.youtube.com/channel/UCtHlgyUw0wLE5Ous9swfFlg) \n",
    "\n",
    "## Content\n",
    "1. Text data\n",
    "* Binary data\n",
    "* File existance\n",
    "* Temporary file\n",
    "* Physical serial port lib\n",
    "* serialize python object\n",
    "* CSV files\n",
    "* Json data"
   ]
  },
  {
   "cell_type": "markdown",
   "metadata": {},
   "source": [
    "## Reading full contents of a text file :\n",
    "\n",
    "ফাইল নিয়ে কাজ করার সময় `with` কি-ওয়ার্ড দিয়ে কাজ করতে হয় কারণ কাজ শেষে autometically file টা বন্ধ হয়ে যায় । অন্যথায় `finally` block এর মদ্ধে আলাদাভাবে কোড লিখে ফাইলটাকে ক্লোজ করতে হয় । "
   ]
  },
  {
   "cell_type": "code",
   "execution_count": 4,
   "metadata": {},
   "outputs": [
    {
     "name": "stdout",
     "output_type": "stream",
     "text": [
      "When you’re working with Python, you don’t need to import a library in order to read and write files.\n",
      "It’s handled natively in the language, albeit in a unique manner.\n",
      "\n"
     ]
    }
   ],
   "source": [
    "try :\n",
    "    with open('./files/file1.txt') as fobj:\n",
    "        content = fobj.read()\n",
    "        print(content)\n",
    "except Exception as e:\n",
    "    print('file error',e)"
   ]
  },
  {
   "cell_type": "markdown",
   "metadata": {},
   "source": [
    "### Reading list of lines ( line by line read করা )\n",
    "\n",
    "**Process - 1**"
   ]
  },
  {
   "cell_type": "code",
   "execution_count": 7,
   "metadata": {
    "scrolled": true
   },
   "outputs": [
    {
     "name": "stdout",
     "output_type": "stream",
     "text": [
      "1 WHEN YOU’RE WORKING WITH PYTHON, YOU DON’T NEED TO IMPORT A LIBRARY IN ORDER TO READ AND WRITE FILES.\n",
      "\n",
      "2 IT’S HANDLED NATIVELY IN THE LANGUAGE, ALBEIT IN A UNIQUE MANNER.\n",
      "\n"
     ]
    }
   ],
   "source": [
    "with open('./files/file1.txt') as fobj:\n",
    "    for num,line in enumerate(fobj):\n",
    "        print(num+1, line.upper())"
   ]
  },
  {
   "cell_type": "markdown",
   "metadata": {},
   "source": [
    "__Process - 2__"
   ]
  },
  {
   "cell_type": "code",
   "execution_count": 8,
   "metadata": {},
   "outputs": [
    {
     "name": "stdout",
     "output_type": "stream",
     "text": [
      "['When you’re working with Python, you don’t need to import a library in order to read and write files.\\n', 'It’s handled natively in the language, albeit in a unique manner.\\n']\n"
     ]
    }
   ],
   "source": [
    "with open('./files/file1.txt') as fobj:\n",
    "    lines = fobj.readlines()\n",
    "print(lines) # অথবা for লুপ দিয়ে আলাদা করে প্রিন্ট করা যায় "
   ]
  },
  {
   "cell_type": "markdown",
   "metadata": {},
   "source": [
    "__important flag :__\n",
    "\n",
    "w = write ( erase existing content if any )  \n",
    "a = append  \n",
    "r = read  ( default )  \n",
    "\n",
    "wt = write ( t is for text mode which is set by default )  \n",
    "at = append  \n",
    "rt = read  \n",
    "\n",
    "wb  ( `b` for binary file operation )  \n",
    "ab  \n",
    "rb  \n"
   ]
  },
  {
   "cell_type": "markdown",
   "metadata": {},
   "source": [
    "## Write\n",
    "\n",
    "`w` বা write mode এ কোন file open করলে ঐ নামে যদি কোন ফাইল থাকে তাহলে তাঁর কন্টেন্ট গুলা সব ডিলিট করে দেয় এবং নতুন কোন কিছু দিলে সেটা রাইট করে । আর যদি কোন ফাইল ঐ নামে না থাকে তাহলে ঐ নামে নতুন করে ফাইল টাকে ক্রিয়েট করে এবং ফাইলে কন্টেন্ট রাইট করে "
   ]
  },
  {
   "cell_type": "code",
   "execution_count": 10,
   "metadata": {},
   "outputs": [],
   "source": [
    "with open('./files/number.txt','w') as fobj:\n",
    "    fobj.write('1')\n",
    "    fobj.write('\\n')\n",
    "    fobj.write('656437')"
   ]
  },
  {
   "cell_type": "code",
   "execution_count": 11,
   "metadata": {},
   "outputs": [
    {
     "name": "stdout",
     "output_type": "stream",
     "text": [
      "When you’re working with Python, you don’t need to import a library in order to read and write files.\n",
      "It’s handled natively in the language, albeit in a unique manner.\n",
      "\n"
     ]
    }
   ],
   "source": [
    "with open('./files/file1.txt') as fobj:\n",
    "        content = fobj.read()\n",
    "        print(content)"
   ]
  },
  {
   "cell_type": "markdown",
   "metadata": {},
   "source": [
    "## Append"
   ]
  },
  {
   "cell_type": "code",
   "execution_count": 3,
   "metadata": {},
   "outputs": [],
   "source": [
    "with open('./files/append.txt', 'a') as fobj:\n",
    "    fobj.write('Life is good \\n')"
   ]
  },
  {
   "cell_type": "markdown",
   "metadata": {},
   "source": [
    "append দিয়ে ফাইল ওপেন করলে পুরতন টেক্সট এর সাথে নতুন টেক্সট অ্যাড হয় । আর যতবার রান করবো ততবারই অ্যাড হতে থাকবে ।  \n",
    "আর ঐ নামে কোন ফাইল না থাকলে নতুন করে ঐ নামে create হয় এবং টেক্সট অ্যাড হতে থাকে "
   ]
  },
  {
   "cell_type": "code",
   "execution_count": 4,
   "metadata": {},
   "outputs": [
    {
     "name": "stdout",
     "output_type": "stream",
     "text": [
      "this is append file.\n",
      "Life is good \n",
      "Life is good \n",
      "\n"
     ]
    }
   ],
   "source": [
    "with open('./files/append.txt') as fobj:\n",
    "        content = fobj.read()\n",
    "        print(content)"
   ]
  },
  {
   "cell_type": "markdown",
   "metadata": {},
   "source": [
    "## Binary data  \n",
    "\n",
    "__write a binary file to a file__"
   ]
  },
  {
   "cell_type": "code",
   "execution_count": 8,
   "metadata": {},
   "outputs": [],
   "source": [
    "with open('./files/binary','wb') as fobj:\n",
    "    fobj.write(b'Life is good')"
   ]
  },
  {
   "cell_type": "markdown",
   "metadata": {},
   "source": [
    "__read a binary data file__"
   ]
  },
  {
   "cell_type": "code",
   "execution_count": 10,
   "metadata": {},
   "outputs": [
    {
     "name": "stdout",
     "output_type": "stream",
     "text": [
      "Life is good\n"
     ]
    }
   ],
   "source": [
    "with open('./files/binary', 'rb') as fobj:\n",
    "    binary_data = fobj.read()\n",
    "    decoded_data = binary_data.decode('utf-8')\n",
    "    print(decoded_data)"
   ]
  },
  {
   "cell_type": "markdown",
   "metadata": {},
   "source": [
    "binary data write করতে গেলে text এর আগে `b` লিখতে হয় আর `utf-8` এ ডিকোড করতে হয় "
   ]
  },
  {
   "cell_type": "markdown",
   "metadata": {},
   "source": [
    "## Existance of a file\n",
    "নির্দিষ্ট কোন directory তে file exist করে কিনা সেটা check করার জন্য প্রথমে standard library থেকে OS Module টাকে import করতে হবে । এরপর OS.Path.exist() নামের একটা function আছে সেটা Call করবো । তাহলে সেই function টা True or False রিটার্ন করবে । "
   ]
  },
  {
   "cell_type": "code",
   "execution_count": 15,
   "metadata": {},
   "outputs": [
    {
     "name": "stdout",
     "output_type": "stream",
     "text": [
      "not exist\n"
     ]
    }
   ],
   "source": [
    "import os\n",
    "\n",
    "if os.path.exists('./files/article.txt'):\n",
    "    print('Yes, file exist')\n",
    "else:\n",
    "    print('not exist')"
   ]
  },
  {
   "cell_type": "markdown",
   "metadata": {},
   "source": [
    "## Temporary file\n",
    "\n",
    "ধরাযাক আমি চাচ্ছি যে কোন একটা temporary file এ কিছু text data রাখলাম তারপর প্রোগ্রাম চালিয়ে সেই ডেটাগুলা read করলাম । তারপর কাজ শেষে file টা destroy হয়ে যাবে । এই রকম ক্ষেত্রে temporary file ব্যবহৃত হয় । "
   ]
  },
  {
   "cell_type": "code",
   "execution_count": 20,
   "metadata": {},
   "outputs": [
    {
     "name": "stdout",
     "output_type": "stream",
     "text": [
      "e is cool.\n",
      "\n"
     ]
    }
   ],
   "source": [
    "from tempfile import TemporaryFile\n",
    "\n",
    "with TemporaryFile('w+') as fobj:\n",
    "    fobj.write('Life is cool.\\n')\n",
    "    fobj.seek(3) # seek to the beginning\n",
    "    data = fobj.read()\n",
    "    print(data)"
   ]
  },
  {
   "cell_type": "markdown",
   "metadata": {},
   "source": [
    "seek() মেথডের ভেতর যত সংখ্যা দেওয়া হবে ঠিক তত নম্বর লাইন থেকে রিড করা শুরু করবে  \n",
    "`w+` মানে same time read করবে আবার write করবে "
   ]
  },
  {
   "cell_type": "markdown",
   "metadata": {},
   "source": [
    "## pyserial serial port access library\n",
    "\n",
    "python দিয়ে যদি hardware device যেমন : robor, sensor এইধরনের device গুলো যদি system এর serial port দিয়ে access করতে চাই তাহলে `github` এর একটা library আছে যেটা দিয়ে এই কাজ গুলো করা যাবে  \n",
    "লাইব্রেরি :  https://github.com/pyserial/pyserial "
   ]
  },
  {
   "cell_type": "markdown",
   "metadata": {},
   "source": [
    "## serialize python object to a byte stream\n",
    "\n",
    "ধরা যাক, কোন প্রোগ্রাম এ dictionary data আছে । আমি চাচ্ছি যে ঐ ডাটা গুলো একটা ফাইল এ রাখতে এবং পুনরায় যখন retrive করা হবে তখন ডাটা গুলো হুবহু ঐ সিরিয়াল এই retrive হবে একে বলে data serialization.  \n",
    "পাইথনে এই কাজ টা করতে গেলে pickle library টা import করে নিতে হবে  \n",
    "\n",
    "এরপর যে ফাইল টাকে সেভ করবে সেটাকে `wb` mode এ অর্থাৎ আমরা চাই ফাইল টাকে বাইনারি ডাটা হিসেবে সেভ হবে  কারণ serialization মানেই হল byte stream এ convert হওয়া ।   \n",
    "\n",
    "তাই pickle লাইব্রেরির dumb() মেথড কল করে ঐ ডাটার অবজেক্ট এবং ফাইল এর অবজেক্ট পাছ করাতে হবে ।  "
   ]
  },
  {
   "cell_type": "code",
   "execution_count": 1,
   "metadata": {},
   "outputs": [
    {
     "name": "stdout",
     "output_type": "stream",
     "text": [
      "{'name': 'Ahsan', 'country': 'Bangladesh'}\n"
     ]
    }
   ],
   "source": [
    "import pickle\n",
    "\n",
    "dict_data = { 'name':'Ahsan', 'country':'Bangladesh' }\n",
    "\n",
    "with open('./files/serialize','wb') as fobj:\n",
    "    pickle.dump(dict_data,fobj)\n",
    "\n",
    "with open('./files/serialize','rb') as fobj:\n",
    "    dict_data = pickle.load(fobj)\n",
    "    print(dict_data)\n",
    "\n"
   ]
  },
  {
   "cell_type": "markdown",
   "metadata": {},
   "source": [
    "## CSV file write"
   ]
  },
  {
   "cell_type": "code",
   "execution_count": 15,
   "metadata": {},
   "outputs": [],
   "source": [
    "list_items = [['name','age','country'],\n",
    "             ['Bill gates',55,'us'], \n",
    "             ['Mark Zukerberg',34,'us'],\n",
    "             ['Swift',35,'canada']\n",
    "             ]\n",
    "\n",
    "import csv\n",
    "\n",
    "with open('./files/people.csv','w') as fobj:\n",
    "    fcsv = csv.writer(fobj)\n",
    "    fcsv.writerows(list_items)"
   ]
  },
  {
   "cell_type": "markdown",
   "metadata": {},
   "source": [
    "## CSV file read"
   ]
  },
  {
   "cell_type": "code",
   "execution_count": 16,
   "metadata": {},
   "outputs": [
    {
     "name": "stdout",
     "output_type": "stream",
     "text": [
      "0 name age\n",
      "1 Bill gates 55\n",
      "2 Mark Zukerberg 34\n",
      "3 Swift 35\n"
     ]
    }
   ],
   "source": [
    "import csv\n",
    "\n",
    "with open('./files/people.csv','r') as fobj:\n",
    "    fcsv = csv.reader(fobj)\n",
    "    \n",
    "    for i,row in enumerate(fcsv):\n",
    "        print(i,row[0],row[1])"
   ]
  },
  {
   "cell_type": "markdown",
   "metadata": {},
   "source": [
    "## JSON data Encode and Decode"
   ]
  },
  {
   "cell_type": "code",
   "execution_count": 18,
   "metadata": {},
   "outputs": [
    {
     "name": "stdout",
     "output_type": "stream",
     "text": [
      "json_encoded_str\n",
      "{'name': 'Bill gates', 'age': 55, 'country': 'us', 'is_retrived': True}\n"
     ]
    }
   ],
   "source": [
    "import json\n",
    "\n",
    "data = {\n",
    "    'name' : 'Bill gates',\n",
    "    'age' : 55,\n",
    "    'country' : 'us',\n",
    "    'is_retrived' : True\n",
    "}\n",
    "\n",
    "json_encoded_str = json.dumps(data)\n",
    "print('json_encoded_str')\n",
    "\n",
    "json_decode = json.loads(json_encoded_str)\n",
    "print(json_decode)"
   ]
  },
  {
   "cell_type": "markdown",
   "metadata": {},
   "source": [
    "json বা javascript object Notation হচ্ছে একটা common standard যে standard এ ডাটা লিখলে server থেকে client এ পাঠাচ্ছি অর্থাৎ brawser এ পাঠাচ্ছি আবার javascript use করে সেটা আবার website এ প্রিন্ট করলাম ইত্যাদি , এটা একটা কমন ফরমেট \n",
    "\n",
    "পাইথন দিয়ে সাধারণ ডাটা কে জেসন ফরমেট এ কনভার্ট করা যায় "
   ]
  },
  {
   "cell_type": "markdown",
   "metadata": {},
   "source": [
    "## Dumping Json data in file and load file\n",
    "\n",
    "আমরা যদি চাই জেসন ফরমেট এ কনভার্ট হওয়া ডাটা কোন ফাইল এ সেভ হবে এবং সেই ফাইল থেকে ডাটা retrive করবো তাহলে এই কোড টা ব্যাবহার করতে হবে "
   ]
  },
  {
   "cell_type": "code",
   "execution_count": 19,
   "metadata": {},
   "outputs": [
    {
     "name": "stdout",
     "output_type": "stream",
     "text": [
      "{'name': 'Bill Gates', 'age': 55, 'country': 'US', 'is_retrive': True}\n"
     ]
    }
   ],
   "source": [
    "data = {\n",
    "    'name' : 'Bill Gates',\n",
    "    'age' : 55,\n",
    "    'country' : 'US',\n",
    "    'is_retrive' : True\n",
    "}\n",
    "\n",
    "import json\n",
    "\n",
    "with open('./files/json_data.json', 'w') as fobj:\n",
    "    json.dump(data,fobj)\n",
    "\n",
    "with open('./files/json_data.json', 'r') as fobj:\n",
    "    json_data = json.load(fobj)\n",
    "    print(json_data)"
   ]
  },
  {
   "cell_type": "code",
   "execution_count": null,
   "metadata": {},
   "outputs": [],
   "source": []
  }
 ],
 "metadata": {
  "kernelspec": {
   "display_name": "Python 3",
   "language": "python",
   "name": "python3"
  },
  "language_info": {
   "codemirror_mode": {
    "name": "ipython",
    "version": 3
   },
   "file_extension": ".py",
   "mimetype": "text/x-python",
   "name": "python",
   "nbconvert_exporter": "python",
   "pygments_lexer": "ipython3",
   "version": "3.7.0"
  }
 },
 "nbformat": 4,
 "nbformat_minor": 2
}
