{
 "cells": [
  {
   "cell_type": "code",
   "execution_count": 3,
   "metadata": {},
   "outputs": [
    {
     "name": "stderr",
     "output_type": "stream",
     "text": [
      "usage: ipykernel_launcher.py [-h] [--x X] [--y Y] [--operation OPERATION]\n",
      "ipykernel_launcher.py: error: unrecognized arguments: -f /run/user/1000/jupyter/kernel-4c03b503-d892-47bb-87f9-b216e96a5710.json\n"
     ]
    },
    {
     "ename": "SystemExit",
     "evalue": "2",
     "output_type": "error",
     "traceback": [
      "An exception has occurred, use %tb to see the full traceback.\n",
      "\u001b[0;31mSystemExit\u001b[0m\u001b[0;31m:\u001b[0m 2\n"
     ]
    },
    {
     "name": "stderr",
     "output_type": "stream",
     "text": [
      "/home/jahangiralam/anaconda3/lib/python3.6/site-packages/IPython/core/interactiveshell.py:2918: UserWarning: To exit: use 'exit', 'quit', or Ctrl-D.\n",
      "  warn(\"To exit: use 'exit', 'quit', or Ctrl-D.\", stacklevel=1)\n"
     ]
    }
   ],
   "source": [
    "import argparse\n",
    "import sys\n",
    "\n",
    "def main():\n",
    "    parser = argparse.ArgumentParser()\n",
    "    parser.add_argument('--x', type=float, default=1.0,\n",
    "                        help='What is the first number?')\n",
    "    parser.add_argument('--y', type=float, default=1.0,\n",
    "                        help='What is the second number?')\n",
    "    parser.add_argument('--operation', type=str, default='add',\n",
    "                        help='What operation? Can choose add, sub, mul, or div')\n",
    "    args = parser.parse_args()\n",
    "    sys.stdout.write(str(calc(args)))\n",
    "    \n",
    "def calc(args):\n",
    "    if args.operation == 'add':\n",
    "        return args.x + args.y\n",
    "    elif args.operation == 'sub':\n",
    "        return args.x - args.y\n",
    "    elif args.operation == 'mul':\n",
    "        return args.x * args.y\n",
    "    elif args.operation == 'div':\n",
    "        return args.x / args.y\n",
    "\n",
    "if __name__ == '__main__':\n",
    "    main()"
   ]
  },
  {
   "cell_type": "markdown",
   "metadata": {},
   "source": [
    "এই কোডটা টার্মিনালে রান করতে হয় । তখন এই ফাইলটার ফাংশন গুলোর কিছু ইনফরমেশন পাওয়া যাবে"
   ]
  },
  {
   "cell_type": "markdown",
   "metadata": {},
   "source": [
    "python < fileName > -h এই কমান্ড টা দিলে কোন আর্গুমেন্ট এর কি কাজ কোন অপারেশন এর কি কাজ সেগুলা দেখায় "
   ]
  },
  {
   "cell_type": "markdown",
   "metadata": {},
   "source": [
    "python < fileName > --x=3 --y=7 --operation=mul এটা দিলে আউটপুট এ ২১ দেখাবে "
   ]
  },
  {
   "cell_type": "markdown",
   "metadata": {},
   "source": [
    "টার্মিনালে রান করার সময় python < fileName > এটা দিয়ে রান করলে python2 তে রান হয় আর python3 < fileName > এটা দিয়ে রান করলে python3 তে রান হয় ফাইল টা "
   ]
  },
  {
   "cell_type": "code",
   "execution_count": null,
   "metadata": {},
   "outputs": [],
   "source": []
  }
 ],
 "metadata": {
  "kernelspec": {
   "display_name": "Python 3",
   "language": "python",
   "name": "python3"
  },
  "language_info": {
   "codemirror_mode": {
    "name": "ipython",
    "version": 3
   },
   "file_extension": ".py",
   "mimetype": "text/x-python",
   "name": "python",
   "nbconvert_exporter": "python",
   "pygments_lexer": "ipython3",
   "version": "3.6.4"
  }
 },
 "nbformat": 4,
 "nbformat_minor": 2
}
