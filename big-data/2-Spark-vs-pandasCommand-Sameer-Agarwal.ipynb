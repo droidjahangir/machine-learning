{
 "cells": [
  {
   "cell_type": "markdown",
   "metadata": {},
   "source": [
    "# [SparkSQL: A Compiler from Queries to RDDs: Spark Summit East talk by Sameer Agarwal](https://www.youtube.com/watch?v=AoVmgzontXo)"
   ]
  },
  {
   "cell_type": "markdown",
   "metadata": {},
   "source": [
    "![data wrangling with pyspark](./images/data-wrangling-pyspark-andrewRay-1.png)\n",
    "![data wrangling with pyspark](./images/data-wrangling-pyspark-andrewRay-2.png)\n",
    "![data wrangling with pyspark](./images/data-wrangling-pyspark-andrewRay-3.png)\n",
    "![data wrangling with pyspark](./images/data-wrangling-pyspark-andrewRay-4.png)\n",
    "![data wrangling with pyspark](./images/data-wrangling-pyspark-andrewRay-5.png)\n",
    "![data wrangling with pyspark](./images/data-wrangling-pyspark-andrewRay-6.png)\n",
    "\n",
    "__`immutable` মানে হচ্ছে কোন ডাটাফ্রেম যখন পরিবর্তন করা হয় তখন মেইন ডাটাফ্রেমের নতুন একটা রেফারেন্স ক্রিয়েট হয়, মেইন ডাটাফ্রেম পরিবর্তন হয় না__\n",
    "\n",
    "\n",
    "\n",
    "![data wrangling with pyspark](./images/data-wrangling-pyspark-andrewRay-7.png)\n",
    "![data wrangling with pyspark](./images/data-wrangling-pyspark-andrewRay-8.png)\n",
    "![data wrangling with pyspark](./images/data-wrangling-pyspark-andrewRay-9.png)\n",
    "![data wrangling with pyspark](./images/data-wrangling-pyspark-andrewRay-10.png)\n",
    "![data wrangling with pyspark](./images/data-wrangling-pyspark-andrewRay-11.png)\n",
    "![data wrangling with pyspark](./images/data-wrangling-pyspark-andrewRay-12.png)\n",
    "![data wrangling with pyspark](./images/data-wrangling-pyspark-andrewRay-13.png)\n",
    "![data wrangling with pyspark](./images/data-wrangling-pyspark-andrewRay-14.png)\n",
    "\n",
    "__rename করলে নতুন একটা অবজেক্ট তৈরি করে সেখানে রিনেম করবে কিন্তু মেইন ডাটাফ্রেমের কোন পরিবর্তন আসবে না__\n",
    "\n",
    "\n",
    "\n",
    "\n",
    "\n",
    "![data wrangling with pyspark](./images/data-wrangling-pyspark-andrewRay-15.png)\n",
    "![data wrangling with pyspark](./images/data-wrangling-pyspark-andrewRay-16.png)\n",
    "![data wrangling with pyspark](./images/data-wrangling-pyspark-andrewRay-17.png)\n",
    "![data wrangling with pyspark](./images/data-wrangling-pyspark-andrewRay-18.png)\n",
    "![data wrangling with pyspark](./images/data-wrangling-pyspark-andrewRay-19.png)\n",
    "![data wrangling with pyspark](./images/data-wrangling-pyspark-andrewRay-20.png)\n",
    "![data wrangling with pyspark](./images/data-wrangling-pyspark-andrewRay-21.png)\n",
    "![data wrangling with pyspark](./images/data-wrangling-pyspark-andrewRay-22.png)\n",
    "![data wrangling with pyspark](./images/data-wrangling-pyspark-andrewRay-23.png)\n",
    "![data wrangling with pyspark](./images/data-wrangling-pyspark-andrewRay-24.png)\n",
    "![data wrangling with pyspark](./images/data-wrangling-pyspark-andrewRay-25.png)\n",
    "\n",
    "\n",
    "\n",
    "### pysprk best practice\n",
    "\n",
    "\n",
    "![data wrangling with pyspark](./images/data-wrangling-pyspark-andrewRay-26.png)\n",
    "![data wrangling with pyspark](./images/data-wrangling-pyspark-andrewRay-27.png)\n",
    "![data wrangling with pyspark](./images/data-wrangling-pyspark-andrewRay-28.png)\n",
    "![data wrangling with pyspark](./images/data-wrangling-pyspark-andrewRay-29.png)\n",
    "![data wrangling with pyspark](./images/data-wrangling-pyspark-andrewRay-30.png)\n",
    "![data wrangling with pyspark](./images/data-wrangling-pyspark-andrewRay-31.png)\n",
    "![data wrangling with pyspark](./images/data-wrangling-pyspark-andrewRay-32.png)\n",
    "![data wrangling with pyspark](./images/data-wrangling-pyspark-andrewRay-33.png)\n",
    "![data wrangling with pyspark](./images/data-wrangling-pyspark-andrewRay-34.png)\n",
    "![data wrangling with pyspark](./images/data-wrangling-pyspark-andrewRay-35.png)\n",
    "![data wrangling with pyspark](./images/data-wrangling-pyspark-andrewRay-36.png)\n",
    "![data wrangling with pyspark](./images/data-wrangling-pyspark-andrewRay-37.png)\n",
    "![data wrangling with pyspark](./images/data-wrangling-pyspark-andrewRay-38.png)\n",
    "![data wrangling with pyspark](./images/data-wrangling-pyspark-andrewRay-39.png)\n",
    "![data wrangling with pyspark](./images/data-wrangling-pyspark-andrewRay-40.png)\n",
    "![data wrangling with pyspark](./images/data-wrangling-pyspark-andrewRay-41.png)\n",
    "![data wrangling with pyspark](./images/data-wrangling-pyspark-andrewRay-42.png)\n",
    "![data wrangling with pyspark](./images/data-wrangling-pyspark-andrewRay-43.png)\n",
    "![data wrangling with pyspark](./images/data-wrangling-pyspark-andrewRay-44.png)\n",
    "![data wrangling with pyspark](./images/data-wrangling-pyspark-andrewRay-45.png)"
   ]
  },
  {
   "cell_type": "code",
   "execution_count": null,
   "metadata": {},
   "outputs": [],
   "source": []
  }
 ],
 "metadata": {
  "kernelspec": {
   "display_name": "Python 3",
   "language": "python",
   "name": "python3"
  },
  "language_info": {
   "codemirror_mode": {
    "name": "ipython",
    "version": 3
   },
   "file_extension": ".py",
   "mimetype": "text/x-python",
   "name": "python",
   "nbconvert_exporter": "python",
   "pygments_lexer": "ipython3",
   "version": "3.7.0"
  }
 },
 "nbformat": 4,
 "nbformat_minor": 2
}
