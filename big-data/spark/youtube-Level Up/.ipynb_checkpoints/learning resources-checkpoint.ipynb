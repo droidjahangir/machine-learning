{
 "cells": [
  {
   "cell_type": "markdown",
   "metadata": {},
   "source": [
    "1. [quora - Is there any free project on big data and Hadoop, which I can download and do practice?](https://www.quora.com/Is-there-any-free-project-on-big-data-and-Hadoop-which-I-can-download-and-do-practice?fbclid=IwAR3ddDP05h0NwOi0kwVV-XcjR7e7eI-IFWhuhvKoJC0dTc8kYRTZvPOwa7g)\n",
    "\n",
    "2. [infoq - Big Data Processing with Apache Spark – Part 1: Introduction](https://www.infoq.com/articles/apache-spark-introduction?fbclid=IwAR1B57eaZ3XzFoV71eaL24jfQjPOxDeSfHngycpiSfgva6rmh9NjWmwv9Aw)\n",
    "\n",
    "3. [data flair - What is Spark – Apache Spark Tutorial for Beginners](https://data-flair.training/blogs/what-is-spark/?fbclid=IwAR3H5aYpsRK9xLznv9RxGqhNLVq_Fini_Fwqc0VD5Q9uuwq7Yi7UbbcoOeU)\n",
    "\n",
    "4. [edureka - Spark Tutorial: Real Time Cluster Computing Framework](https://www.edureka.co/blog/spark-tutorial/?fbclid=IwAR2Ke0y5vhgV4iTylcPgZyniQvEH4D4VWIH4Bb0fYnZwtkrKBVdi5yZI9ZA)\n",
    "\n",
    "5. [dzone - 5 Interesting Big Data Projects ](https://dzone.com/articles/benchmarking-elasticsearch-with-rally?fbclid=IwAR3ddDP05h0NwOi0kwVV-XcjR7e7eI-IFWhuhvKoJC0dTc8kYRTZvPOwa7g)\n",
    "\n",
    "6. [youtube - levelup- Apache Spark Tutorial | Spark tutorial | Python Spark](https://www.youtube.com/watch?v=IQfG0faDrzE&t=1065s)\n",
    "\n",
    "7. [youtube - edureka - Pyspark Tutorial | Introduction to Apache Spark with Python | PySpark Training | Edureka](https://www.youtube.com/watch?v=PRzSWWsyHZg&t=143s)\n"
   ]
  },
  {
   "cell_type": "code",
   "execution_count": null,
   "metadata": {},
   "outputs": [],
   "source": []
  }
 ],
 "metadata": {
  "kernelspec": {
   "display_name": "Python 3",
   "language": "python",
   "name": "python3"
  },
  "language_info": {
   "codemirror_mode": {
    "name": "ipython",
    "version": 3
   },
   "file_extension": ".py",
   "mimetype": "text/x-python",
   "name": "python",
   "nbconvert_exporter": "python",
   "pygments_lexer": "ipython3",
   "version": "3.7.0"
  }
 },
 "nbformat": 4,
 "nbformat_minor": 2
}
