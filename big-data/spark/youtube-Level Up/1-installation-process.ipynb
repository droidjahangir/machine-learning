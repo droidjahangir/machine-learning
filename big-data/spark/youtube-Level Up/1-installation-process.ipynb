{
 "cells": [
  {
   "cell_type": "markdown",
   "metadata": {},
   "source": [
    "# [Apache Spark Tutorial | Spark tutorial | Python Spark](https://www.youtube.com/watch?v=IQfG0faDrzE&t=626s)"
   ]
  },
  {
   "cell_type": "markdown",
   "metadata": {},
   "source": [
    "### java jdk install\n",
    "\n",
    "\n",
    "__প্রথমে জাভা jdk download করতে হবে এর পর নিচের কমান্ড গুলো চালাতে হবে__\n",
    "\n",
    "![install java jdk](./images/1-install-java-jdk.png)\n",
    "![install java jdk](./images/2-install-java-jdk.png)\n",
    "![install java jdk](./images/3-install-java-jdk.png)\n",
    "![install java jdk](./images/4-install-java-jdk.png)"
   ]
  },
  {
   "cell_type": "markdown",
   "metadata": {},
   "source": [
    "### Git install\n",
    "এরপর গিট ইন্সটল না থাকলে ইন্সটল করে নিতে হবে\n",
    "\n",
    "\n",
    "### Apache spark install\n",
    "google এ সার্চ দিয়ে apache spark এর সাইট থেকে ডাউনলোড করে নিচের কমান্ডগুলো চালাতে হবে   \n",
    "![spark installation](./images/5-spark.png)\n",
    "![spark installation](./images/6-spark.png)\n",
    "![spark installation](./images/7-spark.png)\n",
    "\n",
    "এর পর `pyspark` লিখে enter দিলেই চালু হয়ে যাবে "
   ]
  },
  {
   "cell_type": "code",
   "execution_count": null,
   "metadata": {},
   "outputs": [],
   "source": []
  }
 ],
 "metadata": {
  "kernelspec": {
   "display_name": "Python 3",
   "language": "python",
   "name": "python3"
  },
  "language_info": {
   "codemirror_mode": {
    "name": "ipython",
    "version": 3
   },
   "file_extension": ".py",
   "mimetype": "text/x-python",
   "name": "python",
   "nbconvert_exporter": "python",
   "pygments_lexer": "ipython3",
   "version": "3.7.0"
  }
 },
 "nbformat": 4,
 "nbformat_minor": 2
}
