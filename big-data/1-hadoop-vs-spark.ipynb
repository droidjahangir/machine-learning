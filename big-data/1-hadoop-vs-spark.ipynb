{
 "cells": [
  {
   "cell_type": "markdown",
   "metadata": {},
   "source": [
    "# [Hadoop vs Spark | Which One to Choose? | Hadoop Training | Spark Training | Edureka](https://www.youtube.com/watch?v=xDpvyu0w0C8&t=236s)"
   ]
  },
  {
   "cell_type": "markdown",
   "metadata": {},
   "source": [
    "![hadoop vs spark](./images/hadoop-vs-spark-1.png)\n",
    "![hadoop vs spark](./images/hadoop-vs-spark-2.png)\n",
    "![hadoop vs spark](./images/hadoop-vs-spark-3.png)\n",
    "![hadoop vs spark](./images/hadoop-vs-spark-4.png)\n",
    "![hadoop vs spark](./images/hadoop-vs-spark-5.png)\n",
    "![hadoop vs spark](./images/hadoop-vs-spark-6.png)\n",
    "![hadoop vs spark](./images/hadoop-vs-spark-7.png)\n",
    "![hadoop vs spark](./images/hadoop-vs-spark-8.png)\n",
    "![hadoop vs spark](./images/hadoop-vs-spark-9.png)\n",
    "![hadoop vs spark](./images/hadoop-vs-spark-10.png)"
   ]
  },
  {
   "cell_type": "code",
   "execution_count": null,
   "metadata": {},
   "outputs": [],
   "source": []
  }
 ],
 "metadata": {
  "kernelspec": {
   "display_name": "Python 3",
   "language": "python",
   "name": "python3"
  },
  "language_info": {
   "codemirror_mode": {
    "name": "ipython",
    "version": 3
   },
   "file_extension": ".py",
   "mimetype": "text/x-python",
   "name": "python",
   "nbconvert_exporter": "python",
   "pygments_lexer": "ipython3",
   "version": "3.7.0"
  }
 },
 "nbformat": 4,
 "nbformat_minor": 2
}
