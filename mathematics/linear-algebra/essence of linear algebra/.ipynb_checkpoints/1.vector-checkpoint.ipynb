{
 "cells": [
  {
   "cell_type": "markdown",
   "metadata": {},
   "source": [
    "# Vectors, what even are they? | Essence of linear algebra, chapter 1"
   ]
  },
  {
   "cell_type": "markdown",
   "metadata": {},
   "source": [
    "the physics student perspective is that vectors are arrows pointing in space. Vector is its length and the direction it's pointing in.It can move all around and it's still the same vector\n",
    "\n",
    "The computer science perspective is that vectors are ordered lists of numbers.\n",
    "\n",
    "The mathematicians perspective is that a vector can be anything where there's a sensible notation of adding two vectors and multiplying vector by a number, operatios."
   ]
  },
  {
   "cell_type": "markdown",
   "metadata": {},
   "source": [
    "![vectors1](./images/vectors1.png)"
   ]
  },
  {
   "cell_type": "markdown",
   "metadata": {},
   "source": [
    "### Computer science perspective :\n",
    "![cs](./images/vectors2.png)"
   ]
  },
  {
   "cell_type": "markdown",
   "metadata": {},
   "source": [
    "### Mathematics perspective :\n",
    "![math](./images/vectors3.png)"
   ]
  },
  {
   "cell_type": "markdown",
   "metadata": {},
   "source": [
    "This is little bit different from the physics student perspective where vectors can freely sit anywhere they want in space.\n",
    "\n",
    "In linear algebra, it's almost always the case that your vector will be rooted at the origin. \n",
    "\n",
    "![physicsVsMath](./images/vectors4.png)"
   ]
  },
  {
   "cell_type": "markdown",
   "metadata": {},
   "source": [
    "### Vector addition :\n",
    "![addition](./images/vectors5.png)\n",
    "![addition2](./images/vectors6.png)"
   ]
  },
  {
   "cell_type": "markdown",
   "metadata": {},
   "source": [
    "### Scaling \n",
    "\n",
    "2,1/3,1.8,.......\n",
    "![scaling](./images/vectors7.png)"
   ]
  },
  {
   "cell_type": "markdown",
   "metadata": {},
   "source": [
    "## Multiplication :\n",
    "![multiplication](./images/vectors8.png)"
   ]
  },
  {
   "cell_type": "markdown",
   "metadata": {},
   "source": []
  }
 ],
 "metadata": {
  "kernelspec": {
   "display_name": "Python 3",
   "language": "python",
   "name": "python3"
  },
  "language_info": {
   "codemirror_mode": {
    "name": "ipython",
    "version": 3
   },
   "file_extension": ".py",
   "mimetype": "text/x-python",
   "name": "python",
   "nbconvert_exporter": "python",
   "pygments_lexer": "ipython3",
   "version": "3.7.0"
  }
 },
 "nbformat": 4,
 "nbformat_minor": 2
}
