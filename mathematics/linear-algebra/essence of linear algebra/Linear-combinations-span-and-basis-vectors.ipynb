{
 "cells": [
  {
   "cell_type": "markdown",
   "metadata": {},
   "source": [
    "# Linear combinations, span, and basis vectors | Essence of linear algebra, chapter 2\n",
    "\n",
    "### (-5)i + (2)j ---->\n",
    "\n",
    "![combination](./images/combinations1.png)"
   ]
  },
  {
   "cell_type": "markdown",
   "metadata": {},
   "source": [
    "any time that you're scaling two vectors and adding them like this, it's called a linear combination of those two vectors.\n",
    "![Linear combination](./images/combinations2.png)"
   ]
  },
  {
   "cell_type": "markdown",
   "metadata": {},
   "source": [
    "If you fix one of those scalars and let the other one change it's value freely, the tip of the resulting vector draws a straight line.\n",
    "![Linear combination](./images/combinations3.png)"
   ]
  },
  {
   "cell_type": "markdown",
   "metadata": {},
   "source": [
    "Now if you let both scalars range freely and consider every possible velctor that you can get there are two things that can happen :\n",
    "\n",
    "For most pairs of vectors, you'll be able to reach every possible point in the plane;\n",
    "\n",
    "every two-dimensional vector is within your grasp.\n",
    "\n",
    "however, in the unlucky case where your two original vectors happen to line up,\n",
    "![Linear combination](./images/combinations4.png)"
   ]
  },
  {
   "cell_type": "markdown",
   "metadata": {},
   "source": [
    "the tip of the resulting vector is limited to just this single line passing through the origin\n",
    "![combinations](./images/combinations5.png)"
   ]
  },
  {
   "cell_type": "markdown",
   "metadata": {},
   "source": [
    "Actually, technically there's a third possibility too: both your vectors could be zero, in which case you'd just be stuck at the origin.\n",
    "\n",
    "The set of all possible vectors that you can reach with a linear combination of a given pair of vectors is called the span of those two vectors.\n",
    "so, their span is the collection of all possible linear combinations of those two vectors.\n",
    "![combinations6](./images/combinations6.png)"
   ]
  },
  {
   "cell_type": "code",
   "execution_count": null,
   "metadata": {},
   "outputs": [],
   "source": []
  }
 ],
 "metadata": {
  "kernelspec": {
   "display_name": "Python 3",
   "language": "python",
   "name": "python3"
  },
  "language_info": {
   "codemirror_mode": {
    "name": "ipython",
    "version": 3
   },
   "file_extension": ".py",
   "mimetype": "text/x-python",
   "name": "python",
   "nbconvert_exporter": "python",
   "pygments_lexer": "ipython3",
   "version": "3.7.0"
  }
 },
 "nbformat": 4,
 "nbformat_minor": 2
}
