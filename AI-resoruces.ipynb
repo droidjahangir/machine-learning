{
 "cells": [
  {
   "cell_type": "markdown",
   "metadata": {},
   "source": [
    "# Article :\n",
    "\n",
    "* [Making a Simple Neural Network - becoming human](https://becominghuman.ai/making-a-simple-neural-network-2ea1de81ec20)\n",
    "* [Google will beat Apple at its own game with superior AI - becoming human](https://becominghuman.ai/google-will-beat-apple-at-its-own-game-with-superior-ai-534ab3ada949)\n",
    "* [The AI Job Wars: Episode I - becoming human](https://becominghuman.ai/the-ai-job-wars-episode-i-c18e932ff225)"
   ]
  },
  {
   "cell_type": "code",
   "execution_count": null,
   "metadata": {},
   "outputs": [],
   "source": []
  }
 ],
 "metadata": {
  "kernelspec": {
   "display_name": "Python 3",
   "language": "python",
   "name": "python3"
  },
  "language_info": {
   "codemirror_mode": {
    "name": "ipython",
    "version": 3
   },
   "file_extension": ".py",
   "mimetype": "text/x-python",
   "name": "python",
   "nbconvert_exporter": "python",
   "pygments_lexer": "ipython3",
   "version": "3.7.0"
  }
 },
 "nbformat": 4,
 "nbformat_minor": 2
}
